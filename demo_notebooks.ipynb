{
 "cells": [
  {
   "cell_type": "code",
   "execution_count": 1,
   "id": "8f68ec4d-f026-4526-ade2-905d12f71326",
   "metadata": {},
   "outputs": [],
   "source": [
    "import os\n",
    "## setting environment variables streaming to be no = False, Yes = True\n",
    "os.environ[\"stream\"]=\"No\""
   ]
  },
  {
   "cell_type": "code",
   "execution_count": null,
   "id": "bc26d5bb-92a9-4e8e-a0b0-e314ba3af26e",
   "metadata": {},
   "outputs": [],
   "source": []
  },
  {
   "cell_type": "markdown",
   "id": "5d18b463-bcd2-4f1b-859a-0901f7c80ab9",
   "metadata": {},
   "source": [
    "## import memory operation manager"
   ]
  },
  {
   "cell_type": "code",
   "execution_count": 2,
   "id": "00e5b74d-ce56-43ed-a7be-bb2e59832eaf",
   "metadata": {},
   "outputs": [
    {
     "name": "stdout",
     "output_type": "stream",
     "text": [
      "existing NVIDIA_API_KEY in the environment  nvapi-K\n",
      "using streaming :  No\n",
      "using streaming :  No\n",
      "using streaming in MemoryHandler class ? False\n"
     ]
    }
   ],
   "source": [
    "from utils import MemoryOps\n",
    "from langchain_nvidia_ai_endpoints import ChatNVIDIA, NVIDIAEmbeddings, NVIDIARerank\n",
    "\n",
    "import os\n",
    "\n",
    "llm= ChatNVIDIA(model=\"meta/llama-3.1-405b-instruct\")\n",
    "embed = NVIDIAEmbeddings(model=\"nvidia/nv-embedqa-mistral-7b-v2\",truncate=\"NONE\",)\n",
    "if os.getenv(\"stream\") :\n",
    "    stream_flag = os.getenv(\"stream\")\n",
    "    if stream_flag.lower()==\"yes\":\n",
    "        use_streaming = True\n",
    "    else:\n",
    "        use_streaming = False\n",
    "    print(\"using streaming : \", os.getenv(\"stream\"))\n",
    "else:\n",
    "    use_streaming = False\n",
    "    print(\"no environment variable set\")\n",
    "\n",
    "memory_ops=MemoryOps(llm,embed,use_streaming )"
   ]
  },
  {
   "cell_type": "markdown",
   "id": "992cd901-652c-4eff-acdd-6f818e10ecf3",
   "metadata": {},
   "source": [
    "## invoke without streaming "
   ]
  },
  {
   "cell_type": "code",
   "execution_count": 3,
   "id": "fe86399b-17fb-414d-9179-2478aea52688",
   "metadata": {},
   "outputs": [
    {
     "name": "stdout",
     "output_type": "stream",
     "text": [
      "use ainvoke, NO streaming !\n"
     ]
    },
    {
     "data": {
      "text/plain": [
       "\"Nice to meet you, Babe! It's not every day that I get to chat with a talking pig, let me tell you! And I'm delighted to hear that you have a best friend like Rob the chicken. What kind of adventures do you and Rob get up to on the farm, I wonder? Do you like to explore the countryside, or do you have a favorite spot to hang out and chat about the latest in farm gossip?\""
      ]
     },
     "execution_count": 3,
     "metadata": {},
     "output_type": "execute_result"
    }
   ],
   "source": [
    "\n",
    "## setting environment variable to use streaming Yes/No\n",
    "\n",
    "thread_id=0\n",
    "user_id=\"babe\"\n",
    "config = {\"configurable\": {\"user_id\": user_id, \"thread_id\": str(thread_id)}}\n",
    "query = \"hi, my name is Babe, I am a pig and I can talk, my best friend is a chicken named Rob.\"\n",
    "output = await memory_ops.memory_ops_chain.ainvoke(input={\"input\":query, \"config\":config})\n",
    "output"
   ]
  },
  {
   "cell_type": "code",
   "execution_count": 4,
   "id": "8fed0753-98e7-4ef5-89fd-4ce7d388a965",
   "metadata": {},
   "outputs": [
    {
     "name": "stdout",
     "output_type": "stream",
     "text": [
      "using streaming :  Yes\n",
      "using streaming in MemoryHandler class ? True\n"
     ]
    }
   ],
   "source": [
    "## now set environment variable before re-import\n",
    "import os\n",
    "os.environ[\"stream\"]=\"Yes\"\n",
    "\n",
    "if os.getenv(\"stream\") :\n",
    "    stream_flag = os.getenv(\"stream\")\n",
    "    if stream_flag.lower()==\"yes\":\n",
    "        use_streaming = True\n",
    "    else:\n",
    "        use_streaming = False\n",
    "    print(\"using streaming : \", os.getenv(\"stream\"))\n",
    "else:\n",
    "    use_streaming = False\n",
    "    print(\"no environment variable set\")\n",
    "memory_ops=MemoryOps(llm,embed,use_streaming )"
   ]
  },
  {
   "cell_type": "code",
   "execution_count": 5,
   "id": "40707b1e-d366-49b5-9f1e-33c86284105d",
   "metadata": {},
   "outputs": [],
   "source": [
    "## invoke with streaming "
   ]
  },
  {
   "cell_type": "code",
   "execution_count": 6,
   "id": "62764238-f5a9-4adf-af96-dc3217905bd1",
   "metadata": {},
   "outputs": [
    {
     "name": "stdout",
     "output_type": "stream",
     "text": [
      "use streaming : True \n",
      " streaming output > \n",
      "  \n",
      " streaming output > \n",
      "  \n",
      " streaming output > \n",
      "  \n",
      " streaming output > \n",
      "  \n",
      " streaming output > \n",
      "  \n",
      " streaming output > \n",
      "  \n",
      " streaming output > \n",
      "  {\"\n",
      " streaming output > \n",
      "  {\"\n",
      "{\"searchfacts >  streaming output > \n",
      "  {\"facts\n",
      "{\"searchfacts_memory\" >  streaming output > \n",
      "  {\"facts\"\n",
      " streaming output > \" : > \n",
      "  {\"facts\" :\n",
      " streaming output > \" : [\" > \n",
      "  {\"facts\" : [\"\n",
      " streaming output > \n",
      "  {\"facts\" : [\"\n",
      " streaming output > \" : [\"Name > \n",
      "  {\"facts\" : [\"Name\n",
      " streaming output > \n",
      "  {\"facts\" : [\"Name\n",
      " streaming output > \" : [\"Name is > \n",
      "  {\"facts\" : [\"Name is\n",
      " streaming output > \n",
      "  {\"facts\" : [\"Name is\n",
      " streaming output > \" : [\"Name is Babe > \n",
      "  {\"facts\" : [\"Name is Babe\n",
      " streaming output > \n",
      "  {\"facts\" : [\"Name is Babe\n",
      "{\"searchfacts_memory\" : [\"Name is Babe\", >  streaming output > \n",
      "  {\"facts\" : [\"Name is Babe\",\n",
      " streaming output > \" : [\"Name is Babe\", \" > \n",
      "  {\"facts\" : [\"Name is Babe\", \"\n",
      " streaming output > \n",
      "  {\"facts\" : [\"Name is Babe\", \"\n",
      " streaming output > \" : [\"Name is Babe\", \"Is > \n",
      "  {\"facts\" : [\"Name is Babe\", \"Is\n",
      " streaming output > \n",
      "  {\"facts\" : [\"Name is Babe\", \"Is\n",
      " streaming output > \" : [\"Name is Babe\", \"Is a > \n",
      "  {\"facts\" : [\"Name is Babe\", \"Is a\n",
      " streaming output > \n",
      "  {\"facts\" : [\"Name is Babe\", \"Is a\n",
      " streaming output > \" : [\"Name is Babe\", \"Is a pig > \n",
      "  {\"facts\" : [\"Name is Babe\", \"Is a pig\n",
      " streaming output > \n",
      "  {\"facts\" : [\"Name is Babe\", \"Is a pig\n",
      " streaming output > \" : [\"Name is Babe\", \"Is a pig\", > \n",
      "  {\"facts\" : [\"Name is Babe\", \"Is a pig\",\n",
      " streaming output > \" : [\"Name is Babe\", \"Is a pig\", \" > \n",
      "  {\"facts\" : [\"Name is Babe\", \"Is a pig\", \"\n",
      " streaming output > \n",
      "  {\"facts\" : [\"Name is Babe\", \"Is a pig\", \"\n",
      " streaming output > \" : [\"Name is Babe\", \"Is a pig\", \"Can > \n",
      "  {\"facts\" : [\"Name is Babe\", \"Is a pig\", \"Can\n",
      " streaming output > \n",
      "  {\"facts\" : [\"Name is Babe\", \"Is a pig\", \"Can\n",
      " streaming output > \" : [\"Name is Babe\", \"Is a pig\", \"Can talk > \n",
      "  {\"facts\" : [\"Name is Babe\", \"Is a pig\", \"Can talk\n",
      " streaming output > \n",
      "  {\"facts\" : [\"Name is Babe\", \"Is a pig\", \"Can talk\n",
      " streaming output > \" : [\"Name is Babe\", \"Is a pig\", \"Can talk\", > \n",
      "  {\"facts\" : [\"Name is Babe\", \"Is a pig\", \"Can talk\",\n",
      " streaming output > \" : [\"Name is Babe\", \"Is a pig\", \"Can talk\", \" > \n",
      "  {\"facts\" : [\"Name is Babe\", \"Is a pig\", \"Can talk\", \"\n",
      " streaming output > \n",
      "  {\"facts\" : [\"Name is Babe\", \"Is a pig\", \"Can talk\", \"\n",
      " streaming output > \" : [\"Name is Babe\", \"Is a pig\", \"Can talk\", \"Best > \n",
      "  {\"facts\" : [\"Name is Babe\", \"Is a pig\", \"Can talk\", \"Best\n",
      " streaming output > \n",
      "  {\"facts\" : [\"Name is Babe\", \"Is a pig\", \"Can talk\", \"Best\n",
      " streaming output > \" : [\"Name is Babe\", \"Is a pig\", \"Can talk\", \"Best friend > \n",
      "  {\"facts\" : [\"Name is Babe\", \"Is a pig\", \"Can talk\", \"Best friend\n",
      " streaming output > \n",
      "  {\"facts\" : [\"Name is Babe\", \"Is a pig\", \"Can talk\", \"Best friend\n",
      " streaming output > \" : [\"Name is Babe\", \"Is a pig\", \"Can talk\", \"Best friend is > \n",
      "  {\"facts\" : [\"Name is Babe\", \"Is a pig\", \"Can talk\", \"Best friend is\n",
      " streaming output > \n",
      "  {\"facts\" : [\"Name is Babe\", \"Is a pig\", \"Can talk\", \"Best friend is\n",
      " streaming output > \" : [\"Name is Babe\", \"Is a pig\", \"Can talk\", \"Best friend is a > \n",
      "  {\"facts\" : [\"Name is Babe\", \"Is a pig\", \"Can talk\", \"Best friend is a\n",
      " streaming output > \n",
      "  {\"facts\" : [\"Name is Babe\", \"Is a pig\", \"Can talk\", \"Best friend is a\n",
      " streaming output > \" : [\"Name is Babe\", \"Is a pig\", \"Can talk\", \"Best friend is a chicken > \n",
      "  {\"facts\" : [\"Name is Babe\", \"Is a pig\", \"Can talk\", \"Best friend is a chicken\n",
      " streaming output > \n",
      "  {\"facts\" : [\"Name is Babe\", \"Is a pig\", \"Can talk\", \"Best friend is a chicken\n",
      " streaming output > \" : [\"Name is Babe\", \"Is a pig\", \"Can talk\", \"Best friend is a chicken named > \n",
      "  {\"facts\" : [\"Name is Babe\", \"Is a pig\", \"Can talk\", \"Best friend is a chicken named\n",
      " streaming output > \n",
      "  {\"facts\" : [\"Name is Babe\", \"Is a pig\", \"Can talk\", \"Best friend is a chicken named\n",
      " streaming output > \" : [\"Name is Babe\", \"Is a pig\", \"Can talk\", \"Best friend is a chicken named Rob > \n",
      "  {\"facts\" : [\"Name is Babe\", \"Is a pig\", \"Can talk\", \"Best friend is a chicken named Rob\n",
      " streaming output > \n",
      "  {\"facts\" : [\"Name is Babe\", \"Is a pig\", \"Can talk\", \"Best friend is a chicken named Rob\n",
      " streaming output > \" : [\"Name is Babe\", \"Is a pig\", \"Can talk\", \"Best friend is a chicken named Rob\"]} > \n",
      "  {\"facts\" : [\"Name is Babe\", \"Is a pig\", \"Can talk\", \"Best friend is a chicken named Rob\"]}\n",
      " streaming output > \n",
      "  {\"facts\" : [\"Name is Babe\", \"Is a pig\", \"Can talk\", \"Best friend is a chicken named Rob\"]}\n",
      " streaming output > \n",
      "  {\"facts\" : [\"Name is Babe\", \"Is a pig\", \"Can talk\", \"Best friend is a chicken named Rob\"]}\n",
      " streaming output > \n",
      "  {\"facts\" : [\"Name is Babe\", \"Is a pig\", \"Can talk\", \"Best friend is a chicken named Rob\"]}\n",
      " streaming output > \n",
      "  {\"facts\" : [\"Name is Babe\", \"Is a pig\", \"Can talk\", \"Best friend is a chicken named Rob\"]}\n",
      "{\"searchfacts_memory\" : [\"Name is Babe\", \"Is a pig\", \"Can talk\", \"Best friend is a chicken named Rob\"]}Nice > {\"searchfacts_memory\" : [\"Name is Babe\", \"Is a pig\", \"Can talk\", \"Best friend is a chicken named Rob\"]}Nice to > {\"searchfacts_memory\" : [\"Name is Babe\", \"Is a pig\", \"Can talk\", \"Best friend is a chicken named Rob\"]}Nice to meet > {\"searchfacts_memory\" : [\"Name is Babe\", \"Is a pig\", \"Can talk\", \"Best friend is a chicken named Rob\"]}Nice to meet you > {\"searchfacts_memory\" : [\"Name is Babe\", \"Is a pig\", \"Can talk\", \"Best friend is a chicken named Rob\"]}Nice to meet you, > {\"searchfacts_memory\" : [\"Name is Babe\", \"Is a pig\", \"Can talk\", \"Best friend is a chicken named Rob\"]}Nice to meet you, Babe > {\"searchfacts_memory\" : [\"Name is Babe\", \"Is a pig\", \"Can talk\", \"Best friend is a chicken named Rob\"]}Nice to meet you, Babe! > {\"searchfacts_memory\" : [\"Name is Babe\", \"Is a pig\", \"Can talk\", \"Best friend is a chicken named Rob\"]}Nice to meet you, Babe! It > {\"searchfacts_memory\" : [\"Name is Babe\", \"Is a pig\", \"Can talk\", \"Best friend is a chicken named Rob\"]}Nice to meet you, Babe! It's > {\"searchfacts_memory\" : [\"Name is Babe\", \"Is a pig\", \"Can talk\", \"Best friend is a chicken named Rob\"]}Nice to meet you, Babe! It's not > {\"searchfacts_memory\" : [\"Name is Babe\", \"Is a pig\", \"Can talk\", \"Best friend is a chicken named Rob\"]}Nice to meet you, Babe! It's not every > {\"searchfacts_memory\" : [\"Name is Babe\", \"Is a pig\", \"Can talk\", \"Best friend is a chicken named Rob\"]}Nice to meet you, Babe! It's not every day > {\"searchfacts_memory\" : [\"Name is Babe\", \"Is a pig\", \"Can talk\", \"Best friend is a chicken named Rob\"]}Nice to meet you, Babe! It's not every day that > {\"searchfacts_memory\" : [\"Name is Babe\", \"Is a pig\", \"Can talk\", \"Best friend is a chicken named Rob\"]}Nice to meet you, Babe! It's not every day that I > {\"searchfacts_memory\" : [\"Name is Babe\", \"Is a pig\", \"Can talk\", \"Best friend is a chicken named Rob\"]}Nice to meet you, Babe! It's not every day that I get > {\"searchfacts_memory\" : [\"Name is Babe\", \"Is a pig\", \"Can talk\", \"Best friend is a chicken named Rob\"]}Nice to meet you, Babe! It's not every day that I get to > {\"searchfacts_memory\" : [\"Name is Babe\", \"Is a pig\", \"Can talk\", \"Best friend is a chicken named Rob\"]}Nice to meet you, Babe! It's not every day that I get to chat > {\"searchfacts_memory\" : [\"Name is Babe\", \"Is a pig\", \"Can talk\", \"Best friend is a chicken named Rob\"]}Nice to meet you, Babe! It's not every day that I get to chat with > {\"searchfacts_memory\" : [\"Name is Babe\", \"Is a pig\", \"Can talk\", \"Best friend is a chicken named Rob\"]}Nice to meet you, Babe! It's not every day that I get to chat with a > {\"searchfacts_memory\" : [\"Name is Babe\", \"Is a pig\", \"Can talk\", \"Best friend is a chicken named Rob\"]}Nice to meet you, Babe! It's not every day that I get to chat with a talking > {\"searchfacts_memory\" : [\"Name is Babe\", \"Is a pig\", \"Can talk\", \"Best friend is a chicken named Rob\"]}Nice to meet you, Babe! It's not every day that I get to chat with a talking pig > {\"searchfacts_memory\" : [\"Name is Babe\", \"Is a pig\", \"Can talk\", \"Best friend is a chicken named Rob\"]}Nice to meet you, Babe! It's not every day that I get to chat with a talking pig, > {\"searchfacts_memory\" : [\"Name is Babe\", \"Is a pig\", \"Can talk\", \"Best friend is a chicken named Rob\"]}Nice to meet you, Babe! It's not every day that I get to chat with a talking pig, let > {\"searchfacts_memory\" : [\"Name is Babe\", \"Is a pig\", \"Can talk\", \"Best friend is a chicken named Rob\"]}Nice to meet you, Babe! It's not every day that I get to chat with a talking pig, let me > {\"searchfacts_memory\" : [\"Name is Babe\", \"Is a pig\", \"Can talk\", \"Best friend is a chicken named Rob\"]}Nice to meet you, Babe! It's not every day that I get to chat with a talking pig, let me tell > {\"searchfacts_memory\" : [\"Name is Babe\", \"Is a pig\", \"Can talk\", \"Best friend is a chicken named Rob\"]}Nice to meet you, Babe! It's not every day that I get to chat with a talking pig, let me tell you > {\"searchfacts_memory\" : [\"Name is Babe\", \"Is a pig\", \"Can talk\", \"Best friend is a chicken named Rob\"]}Nice to meet you, Babe! It's not every day that I get to chat with a talking pig, let me tell you! > {\"searchfacts_memory\" : [\"Name is Babe\", \"Is a pig\", \"Can talk\", \"Best friend is a chicken named Rob\"]}Nice to meet you, Babe! It's not every day that I get to chat with a talking pig, let me tell you! And > {\"searchfacts_memory\" : [\"Name is Babe\", \"Is a pig\", \"Can talk\", \"Best friend is a chicken named Rob\"]}Nice to meet you, Babe! It's not every day that I get to chat with a talking pig, let me tell you! And I > {\"searchfacts_memory\" : [\"Name is Babe\", \"Is a pig\", \"Can talk\", \"Best friend is a chicken named Rob\"]}Nice to meet you, Babe! It's not every day that I get to chat with a talking pig, let me tell you! And I'm > {\"searchfacts_memory\" : [\"Name is Babe\", \"Is a pig\", \"Can talk\", \"Best friend is a chicken named Rob\"]}Nice to meet you, Babe! It's not every day that I get to chat with a talking pig, let me tell you! And I'm delighted > {\"searchfacts_memory\" : [\"Name is Babe\", \"Is a pig\", \"Can talk\", \"Best friend is a chicken named Rob\"]}Nice to meet you, Babe! It's not every day that I get to chat with a talking pig, let me tell you! And I'm delighted to > {\"searchfacts_memory\" : [\"Name is Babe\", \"Is a pig\", \"Can talk\", \"Best friend is a chicken named Rob\"]}Nice to meet you, Babe! It's not every day that I get to chat with a talking pig, let me tell you! And I'm delighted to hear > {\"searchfacts_memory\" : [\"Name is Babe\", \"Is a pig\", \"Can talk\", \"Best friend is a chicken named Rob\"]}Nice to meet you, Babe! It's not every day that I get to chat with a talking pig, let me tell you! And I'm delighted to hear that > {\"searchfacts_memory\" : [\"Name is Babe\", \"Is a pig\", \"Can talk\", \"Best friend is a chicken named Rob\"]}Nice to meet you, Babe! It's not every day that I get to chat with a talking pig, let me tell you! And I'm delighted to hear that you > {\"searchfacts_memory\" : [\"Name is Babe\", \"Is a pig\", \"Can talk\", \"Best friend is a chicken named Rob\"]}Nice to meet you, Babe! It's not every day that I get to chat with a talking pig, let me tell you! And I'm delighted to hear that you have > {\"searchfacts_memory\" : [\"Name is Babe\", \"Is a pig\", \"Can talk\", \"Best friend is a chicken named Rob\"]}Nice to meet you, Babe! It's not every day that I get to chat with a talking pig, let me tell you! And I'm delighted to hear that you have a > {\"searchfacts_memory\" : [\"Name is Babe\", \"Is a pig\", \"Can talk\", \"Best friend is a chicken named Rob\"]}Nice to meet you, Babe! It's not every day that I get to chat with a talking pig, let me tell you! And I'm delighted to hear that you have a best > {\"searchfacts_memory\" : [\"Name is Babe\", \"Is a pig\", \"Can talk\", \"Best friend is a chicken named Rob\"]}Nice to meet you, Babe! It's not every day that I get to chat with a talking pig, let me tell you! And I'm delighted to hear that you have a best friend > {\"searchfacts_memory\" : [\"Name is Babe\", \"Is a pig\", \"Can talk\", \"Best friend is a chicken named Rob\"]}Nice to meet you, Babe! It's not every day that I get to chat with a talking pig, let me tell you! And I'm delighted to hear that you have a best friend like > {\"searchfacts_memory\" : [\"Name is Babe\", \"Is a pig\", \"Can talk\", \"Best friend is a chicken named Rob\"]}Nice to meet you, Babe! It's not every day that I get to chat with a talking pig, let me tell you! And I'm delighted to hear that you have a best friend like Rob > {\"searchfacts_memory\" : [\"Name is Babe\", \"Is a pig\", \"Can talk\", \"Best friend is a chicken named Rob\"]}Nice to meet you, Babe! It's not every day that I get to chat with a talking pig, let me tell you! And I'm delighted to hear that you have a best friend like Rob the > {\"searchfacts_memory\" : [\"Name is Babe\", \"Is a pig\", \"Can talk\", \"Best friend is a chicken named Rob\"]}Nice to meet you, Babe! It's not every day that I get to chat with a talking pig, let me tell you! And I'm delighted to hear that you have a best friend like Rob the chicken > {\"searchfacts_memory\" : [\"Name is Babe\", \"Is a pig\", \"Can talk\", \"Best friend is a chicken named Rob\"]}Nice to meet you, Babe! It's not every day that I get to chat with a talking pig, let me tell you! And I'm delighted to hear that you have a best friend like Rob the chicken. > {\"searchfacts_memory\" : [\"Name is Babe\", \"Is a pig\", \"Can talk\", \"Best friend is a chicken named Rob\"]}Nice to meet you, Babe! It's not every day that I get to chat with a talking pig, let me tell you! And I'm delighted to hear that you have a best friend like Rob the chicken. What > {\"searchfacts_memory\" : [\"Name is Babe\", \"Is a pig\", \"Can talk\", \"Best friend is a chicken named Rob\"]}Nice to meet you, Babe! It's not every day that I get to chat with a talking pig, let me tell you! And I'm delighted to hear that you have a best friend like Rob the chicken. What kind > {\"searchfacts_memory\" : [\"Name is Babe\", \"Is a pig\", \"Can talk\", \"Best friend is a chicken named Rob\"]}Nice to meet you, Babe! It's not every day that I get to chat with a talking pig, let me tell you! And I'm delighted to hear that you have a best friend like Rob the chicken. What kind of > {\"searchfacts_memory\" : [\"Name is Babe\", \"Is a pig\", \"Can talk\", \"Best friend is a chicken named Rob\"]}Nice to meet you, Babe! It's not every day that I get to chat with a talking pig, let me tell you! And I'm delighted to hear that you have a best friend like Rob the chicken. What kind of adventures > {\"searchfacts_memory\" : [\"Name is Babe\", \"Is a pig\", \"Can talk\", \"Best friend is a chicken named Rob\"]}Nice to meet you, Babe! It's not every day that I get to chat with a talking pig, let me tell you! And I'm delighted to hear that you have a best friend like Rob the chicken. What kind of adventures do > {\"searchfacts_memory\" : [\"Name is Babe\", \"Is a pig\", \"Can talk\", \"Best friend is a chicken named Rob\"]}Nice to meet you, Babe! It's not every day that I get to chat with a talking pig, let me tell you! And I'm delighted to hear that you have a best friend like Rob the chicken. What kind of adventures do you > {\"searchfacts_memory\" : [\"Name is Babe\", \"Is a pig\", \"Can talk\", \"Best friend is a chicken named Rob\"]}Nice to meet you, Babe! It's not every day that I get to chat with a talking pig, let me tell you! And I'm delighted to hear that you have a best friend like Rob the chicken. What kind of adventures do you and > {\"searchfacts_memory\" : [\"Name is Babe\", \"Is a pig\", \"Can talk\", \"Best friend is a chicken named Rob\"]}Nice to meet you, Babe! It's not every day that I get to chat with a talking pig, let me tell you! And I'm delighted to hear that you have a best friend like Rob the chicken. What kind of adventures do you and Rob > {\"searchfacts_memory\" : [\"Name is Babe\", \"Is a pig\", \"Can talk\", \"Best friend is a chicken named Rob\"]}Nice to meet you, Babe! It's not every day that I get to chat with a talking pig, let me tell you! And I'm delighted to hear that you have a best friend like Rob the chicken. What kind of adventures do you and Rob get > {\"searchfacts_memory\" : [\"Name is Babe\", \"Is a pig\", \"Can talk\", \"Best friend is a chicken named Rob\"]}Nice to meet you, Babe! It's not every day that I get to chat with a talking pig, let me tell you! And I'm delighted to hear that you have a best friend like Rob the chicken. What kind of adventures do you and Rob get up > {\"searchfacts_memory\" : [\"Name is Babe\", \"Is a pig\", \"Can talk\", \"Best friend is a chicken named Rob\"]}Nice to meet you, Babe! It's not every day that I get to chat with a talking pig, let me tell you! And I'm delighted to hear that you have a best friend like Rob the chicken. What kind of adventures do you and Rob get up to > {\"searchfacts_memory\" : [\"Name is Babe\", \"Is a pig\", \"Can talk\", \"Best friend is a chicken named Rob\"]}Nice to meet you, Babe! It's not every day that I get to chat with a talking pig, let me tell you! And I'm delighted to hear that you have a best friend like Rob the chicken. What kind of adventures do you and Rob get up to on > {\"searchfacts_memory\" : [\"Name is Babe\", \"Is a pig\", \"Can talk\", \"Best friend is a chicken named Rob\"]}Nice to meet you, Babe! It's not every day that I get to chat with a talking pig, let me tell you! And I'm delighted to hear that you have a best friend like Rob the chicken. What kind of adventures do you and Rob get up to on the > {\"searchfacts_memory\" : [\"Name is Babe\", \"Is a pig\", \"Can talk\", \"Best friend is a chicken named Rob\"]}Nice to meet you, Babe! It's not every day that I get to chat with a talking pig, let me tell you! And I'm delighted to hear that you have a best friend like Rob the chicken. What kind of adventures do you and Rob get up to on the farm > {\"searchfacts_memory\" : [\"Name is Babe\", \"Is a pig\", \"Can talk\", \"Best friend is a chicken named Rob\"]}Nice to meet you, Babe! It's not every day that I get to chat with a talking pig, let me tell you! And I'm delighted to hear that you have a best friend like Rob the chicken. What kind of adventures do you and Rob get up to on the farm, > {\"searchfacts_memory\" : [\"Name is Babe\", \"Is a pig\", \"Can talk\", \"Best friend is a chicken named Rob\"]}Nice to meet you, Babe! It's not every day that I get to chat with a talking pig, let me tell you! And I'm delighted to hear that you have a best friend like Rob the chicken. What kind of adventures do you and Rob get up to on the farm, I > {\"searchfacts_memory\" : [\"Name is Babe\", \"Is a pig\", \"Can talk\", \"Best friend is a chicken named Rob\"]}Nice to meet you, Babe! It's not every day that I get to chat with a talking pig, let me tell you! And I'm delighted to hear that you have a best friend like Rob the chicken. What kind of adventures do you and Rob get up to on the farm, I wonder > {\"searchfacts_memory\" : [\"Name is Babe\", \"Is a pig\", \"Can talk\", \"Best friend is a chicken named Rob\"]}Nice to meet you, Babe! It's not every day that I get to chat with a talking pig, let me tell you! And I'm delighted to hear that you have a best friend like Rob the chicken. What kind of adventures do you and Rob get up to on the farm, I wonder? > {\"searchfacts_memory\" : [\"Name is Babe\", \"Is a pig\", \"Can talk\", \"Best friend is a chicken named Rob\"]}Nice to meet you, Babe! It's not every day that I get to chat with a talking pig, let me tell you! And I'm delighted to hear that you have a best friend like Rob the chicken. What kind of adventures do you and Rob get up to on the farm, I wonder? Do > {\"searchfacts_memory\" : [\"Name is Babe\", \"Is a pig\", \"Can talk\", \"Best friend is a chicken named Rob\"]}Nice to meet you, Babe! It's not every day that I get to chat with a talking pig, let me tell you! And I'm delighted to hear that you have a best friend like Rob the chicken. What kind of adventures do you and Rob get up to on the farm, I wonder? Do you > {\"searchfacts_memory\" : [\"Name is Babe\", \"Is a pig\", \"Can talk\", \"Best friend is a chicken named Rob\"]}Nice to meet you, Babe! It's not every day that I get to chat with a talking pig, let me tell you! And I'm delighted to hear that you have a best friend like Rob the chicken. What kind of adventures do you and Rob get up to on the farm, I wonder? Do you like > {\"searchfacts_memory\" : [\"Name is Babe\", \"Is a pig\", \"Can talk\", \"Best friend is a chicken named Rob\"]}Nice to meet you, Babe! It's not every day that I get to chat with a talking pig, let me tell you! And I'm delighted to hear that you have a best friend like Rob the chicken. What kind of adventures do you and Rob get up to on the farm, I wonder? Do you like to > {\"searchfacts_memory\" : [\"Name is Babe\", \"Is a pig\", \"Can talk\", \"Best friend is a chicken named Rob\"]}Nice to meet you, Babe! It's not every day that I get to chat with a talking pig, let me tell you! And I'm delighted to hear that you have a best friend like Rob the chicken. What kind of adventures do you and Rob get up to on the farm, I wonder? Do you like to explore > {\"searchfacts_memory\" : [\"Name is Babe\", \"Is a pig\", \"Can talk\", \"Best friend is a chicken named Rob\"]}Nice to meet you, Babe! It's not every day that I get to chat with a talking pig, let me tell you! And I'm delighted to hear that you have a best friend like Rob the chicken. What kind of adventures do you and Rob get up to on the farm, I wonder? Do you like to explore the > {\"searchfacts_memory\" : [\"Name is Babe\", \"Is a pig\", \"Can talk\", \"Best friend is a chicken named Rob\"]}Nice to meet you, Babe! It's not every day that I get to chat with a talking pig, let me tell you! And I'm delighted to hear that you have a best friend like Rob the chicken. What kind of adventures do you and Rob get up to on the farm, I wonder? Do you like to explore the countryside > {\"searchfacts_memory\" : [\"Name is Babe\", \"Is a pig\", \"Can talk\", \"Best friend is a chicken named Rob\"]}Nice to meet you, Babe! It's not every day that I get to chat with a talking pig, let me tell you! And I'm delighted to hear that you have a best friend like Rob the chicken. What kind of adventures do you and Rob get up to on the farm, I wonder? Do you like to explore the countryside, > {\"searchfacts_memory\" : [\"Name is Babe\", \"Is a pig\", \"Can talk\", \"Best friend is a chicken named Rob\"]}Nice to meet you, Babe! It's not every day that I get to chat with a talking pig, let me tell you! And I'm delighted to hear that you have a best friend like Rob the chicken. What kind of adventures do you and Rob get up to on the farm, I wonder? Do you like to explore the countryside, or > {\"searchfacts_memory\" : [\"Name is Babe\", \"Is a pig\", \"Can talk\", \"Best friend is a chicken named Rob\"]}Nice to meet you, Babe! It's not every day that I get to chat with a talking pig, let me tell you! And I'm delighted to hear that you have a best friend like Rob the chicken. What kind of adventures do you and Rob get up to on the farm, I wonder? Do you like to explore the countryside, or do > {\"searchfacts_memory\" : [\"Name is Babe\", \"Is a pig\", \"Can talk\", \"Best friend is a chicken named Rob\"]}Nice to meet you, Babe! It's not every day that I get to chat with a talking pig, let me tell you! And I'm delighted to hear that you have a best friend like Rob the chicken. What kind of adventures do you and Rob get up to on the farm, I wonder? Do you like to explore the countryside, or do you > {\"searchfacts_memory\" : [\"Name is Babe\", \"Is a pig\", \"Can talk\", \"Best friend is a chicken named Rob\"]}Nice to meet you, Babe! It's not every day that I get to chat with a talking pig, let me tell you! And I'm delighted to hear that you have a best friend like Rob the chicken. What kind of adventures do you and Rob get up to on the farm, I wonder? Do you like to explore the countryside, or do you have > {\"searchfacts_memory\" : [\"Name is Babe\", \"Is a pig\", \"Can talk\", \"Best friend is a chicken named Rob\"]}Nice to meet you, Babe! It's not every day that I get to chat with a talking pig, let me tell you! And I'm delighted to hear that you have a best friend like Rob the chicken. What kind of adventures do you and Rob get up to on the farm, I wonder? Do you like to explore the countryside, or do you have a > {\"searchfacts_memory\" : [\"Name is Babe\", \"Is a pig\", \"Can talk\", \"Best friend is a chicken named Rob\"]}Nice to meet you, Babe! It's not every day that I get to chat with a talking pig, let me tell you! And I'm delighted to hear that you have a best friend like Rob the chicken. What kind of adventures do you and Rob get up to on the farm, I wonder? Do you like to explore the countryside, or do you have a favorite > {\"searchfacts_memory\" : [\"Name is Babe\", \"Is a pig\", \"Can talk\", \"Best friend is a chicken named Rob\"]}Nice to meet you, Babe! It's not every day that I get to chat with a talking pig, let me tell you! And I'm delighted to hear that you have a best friend like Rob the chicken. What kind of adventures do you and Rob get up to on the farm, I wonder? Do you like to explore the countryside, or do you have a favorite spot > {\"searchfacts_memory\" : [\"Name is Babe\", \"Is a pig\", \"Can talk\", \"Best friend is a chicken named Rob\"]}Nice to meet you, Babe! It's not every day that I get to chat with a talking pig, let me tell you! And I'm delighted to hear that you have a best friend like Rob the chicken. What kind of adventures do you and Rob get up to on the farm, I wonder? Do you like to explore the countryside, or do you have a favorite spot to > {\"searchfacts_memory\" : [\"Name is Babe\", \"Is a pig\", \"Can talk\", \"Best friend is a chicken named Rob\"]}Nice to meet you, Babe! It's not every day that I get to chat with a talking pig, let me tell you! And I'm delighted to hear that you have a best friend like Rob the chicken. What kind of adventures do you and Rob get up to on the farm, I wonder? Do you like to explore the countryside, or do you have a favorite spot to hang > {\"searchfacts_memory\" : [\"Name is Babe\", \"Is a pig\", \"Can talk\", \"Best friend is a chicken named Rob\"]}Nice to meet you, Babe! It's not every day that I get to chat with a talking pig, let me tell you! And I'm delighted to hear that you have a best friend like Rob the chicken. What kind of adventures do you and Rob get up to on the farm, I wonder? Do you like to explore the countryside, or do you have a favorite spot to hang out > {\"searchfacts_memory\" : [\"Name is Babe\", \"Is a pig\", \"Can talk\", \"Best friend is a chicken named Rob\"]}Nice to meet you, Babe! It's not every day that I get to chat with a talking pig, let me tell you! And I'm delighted to hear that you have a best friend like Rob the chicken. What kind of adventures do you and Rob get up to on the farm, I wonder? Do you like to explore the countryside, or do you have a favorite spot to hang out and > {\"searchfacts_memory\" : [\"Name is Babe\", \"Is a pig\", \"Can talk\", \"Best friend is a chicken named Rob\"]}Nice to meet you, Babe! It's not every day that I get to chat with a talking pig, let me tell you! And I'm delighted to hear that you have a best friend like Rob the chicken. What kind of adventures do you and Rob get up to on the farm, I wonder? Do you like to explore the countryside, or do you have a favorite spot to hang out and chat > {\"searchfacts_memory\" : [\"Name is Babe\", \"Is a pig\", \"Can talk\", \"Best friend is a chicken named Rob\"]}Nice to meet you, Babe! It's not every day that I get to chat with a talking pig, let me tell you! And I'm delighted to hear that you have a best friend like Rob the chicken. What kind of adventures do you and Rob get up to on the farm, I wonder? Do you like to explore the countryside, or do you have a favorite spot to hang out and chat about > {\"searchfacts_memory\" : [\"Name is Babe\", \"Is a pig\", \"Can talk\", \"Best friend is a chicken named Rob\"]}Nice to meet you, Babe! It's not every day that I get to chat with a talking pig, let me tell you! And I'm delighted to hear that you have a best friend like Rob the chicken. What kind of adventures do you and Rob get up to on the farm, I wonder? Do you like to explore the countryside, or do you have a favorite spot to hang out and chat about the > {\"searchfacts_memory\" : [\"Name is Babe\", \"Is a pig\", \"Can talk\", \"Best friend is a chicken named Rob\"]}Nice to meet you, Babe! It's not every day that I get to chat with a talking pig, let me tell you! And I'm delighted to hear that you have a best friend like Rob the chicken. What kind of adventures do you and Rob get up to on the farm, I wonder? Do you like to explore the countryside, or do you have a favorite spot to hang out and chat about the latest > {\"searchfacts_memory\" : [\"Name is Babe\", \"Is a pig\", \"Can talk\", \"Best friend is a chicken named Rob\"]}Nice to meet you, Babe! It's not every day that I get to chat with a talking pig, let me tell you! And I'm delighted to hear that you have a best friend like Rob the chicken. What kind of adventures do you and Rob get up to on the farm, I wonder? Do you like to explore the countryside, or do you have a favorite spot to hang out and chat about the latest in > {\"searchfacts_memory\" : [\"Name is Babe\", \"Is a pig\", \"Can talk\", \"Best friend is a chicken named Rob\"]}Nice to meet you, Babe! It's not every day that I get to chat with a talking pig, let me tell you! And I'm delighted to hear that you have a best friend like Rob the chicken. What kind of adventures do you and Rob get up to on the farm, I wonder? Do you like to explore the countryside, or do you have a favorite spot to hang out and chat about the latest in farm > {\"searchfacts_memory\" : [\"Name is Babe\", \"Is a pig\", \"Can talk\", \"Best friend is a chicken named Rob\"]}Nice to meet you, Babe! It's not every day that I get to chat with a talking pig, let me tell you! And I'm delighted to hear that you have a best friend like Rob the chicken. What kind of adventures do you and Rob get up to on the farm, I wonder? Do you like to explore the countryside, or do you have a favorite spot to hang out and chat about the latest in farm gossip > {\"searchfacts_memory\" : [\"Name is Babe\", \"Is a pig\", \"Can talk\", \"Best friend is a chicken named Rob\"]}Nice to meet you, Babe! It's not every day that I get to chat with a talking pig, let me tell you! And I'm delighted to hear that you have a best friend like Rob the chicken. What kind of adventures do you and Rob get up to on the farm, I wonder? Do you like to explore the countryside, or do you have a favorite spot to hang out and chat about the latest in farm gossip? > "
     ]
    }
   ],
   "source": [
    "thread_id=0\n",
    "user_id=\"babe\"\n",
    "config = {\"configurable\": {\"user_id\": user_id, \"thread_id\": str(thread_id)}}\n",
    "query = \"I had a fight with Rob, he is no longer my best friend !\"\n",
    "output=\"\"\n",
    "async for event in memory_ops.memory_ops_chain.astream_events(input={\"input\":\"hi, my name is Babe, I am a pig and I can talk, my best friend is a chicken named Rob.\", \"config\":config}):\n",
    "    kind = event[\"event\"]\n",
    "    if kind == \"on_chat_model_stream\":\n",
    "        content = event[\"data\"][\"chunk\"].content\n",
    "        if content:\n",
    "            output += content\n",
    "            ## comment it out if you dotn want to have large streaming \n",
    "            print(output, end=\" > \", flush=True)\n",
    " "
   ]
  },
  {
   "cell_type": "code",
   "execution_count": 7,
   "id": "afb9581d-c99d-4ca3-8b09-cebb5f32a15f",
   "metadata": {},
   "outputs": [
    {
     "data": {
      "text/plain": [
       "'{\"searchfacts_memory\" : [\"Name is Babe\", \"Is a pig\", \"Can talk\", \"Best friend is a chicken named Rob\"]}Nice to meet you, Babe! It\\'s not every day that I get to chat with a talking pig, let me tell you! And I\\'m delighted to hear that you have a best friend like Rob the chicken. What kind of adventures do you and Rob get up to on the farm, I wonder? Do you like to explore the countryside, or do you have a favorite spot to hang out and chat about the latest in farm gossip?'"
      ]
     },
     "execution_count": 7,
     "metadata": {},
     "output_type": "execute_result"
    }
   ],
   "source": [
    "output"
   ]
  },
  {
   "cell_type": "code",
   "execution_count": 9,
   "id": "ebd003ab-954d-4867-94d2-7dc53a7a90a1",
   "metadata": {},
   "outputs": [
    {
     "name": "stdout",
     "output_type": "stream",
     "text": [
      "{\"searchfacts_memory\" : [\"Name is Babe\", \"Is a pig\", \"Can talk\", \"Best friend is a chicken named Rob\"]}\n"
     ]
    }
   ],
   "source": [
    "if '{' in output:\n",
    "    index_start=output.index('{')\n",
    "    index_end=output.index('}')+1\n",
    "    output=output[index_start:index_end]\n",
    "    print(output)"
   ]
  }
 ],
 "metadata": {
  "kernelspec": {
   "display_name": "Python 3 (ipykernel)",
   "language": "python",
   "name": "python3"
  },
  "language_info": {
   "codemirror_mode": {
    "name": "ipython",
    "version": 3
   },
   "file_extension": ".py",
   "mimetype": "text/x-python",
   "name": "python",
   "nbconvert_exporter": "python",
   "pygments_lexer": "ipython3",
   "version": "3.12.9"
  }
 },
 "nbformat": 4,
 "nbformat_minor": 5
}
