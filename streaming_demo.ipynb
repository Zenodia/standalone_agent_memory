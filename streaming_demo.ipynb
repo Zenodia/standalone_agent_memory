{
 "cells": [
  {
   "cell_type": "markdown",
   "id": "5dbbb0df-a6b4-4481-9c58-8be7e8ba9351",
   "metadata": {},
   "source": [
    "## Initialize the MemoryHanlder "
   ]
  },
  {
   "cell_type": "code",
   "execution_count": 1,
   "id": "ddf9c080-ccb3-4eb2-927b-11a1ed3023e8",
   "metadata": {},
   "outputs": [],
   "source": [
    "import json\n",
    "from typing import List, Literal, Optional\n",
    "\n",
    "import tiktoken\n",
    "from langchain_core.documents import Document\n",
    "from langchain_core.embeddings import Embeddings\n",
    "from langchain_core.messages import get_buffer_string\n",
    "from langchain_core.prompts import ChatPromptTemplate\n",
    "from langchain_core.runnables import RunnableConfig\n",
    "from langchain_core.tools import tool\n",
    "from langchain_core.vectorstores import InMemoryVectorStore\n",
    "from langchain_openai.embeddings import OpenAIEmbeddings\n",
    "\n",
    "from langgraph.checkpoint.memory import MemorySaver\n",
    "from langgraph.graph import END, START, MessagesState, StateGraph\n",
    "from langgraph.prebuilt import ToolNode\n",
    "import uuid\n",
    "from MemoryManager import MemoryHandler\n",
    "from langchain_nvidia_ai_endpoints import ChatNVIDIA, NVIDIAEmbeddings, NVIDIARerank\n",
    "import os\n",
    "import random\n",
    "choices=[\"nvidia/llama-3.1-nemotron-51b-instruct\",\"meta/llama-3.1-405b-instruct\"]\n",
    "\n",
    "model=random.choice(choices) #\"nvidia/llama-3.1-nemotron-51b-instruct\" #\"meta/llama-3.1-405b-instruct\"\n",
    "llm = ChatNVIDIA(model=model)\n",
    "embed = NVIDIAEmbeddings(model=\"nvidia/nv-embedqa-mistral-7b-v2\",truncate=\"NONE\",)\n",
    "memory_manager=MemoryHandler(llm,embed)\n"
   ]
  },
  {
   "cell_type": "code",
   "execution_count": 2,
   "id": "4b622e79-d2ab-4d69-8017-20576a7470c0",
   "metadata": {},
   "outputs": [
    {
     "data": {
      "text/plain": [
       "'nvidia/llama-3.1-nemotron-51b-instruct'"
      ]
     },
     "execution_count": 2,
     "metadata": {},
     "output_type": "execute_result"
    }
   ],
   "source": [
    "model"
   ]
  },
  {
   "cell_type": "code",
   "execution_count": 3,
   "id": "f84fa3ef-f2ff-4778-a81a-e18a54f6b91e",
   "metadata": {},
   "outputs": [
    {
     "name": "stdout",
     "output_type": "stream",
     "text": [
      "exists\n"
     ]
    }
   ],
   "source": [
    "import os\n",
    "if os.environ[\"NVIDIA_API_KEY\"]:\n",
    "    print(\"exists\")"
   ]
  },
  {
   "cell_type": "code",
   "execution_count": 4,
   "id": "423b2193-e558-48ef-b80d-ec44575e99bd",
   "metadata": {},
   "outputs": [
    {
     "name": "stdout",
     "output_type": "stream",
     "text": [
      "{'1': 1}\n"
     ]
    }
   ],
   "source": [
    "test_d={\"a\":{\"1\":1},\"b\":2}\n",
    "if \"1\" in test_d[\"a\"]:\n",
    "    print(test_d[\"a\"])"
   ]
  },
  {
   "cell_type": "markdown",
   "id": "6c153c75-5626-4efc-8679-c7a8e77d2d93",
   "metadata": {},
   "source": [
    "## wrap into runnable chains with streaming "
   ]
  },
  {
   "cell_type": "code",
   "execution_count": 5,
   "id": "33279941-d871-4f07-8e49-160c15f6a150",
   "metadata": {},
   "outputs": [],
   "source": [
    "from langchain_core.runnables import RunnableLambda, RunnableParallel, RunnablePassthrough\n",
    "from colorama import Fore\n",
    "\n",
    "prompt = ChatPromptTemplate.from_messages(\n",
    "            [\n",
    "                (\n",
    "                    \"system\",\n",
    "                    \"You are assistant with ability to memorize conversations from the user. You should always answer user query based on the following context:\\n<Documents>\\n{context}\\n</Documents>. \\\n",
    "                    Be polite and helpful, make sure your respond sounds natural and remove unnecessary info such as search_memory or quote facts.\",\n",
    "                ),\n",
    "                (\"user\", \"{input}\"),\n",
    "            ]\n",
    "        )\n",
    "\n",
    "memory_retriever_chain = (\n",
    "    {\"context\": memory_manager.search_recall_memories, \"input\": RunnablePassthrough()}\n",
    "    | prompt\n",
    "    | llm \n",
    ")\n",
    "   \n",
    "\n",
    "async def mem_routing_function(inputs):\n",
    "    query=inputs[\"input\"]\n",
    "    config=inputs[\"config\"]\n",
    "    output=await memory_manager.memory_routing(query, config)\n",
    "    inputs[\"mem_ops\"]=output\n",
    "    print(Fore.GREEN+\"chosen_mem_ops=\", output, Fore.RESET)\n",
    "    return inputs\n",
    "\n",
    "async def create_memory_items(inputs):\n",
    "    query=inputs[\"input\"]\n",
    "    memory_items = await memory_manager.query_to_memory_items(query=query)\n",
    "    inputs[\"memory_items\"]=memory_items\n",
    "    return inputs\n",
    "\n",
    "#runnable_parallel_1 = RunnableLambda(mem_routing_function)\n",
    "#runnable_parallel_2 = RunnableLambda(create_memory_items)\n",
    "    \n",
    "\n",
    "async def execute_memory_operations(inputs):\n",
    "    mem_ops=inputs[\"mem_ops\"]  \n",
    "    query=inputs[\"input\"]\n",
    "    if \"search_memory\" in mem_ops.lower():\n",
    "        out= await memory_retriever_chain.ainvoke(query)\n",
    "        output=out.content\n",
    "        print(Fore.CYAN+ \"integrating response and recall memory items = \\n \", output, Fore.RESET)\n",
    "        memory_items_d= await create_memory_items(inputs)\n",
    "        memory_items = memory_items_d[\"memory_items\"][\"facts\"]\n",
    "        assert type(memory_items)==list \n",
    "        #print(Fore.RED +\">>>>>>>>>>>>>>>>>>>>> memory_items<<<<<<<<<<<<<<<<<<<<<< \\n \" , memory_items, Fore.RESET)\n",
    "        memories, ids= memory_manager.save_recall_memory(memory_items, memory_manager.config)        \n",
    "    else:        \n",
    "        user_id=inputs[\"config\"][\"configurable\"][\"user_id\"]\n",
    "        memory_manager.user_id=user_id\n",
    "        out= await memory_retriever_chain.ainvoke(query)\n",
    "        output=out.content\n",
    "        print(Fore.YELLOW + \"no memory operation needed continue to respond \", output, Fore.RESET)\n",
    "    output= output.replace(\"search_memory\",\"\")\n",
    "    return output\n",
    "\n",
    "sequence = RunnablePassthrough()  | mem_routing_function  | execute_memory_operations\n",
    "\n"
   ]
  },
  {
   "cell_type": "code",
   "execution_count": 12,
   "id": "719e929c-2bb7-4963-af36-bf63cd7b594b",
   "metadata": {},
   "outputs": [
    {
     "name": "stdout",
     "output_type": "stream",
     "text": [
      "\u001b[32mchosen_mem_ops= search_memory \u001b[39m\n",
      "\u001b[36mintegrating response and recall memory items = \n",
      "  That's nice to meet you, Babe. However, I can tell that you're quite a conversationalist. Have you and Rob had any sort of disagreement lately? \u001b[39m\n"
     ]
    },
    {
     "data": {
      "text/plain": [
       "\"That's nice to meet you, Babe. However, I can tell that you're quite a conversationalist. Have you and Rob had any sort of disagreement lately?\""
      ]
     },
     "execution_count": 12,
     "metadata": {},
     "output_type": "execute_result"
    }
   ],
   "source": [
    "output=await sequence.ainvoke(input={\"input\":\"hi, my name is Babe, I am a pig and I can talk, my best friend is a chicken named Rob.\", \"config\":config})\n",
    "output"
   ]
  },
  {
   "cell_type": "code",
   "execution_count": 13,
   "id": "4acee98b-b512-46e3-98c4-19520dcbf5a8",
   "metadata": {},
   "outputs": [
    {
     "data": {
      "text/plain": [
       "\"That's nice to meet you, Babe. However, I can tell that you're quite a conversationalist. Have you and Rob had any sort of disagreement lately?\""
      ]
     },
     "execution_count": 13,
     "metadata": {},
     "output_type": "execute_result"
    }
   ],
   "source": [
    "output"
   ]
  },
  {
   "cell_type": "markdown",
   "id": "b0fb87b3-2576-499c-9836-57c728df4937",
   "metadata": {},
   "source": [
    "## populate the memory with conversations"
   ]
  },
  {
   "cell_type": "code",
   "execution_count": 6,
   "id": "841988f4-8d0e-4054-84ea-05574cd42384",
   "metadata": {},
   "outputs": [
    {
     "name": "stdout",
     "output_type": "stream",
     "text": [
      "search|search_memory|\u001b[32mchosen_mem_ops= search_memory \u001b[39m\n",
      "search_memoryHello|search_memoryHello Babe|search_memoryHello Babe the|search_memoryHello Babe the talking|search_memoryHello Babe the talking pig|search_memoryHello Babe the talking pig,|search_memoryHello Babe the talking pig, it|search_memoryHello Babe the talking pig, it's|search_memoryHello Babe the talking pig, it's lovely|search_memoryHello Babe the talking pig, it's lovely to|search_memoryHello Babe the talking pig, it's lovely to meet|search_memoryHello Babe the talking pig, it's lovely to meet you|search_memoryHello Babe the talking pig, it's lovely to meet you and|search_memoryHello Babe the talking pig, it's lovely to meet you and your|search_memoryHello Babe the talking pig, it's lovely to meet you and your feather|search_memoryHello Babe the talking pig, it's lovely to meet you and your feathered|search_memoryHello Babe the talking pig, it's lovely to meet you and your feathered friend|search_memoryHello Babe the talking pig, it's lovely to meet you and your feathered friend Rob|search_memoryHello Babe the talking pig, it's lovely to meet you and your feathered friend Rob the|search_memoryHello Babe the talking pig, it's lovely to meet you and your feathered friend Rob the chicken|search_memoryHello Babe the talking pig, it's lovely to meet you and your feathered friend Rob the chicken.|search_memoryHello Babe the talking pig, it's lovely to meet you and your feathered friend Rob the chicken. How|search_memoryHello Babe the talking pig, it's lovely to meet you and your feathered friend Rob the chicken. How exciting|search_memoryHello Babe the talking pig, it's lovely to meet you and your feathered friend Rob the chicken. How exciting is|search_memoryHello Babe the talking pig, it's lovely to meet you and your feathered friend Rob the chicken. How exciting is it|search_memoryHello Babe the talking pig, it's lovely to meet you and your feathered friend Rob the chicken. How exciting is it to|search_memoryHello Babe the talking pig, it's lovely to meet you and your feathered friend Rob the chicken. How exciting is it to have|search_memoryHello Babe the talking pig, it's lovely to meet you and your feathered friend Rob the chicken. How exciting is it to have such|search_memoryHello Babe the talking pig, it's lovely to meet you and your feathered friend Rob the chicken. How exciting is it to have such an|search_memoryHello Babe the talking pig, it's lovely to meet you and your feathered friend Rob the chicken. How exciting is it to have such an amazing|search_memoryHello Babe the talking pig, it's lovely to meet you and your feathered friend Rob the chicken. How exciting is it to have such an amazing friendship|search_memoryHello Babe the talking pig, it's lovely to meet you and your feathered friend Rob the chicken. How exciting is it to have such an amazing friendship?|search_memoryHello Babe the talking pig, it's lovely to meet you and your feathered friend Rob the chicken. How exciting is it to have such an amazing friendship? What|search_memoryHello Babe the talking pig, it's lovely to meet you and your feathered friend Rob the chicken. How exciting is it to have such an amazing friendship? What kind|search_memoryHello Babe the talking pig, it's lovely to meet you and your feathered friend Rob the chicken. How exciting is it to have such an amazing friendship? What kind of|search_memoryHello Babe the talking pig, it's lovely to meet you and your feathered friend Rob the chicken. How exciting is it to have such an amazing friendship? What kind of adventures|search_memoryHello Babe the talking pig, it's lovely to meet you and your feathered friend Rob the chicken. How exciting is it to have such an amazing friendship? What kind of adventures do|search_memoryHello Babe the talking pig, it's lovely to meet you and your feathered friend Rob the chicken. How exciting is it to have such an amazing friendship? What kind of adventures do you|search_memoryHello Babe the talking pig, it's lovely to meet you and your feathered friend Rob the chicken. How exciting is it to have such an amazing friendship? What kind of adventures do you and|search_memoryHello Babe the talking pig, it's lovely to meet you and your feathered friend Rob the chicken. How exciting is it to have such an amazing friendship? What kind of adventures do you and Rob|search_memoryHello Babe the talking pig, it's lovely to meet you and your feathered friend Rob the chicken. How exciting is it to have such an amazing friendship? What kind of adventures do you and Rob get|search_memoryHello Babe the talking pig, it's lovely to meet you and your feathered friend Rob the chicken. How exciting is it to have such an amazing friendship? What kind of adventures do you and Rob get up|search_memoryHello Babe the talking pig, it's lovely to meet you and your feathered friend Rob the chicken. How exciting is it to have such an amazing friendship? What kind of adventures do you and Rob get up to|search_memoryHello Babe the talking pig, it's lovely to meet you and your feathered friend Rob the chicken. How exciting is it to have such an amazing friendship? What kind of adventures do you and Rob get up to on|search_memoryHello Babe the talking pig, it's lovely to meet you and your feathered friend Rob the chicken. How exciting is it to have such an amazing friendship? What kind of adventures do you and Rob get up to on your|search_memoryHello Babe the talking pig, it's lovely to meet you and your feathered friend Rob the chicken. How exciting is it to have such an amazing friendship? What kind of adventures do you and Rob get up to on your farm|search_memoryHello Babe the talking pig, it's lovely to meet you and your feathered friend Rob the chicken. How exciting is it to have such an amazing friendship? What kind of adventures do you and Rob get up to on your farm?|\u001b[36mintegrating response and recall memory items = \n",
      "  Hello Babe the talking pig, it's lovely to meet you and your feathered friend Rob the chicken. How exciting is it to have such an amazing friendship? What kind of adventures do you and Rob get up to on your farm? \u001b[39m\n",
      "search_memoryHello Babe the talking pig, it's lovely to meet you and your feathered friend Rob the chicken. How exciting is it to have such an amazing friendship? What kind of adventures do you and Rob get up to on your farm?{\"|search_memoryHello Babe the talking pig, it's lovely to meet you and your feathered friend Rob the chicken. How exciting is it to have such an amazing friendship? What kind of adventures do you and Rob get up to on your farm?{\"facts|search_memoryHello Babe the talking pig, it's lovely to meet you and your feathered friend Rob the chicken. How exciting is it to have such an amazing friendship? What kind of adventures do you and Rob get up to on your farm?{\"facts\"|search_memoryHello Babe the talking pig, it's lovely to meet you and your feathered friend Rob the chicken. How exciting is it to have such an amazing friendship? What kind of adventures do you and Rob get up to on your farm?{\"facts\" :|search_memoryHello Babe the talking pig, it's lovely to meet you and your feathered friend Rob the chicken. How exciting is it to have such an amazing friendship? What kind of adventures do you and Rob get up to on your farm?{\"facts\" : [\"|search_memoryHello Babe the talking pig, it's lovely to meet you and your feathered friend Rob the chicken. How exciting is it to have such an amazing friendship? What kind of adventures do you and Rob get up to on your farm?{\"facts\" : [\"Name|search_memoryHello Babe the talking pig, it's lovely to meet you and your feathered friend Rob the chicken. How exciting is it to have such an amazing friendship? What kind of adventures do you and Rob get up to on your farm?{\"facts\" : [\"Name is|search_memoryHello Babe the talking pig, it's lovely to meet you and your feathered friend Rob the chicken. How exciting is it to have such an amazing friendship? What kind of adventures do you and Rob get up to on your farm?{\"facts\" : [\"Name is Babe|search_memoryHello Babe the talking pig, it's lovely to meet you and your feathered friend Rob the chicken. How exciting is it to have such an amazing friendship? What kind of adventures do you and Rob get up to on your farm?{\"facts\" : [\"Name is Babe\",|search_memoryHello Babe the talking pig, it's lovely to meet you and your feathered friend Rob the chicken. How exciting is it to have such an amazing friendship? What kind of adventures do you and Rob get up to on your farm?{\"facts\" : [\"Name is Babe\", \"|search_memoryHello Babe the talking pig, it's lovely to meet you and your feathered friend Rob the chicken. How exciting is it to have such an amazing friendship? What kind of adventures do you and Rob get up to on your farm?{\"facts\" : [\"Name is Babe\", \"Is|search_memoryHello Babe the talking pig, it's lovely to meet you and your feathered friend Rob the chicken. How exciting is it to have such an amazing friendship? What kind of adventures do you and Rob get up to on your farm?{\"facts\" : [\"Name is Babe\", \"Is a|search_memoryHello Babe the talking pig, it's lovely to meet you and your feathered friend Rob the chicken. How exciting is it to have such an amazing friendship? What kind of adventures do you and Rob get up to on your farm?{\"facts\" : [\"Name is Babe\", \"Is a Pig|search_memoryHello Babe the talking pig, it's lovely to meet you and your feathered friend Rob the chicken. How exciting is it to have such an amazing friendship? What kind of adventures do you and Rob get up to on your farm?{\"facts\" : [\"Name is Babe\", \"Is a Pig\",|search_memoryHello Babe the talking pig, it's lovely to meet you and your feathered friend Rob the chicken. How exciting is it to have such an amazing friendship? What kind of adventures do you and Rob get up to on your farm?{\"facts\" : [\"Name is Babe\", \"Is a Pig\", \"|search_memoryHello Babe the talking pig, it's lovely to meet you and your feathered friend Rob the chicken. How exciting is it to have such an amazing friendship? What kind of adventures do you and Rob get up to on your farm?{\"facts\" : [\"Name is Babe\", \"Is a Pig\", \"Can|search_memoryHello Babe the talking pig, it's lovely to meet you and your feathered friend Rob the chicken. How exciting is it to have such an amazing friendship? What kind of adventures do you and Rob get up to on your farm?{\"facts\" : [\"Name is Babe\", \"Is a Pig\", \"Can talk|search_memoryHello Babe the talking pig, it's lovely to meet you and your feathered friend Rob the chicken. How exciting is it to have such an amazing friendship? What kind of adventures do you and Rob get up to on your farm?{\"facts\" : [\"Name is Babe\", \"Is a Pig\", \"Can talk\",|search_memoryHello Babe the talking pig, it's lovely to meet you and your feathered friend Rob the chicken. How exciting is it to have such an amazing friendship? What kind of adventures do you and Rob get up to on your farm?{\"facts\" : [\"Name is Babe\", \"Is a Pig\", \"Can talk\", \"|search_memoryHello Babe the talking pig, it's lovely to meet you and your feathered friend Rob the chicken. How exciting is it to have such an amazing friendship? What kind of adventures do you and Rob get up to on your farm?{\"facts\" : [\"Name is Babe\", \"Is a Pig\", \"Can talk\", \"Has|search_memoryHello Babe the talking pig, it's lovely to meet you and your feathered friend Rob the chicken. How exciting is it to have such an amazing friendship? What kind of adventures do you and Rob get up to on your farm?{\"facts\" : [\"Name is Babe\", \"Is a Pig\", \"Can talk\", \"Has a|search_memoryHello Babe the talking pig, it's lovely to meet you and your feathered friend Rob the chicken. How exciting is it to have such an amazing friendship? What kind of adventures do you and Rob get up to on your farm?{\"facts\" : [\"Name is Babe\", \"Is a Pig\", \"Can talk\", \"Has a friend|search_memoryHello Babe the talking pig, it's lovely to meet you and your feathered friend Rob the chicken. How exciting is it to have such an amazing friendship? What kind of adventures do you and Rob get up to on your farm?{\"facts\" : [\"Name is Babe\", \"Is a Pig\", \"Can talk\", \"Has a friend named|search_memoryHello Babe the talking pig, it's lovely to meet you and your feathered friend Rob the chicken. How exciting is it to have such an amazing friendship? What kind of adventures do you and Rob get up to on your farm?{\"facts\" : [\"Name is Babe\", \"Is a Pig\", \"Can talk\", \"Has a friend named Rob|search_memoryHello Babe the talking pig, it's lovely to meet you and your feathered friend Rob the chicken. How exciting is it to have such an amazing friendship? What kind of adventures do you and Rob get up to on your farm?{\"facts\" : [\"Name is Babe\", \"Is a Pig\", \"Can talk\", \"Has a friend named Rob who|search_memoryHello Babe the talking pig, it's lovely to meet you and your feathered friend Rob the chicken. How exciting is it to have such an amazing friendship? What kind of adventures do you and Rob get up to on your farm?{\"facts\" : [\"Name is Babe\", \"Is a Pig\", \"Can talk\", \"Has a friend named Rob who is|search_memoryHello Babe the talking pig, it's lovely to meet you and your feathered friend Rob the chicken. How exciting is it to have such an amazing friendship? What kind of adventures do you and Rob get up to on your farm?{\"facts\" : [\"Name is Babe\", \"Is a Pig\", \"Can talk\", \"Has a friend named Rob who is a|search_memoryHello Babe the talking pig, it's lovely to meet you and your feathered friend Rob the chicken. How exciting is it to have such an amazing friendship? What kind of adventures do you and Rob get up to on your farm?{\"facts\" : [\"Name is Babe\", \"Is a Pig\", \"Can talk\", \"Has a friend named Rob who is a Chicken|search_memoryHello Babe the talking pig, it's lovely to meet you and your feathered friend Rob the chicken. How exciting is it to have such an amazing friendship? What kind of adventures do you and Rob get up to on your farm?{\"facts\" : [\"Name is Babe\", \"Is a Pig\", \"Can talk\", \"Has a friend named Rob who is a Chicken\"]}|"
     ]
    }
   ],
   "source": [
    "config = {\"configurable\": {\"user_id\": \"babe\", \"thread_id\": \"1\"}}\n",
    "\n",
    "output=\"\"\n",
    "async for event in sequence.astream_events(input={\"input\":\"hi, my name is Babe, I am a pig and I can talk, my best friend is a chicken named Rob.\", \"config\":config}):\n",
    "    kind = event[\"event\"]\n",
    "    if kind == \"on_chat_model_stream\":\n",
    "        content = event[\"data\"][\"chunk\"].content\n",
    "        if content:\n",
    "            output += content\n",
    "            print(output, end=\"|\", flush=True)\n"
   ]
  },
  {
   "cell_type": "code",
   "execution_count": 7,
   "id": "359651f5-65e5-4d2e-86eb-47be4190c84c",
   "metadata": {},
   "outputs": [
    {
     "name": "stdout",
     "output_type": "stream",
     "text": [
      "search|search_memory|\u001b[32mchosen_mem_ops= search_memory \u001b[39m\n",
      "search_memoryI|search_memoryI'm|search_memoryI'm so|search_memoryI'm so sorry|search_memoryI'm so sorry to|search_memoryI'm so sorry to hear|search_memoryI'm so sorry to hear that|search_memoryI'm so sorry to hear that you|search_memoryI'm so sorry to hear that you had|search_memoryI'm so sorry to hear that you had a|search_memoryI'm so sorry to hear that you had a fight|search_memoryI'm so sorry to hear that you had a fight with|search_memoryI'm so sorry to hear that you had a fight with Rob|search_memoryI'm so sorry to hear that you had a fight with Rob the|search_memoryI'm so sorry to hear that you had a fight with Rob the chicken|search_memoryI'm so sorry to hear that you had a fight with Rob the chicken.|search_memoryI'm so sorry to hear that you had a fight with Rob the chicken. It|search_memoryI'm so sorry to hear that you had a fight with Rob the chicken. It's|search_memoryI'm so sorry to hear that you had a fight with Rob the chicken. It's totally|search_memoryI'm so sorry to hear that you had a fight with Rob the chicken. It's totally fine|search_memoryI'm so sorry to hear that you had a fight with Rob the chicken. It's totally fine that|search_memoryI'm so sorry to hear that you had a fight with Rob the chicken. It's totally fine that your|search_memoryI'm so sorry to hear that you had a fight with Rob the chicken. It's totally fine that your best|search_memoryI'm so sorry to hear that you had a fight with Rob the chicken. It's totally fine that your best friend|search_memoryI'm so sorry to hear that you had a fight with Rob the chicken. It's totally fine that your best friend is|search_memoryI'm so sorry to hear that you had a fight with Rob the chicken. It's totally fine that your best friend is now|search_memoryI'm so sorry to hear that you had a fight with Rob the chicken. It's totally fine that your best friend is now Owen|search_memoryI'm so sorry to hear that you had a fight with Rob the chicken. It's totally fine that your best friend is now Owen the|search_memoryI'm so sorry to hear that you had a fight with Rob the chicken. It's totally fine that your best friend is now Owen the wise|search_memoryI'm so sorry to hear that you had a fight with Rob the chicken. It's totally fine that your best friend is now Owen the wise owl|search_memoryI'm so sorry to hear that you had a fight with Rob the chicken. It's totally fine that your best friend is now Owen the wise owl,|search_memoryI'm so sorry to hear that you had a fight with Rob the chicken. It's totally fine that your best friend is now Owen the wise owl, though|search_memoryI'm so sorry to hear that you had a fight with Rob the chicken. It's totally fine that your best friend is now Owen the wise owl, though -|search_memoryI'm so sorry to hear that you had a fight with Rob the chicken. It's totally fine that your best friend is now Owen the wise owl, though - it|search_memoryI'm so sorry to hear that you had a fight with Rob the chicken. It's totally fine that your best friend is now Owen the wise owl, though - it sounds|search_memoryI'm so sorry to hear that you had a fight with Rob the chicken. It's totally fine that your best friend is now Owen the wise owl, though - it sounds like|search_memoryI'm so sorry to hear that you had a fight with Rob the chicken. It's totally fine that your best friend is now Owen the wise owl, though - it sounds like you|search_memoryI'm so sorry to hear that you had a fight with Rob the chicken. It's totally fine that your best friend is now Owen the wise owl, though - it sounds like you've|search_memoryI'm so sorry to hear that you had a fight with Rob the chicken. It's totally fine that your best friend is now Owen the wise owl, though - it sounds like you've found|search_memoryI'm so sorry to hear that you had a fight with Rob the chicken. It's totally fine that your best friend is now Owen the wise owl, though - it sounds like you've found someone|search_memoryI'm so sorry to hear that you had a fight with Rob the chicken. It's totally fine that your best friend is now Owen the wise owl, though - it sounds like you've found someone very|search_memoryI'm so sorry to hear that you had a fight with Rob the chicken. It's totally fine that your best friend is now Owen the wise owl, though - it sounds like you've found someone very wise|search_memoryI'm so sorry to hear that you had a fight with Rob the chicken. It's totally fine that your best friend is now Owen the wise owl, though - it sounds like you've found someone very wise to|search_memoryI'm so sorry to hear that you had a fight with Rob the chicken. It's totally fine that your best friend is now Owen the wise owl, though - it sounds like you've found someone very wise to look|search_memoryI'm so sorry to hear that you had a fight with Rob the chicken. It's totally fine that your best friend is now Owen the wise owl, though - it sounds like you've found someone very wise to look out|search_memoryI'm so sorry to hear that you had a fight with Rob the chicken. It's totally fine that your best friend is now Owen the wise owl, though - it sounds like you've found someone very wise to look out for|search_memoryI'm so sorry to hear that you had a fight with Rob the chicken. It's totally fine that your best friend is now Owen the wise owl, though - it sounds like you've found someone very wise to look out for you|search_memoryI'm so sorry to hear that you had a fight with Rob the chicken. It's totally fine that your best friend is now Owen the wise owl, though - it sounds like you've found someone very wise to look out for you.|search_memoryI'm so sorry to hear that you had a fight with Rob the chicken. It's totally fine that your best friend is now Owen the wise owl, though - it sounds like you've found someone very wise to look out for you. I|search_memoryI'm so sorry to hear that you had a fight with Rob the chicken. It's totally fine that your best friend is now Owen the wise owl, though - it sounds like you've found someone very wise to look out for you. I hope|search_memoryI'm so sorry to hear that you had a fight with Rob the chicken. It's totally fine that your best friend is now Owen the wise owl, though - it sounds like you've found someone very wise to look out for you. I hope everything|search_memoryI'm so sorry to hear that you had a fight with Rob the chicken. It's totally fine that your best friend is now Owen the wise owl, though - it sounds like you've found someone very wise to look out for you. I hope everything works|search_memoryI'm so sorry to hear that you had a fight with Rob the chicken. It's totally fine that your best friend is now Owen the wise owl, though - it sounds like you've found someone very wise to look out for you. I hope everything works out|search_memoryI'm so sorry to hear that you had a fight with Rob the chicken. It's totally fine that your best friend is now Owen the wise owl, though - it sounds like you've found someone very wise to look out for you. I hope everything works out with|search_memoryI'm so sorry to hear that you had a fight with Rob the chicken. It's totally fine that your best friend is now Owen the wise owl, though - it sounds like you've found someone very wise to look out for you. I hope everything works out with you|search_memoryI'm so sorry to hear that you had a fight with Rob the chicken. It's totally fine that your best friend is now Owen the wise owl, though - it sounds like you've found someone very wise to look out for you. I hope everything works out with you and|search_memoryI'm so sorry to hear that you had a fight with Rob the chicken. It's totally fine that your best friend is now Owen the wise owl, though - it sounds like you've found someone very wise to look out for you. I hope everything works out with you and Rob|search_memoryI'm so sorry to hear that you had a fight with Rob the chicken. It's totally fine that your best friend is now Owen the wise owl, though - it sounds like you've found someone very wise to look out for you. I hope everything works out with you and Rob in|search_memoryI'm so sorry to hear that you had a fight with Rob the chicken. It's totally fine that your best friend is now Owen the wise owl, though - it sounds like you've found someone very wise to look out for you. I hope everything works out with you and Rob in the|search_memoryI'm so sorry to hear that you had a fight with Rob the chicken. It's totally fine that your best friend is now Owen the wise owl, though - it sounds like you've found someone very wise to look out for you. I hope everything works out with you and Rob in the future|search_memoryI'm so sorry to hear that you had a fight with Rob the chicken. It's totally fine that your best friend is now Owen the wise owl, though - it sounds like you've found someone very wise to look out for you. I hope everything works out with you and Rob in the future,|search_memoryI'm so sorry to hear that you had a fight with Rob the chicken. It's totally fine that your best friend is now Owen the wise owl, though - it sounds like you've found someone very wise to look out for you. I hope everything works out with you and Rob in the future, but|search_memoryI'm so sorry to hear that you had a fight with Rob the chicken. It's totally fine that your best friend is now Owen the wise owl, though - it sounds like you've found someone very wise to look out for you. I hope everything works out with you and Rob in the future, but for|search_memoryI'm so sorry to hear that you had a fight with Rob the chicken. It's totally fine that your best friend is now Owen the wise owl, though - it sounds like you've found someone very wise to look out for you. I hope everything works out with you and Rob in the future, but for now|search_memoryI'm so sorry to hear that you had a fight with Rob the chicken. It's totally fine that your best friend is now Owen the wise owl, though - it sounds like you've found someone very wise to look out for you. I hope everything works out with you and Rob in the future, but for now,|search_memoryI'm so sorry to hear that you had a fight with Rob the chicken. It's totally fine that your best friend is now Owen the wise owl, though - it sounds like you've found someone very wise to look out for you. I hope everything works out with you and Rob in the future, but for now, I|search_memoryI'm so sorry to hear that you had a fight with Rob the chicken. It's totally fine that your best friend is now Owen the wise owl, though - it sounds like you've found someone very wise to look out for you. I hope everything works out with you and Rob in the future, but for now, I'm|search_memoryI'm so sorry to hear that you had a fight with Rob the chicken. It's totally fine that your best friend is now Owen the wise owl, though - it sounds like you've found someone very wise to look out for you. I hope everything works out with you and Rob in the future, but for now, I'm happy|search_memoryI'm so sorry to hear that you had a fight with Rob the chicken. It's totally fine that your best friend is now Owen the wise owl, though - it sounds like you've found someone very wise to look out for you. I hope everything works out with you and Rob in the future, but for now, I'm happy to|search_memoryI'm so sorry to hear that you had a fight with Rob the chicken. It's totally fine that your best friend is now Owen the wise owl, though - it sounds like you've found someone very wise to look out for you. I hope everything works out with you and Rob in the future, but for now, I'm happy to hear|search_memoryI'm so sorry to hear that you had a fight with Rob the chicken. It's totally fine that your best friend is now Owen the wise owl, though - it sounds like you've found someone very wise to look out for you. I hope everything works out with you and Rob in the future, but for now, I'm happy to hear about|search_memoryI'm so sorry to hear that you had a fight with Rob the chicken. It's totally fine that your best friend is now Owen the wise owl, though - it sounds like you've found someone very wise to look out for you. I hope everything works out with you and Rob in the future, but for now, I'm happy to hear about your|search_memoryI'm so sorry to hear that you had a fight with Rob the chicken. It's totally fine that your best friend is now Owen the wise owl, though - it sounds like you've found someone very wise to look out for you. I hope everything works out with you and Rob in the future, but for now, I'm happy to hear about your new|search_memoryI'm so sorry to hear that you had a fight with Rob the chicken. It's totally fine that your best friend is now Owen the wise owl, though - it sounds like you've found someone very wise to look out for you. I hope everything works out with you and Rob in the future, but for now, I'm happy to hear about your new friend|search_memoryI'm so sorry to hear that you had a fight with Rob the chicken. It's totally fine that your best friend is now Owen the wise owl, though - it sounds like you've found someone very wise to look out for you. I hope everything works out with you and Rob in the future, but for now, I'm happy to hear about your new friend Owen|search_memoryI'm so sorry to hear that you had a fight with Rob the chicken. It's totally fine that your best friend is now Owen the wise owl, though - it sounds like you've found someone very wise to look out for you. I hope everything works out with you and Rob in the future, but for now, I'm happy to hear about your new friend Owen.|\u001b[36mintegrating response and recall memory items = \n",
      "  I'm so sorry to hear that you had a fight with Rob the chicken. It's totally fine that your best friend is now Owen the wise owl, though - it sounds like you've found someone very wise to look out for you. I hope everything works out with you and Rob in the future, but for now, I'm happy to hear about your new friend Owen. \u001b[39m\n",
      "search_memoryI'm so sorry to hear that you had a fight with Rob the chicken. It's totally fine that your best friend is now Owen the wise owl, though - it sounds like you've found someone very wise to look out for you. I hope everything works out with you and Rob in the future, but for now, I'm happy to hear about your new friend Owen.{\"|search_memoryI'm so sorry to hear that you had a fight with Rob the chicken. It's totally fine that your best friend is now Owen the wise owl, though - it sounds like you've found someone very wise to look out for you. I hope everything works out with you and Rob in the future, but for now, I'm happy to hear about your new friend Owen.{\"facts|search_memoryI'm so sorry to hear that you had a fight with Rob the chicken. It's totally fine that your best friend is now Owen the wise owl, though - it sounds like you've found someone very wise to look out for you. I hope everything works out with you and Rob in the future, but for now, I'm happy to hear about your new friend Owen.{\"facts\"|search_memoryI'm so sorry to hear that you had a fight with Rob the chicken. It's totally fine that your best friend is now Owen the wise owl, though - it sounds like you've found someone very wise to look out for you. I hope everything works out with you and Rob in the future, but for now, I'm happy to hear about your new friend Owen.{\"facts\" :|search_memoryI'm so sorry to hear that you had a fight with Rob the chicken. It's totally fine that your best friend is now Owen the wise owl, though - it sounds like you've found someone very wise to look out for you. I hope everything works out with you and Rob in the future, but for now, I'm happy to hear about your new friend Owen.{\"facts\" : [\"|search_memoryI'm so sorry to hear that you had a fight with Rob the chicken. It's totally fine that your best friend is now Owen the wise owl, though - it sounds like you've found someone very wise to look out for you. I hope everything works out with you and Rob in the future, but for now, I'm happy to hear about your new friend Owen.{\"facts\" : [\"Had|search_memoryI'm so sorry to hear that you had a fight with Rob the chicken. It's totally fine that your best friend is now Owen the wise owl, though - it sounds like you've found someone very wise to look out for you. I hope everything works out with you and Rob in the future, but for now, I'm happy to hear about your new friend Owen.{\"facts\" : [\"Had a|search_memoryI'm so sorry to hear that you had a fight with Rob the chicken. It's totally fine that your best friend is now Owen the wise owl, though - it sounds like you've found someone very wise to look out for you. I hope everything works out with you and Rob in the future, but for now, I'm happy to hear about your new friend Owen.{\"facts\" : [\"Had a fight|search_memoryI'm so sorry to hear that you had a fight with Rob the chicken. It's totally fine that your best friend is now Owen the wise owl, though - it sounds like you've found someone very wise to look out for you. I hope everything works out with you and Rob in the future, but for now, I'm happy to hear about your new friend Owen.{\"facts\" : [\"Had a fight with|search_memoryI'm so sorry to hear that you had a fight with Rob the chicken. It's totally fine that your best friend is now Owen the wise owl, though - it sounds like you've found someone very wise to look out for you. I hope everything works out with you and Rob in the future, but for now, I'm happy to hear about your new friend Owen.{\"facts\" : [\"Had a fight with Rob|search_memoryI'm so sorry to hear that you had a fight with Rob the chicken. It's totally fine that your best friend is now Owen the wise owl, though - it sounds like you've found someone very wise to look out for you. I hope everything works out with you and Rob in the future, but for now, I'm happy to hear about your new friend Owen.{\"facts\" : [\"Had a fight with Rob,|search_memoryI'm so sorry to hear that you had a fight with Rob the chicken. It's totally fine that your best friend is now Owen the wise owl, though - it sounds like you've found someone very wise to look out for you. I hope everything works out with you and Rob in the future, but for now, I'm happy to hear about your new friend Owen.{\"facts\" : [\"Had a fight with Rob, the|search_memoryI'm so sorry to hear that you had a fight with Rob the chicken. It's totally fine that your best friend is now Owen the wise owl, though - it sounds like you've found someone very wise to look out for you. I hope everything works out with you and Rob in the future, but for now, I'm happy to hear about your new friend Owen.{\"facts\" : [\"Had a fight with Rob, the chicken|search_memoryI'm so sorry to hear that you had a fight with Rob the chicken. It's totally fine that your best friend is now Owen the wise owl, though - it sounds like you've found someone very wise to look out for you. I hope everything works out with you and Rob in the future, but for now, I'm happy to hear about your new friend Owen.{\"facts\" : [\"Had a fight with Rob, the chicken\",|search_memoryI'm so sorry to hear that you had a fight with Rob the chicken. It's totally fine that your best friend is now Owen the wise owl, though - it sounds like you've found someone very wise to look out for you. I hope everything works out with you and Rob in the future, but for now, I'm happy to hear about your new friend Owen.{\"facts\" : [\"Had a fight with Rob, the chicken\", \"|search_memoryI'm so sorry to hear that you had a fight with Rob the chicken. It's totally fine that your best friend is now Owen the wise owl, though - it sounds like you've found someone very wise to look out for you. I hope everything works out with you and Rob in the future, but for now, I'm happy to hear about your new friend Owen.{\"facts\" : [\"Had a fight with Rob, the chicken\", \"Rob|search_memoryI'm so sorry to hear that you had a fight with Rob the chicken. It's totally fine that your best friend is now Owen the wise owl, though - it sounds like you've found someone very wise to look out for you. I hope everything works out with you and Rob in the future, but for now, I'm happy to hear about your new friend Owen.{\"facts\" : [\"Had a fight with Rob, the chicken\", \"Rob,|search_memoryI'm so sorry to hear that you had a fight with Rob the chicken. It's totally fine that your best friend is now Owen the wise owl, though - it sounds like you've found someone very wise to look out for you. I hope everything works out with you and Rob in the future, but for now, I'm happy to hear about your new friend Owen.{\"facts\" : [\"Had a fight with Rob, the chicken\", \"Rob, the|search_memoryI'm so sorry to hear that you had a fight with Rob the chicken. It's totally fine that your best friend is now Owen the wise owl, though - it sounds like you've found someone very wise to look out for you. I hope everything works out with you and Rob in the future, but for now, I'm happy to hear about your new friend Owen.{\"facts\" : [\"Had a fight with Rob, the chicken\", \"Rob, the chicken|search_memoryI'm so sorry to hear that you had a fight with Rob the chicken. It's totally fine that your best friend is now Owen the wise owl, though - it sounds like you've found someone very wise to look out for you. I hope everything works out with you and Rob in the future, but for now, I'm happy to hear about your new friend Owen.{\"facts\" : [\"Had a fight with Rob, the chicken\", \"Rob, the chicken,|search_memoryI'm so sorry to hear that you had a fight with Rob the chicken. It's totally fine that your best friend is now Owen the wise owl, though - it sounds like you've found someone very wise to look out for you. I hope everything works out with you and Rob in the future, but for now, I'm happy to hear about your new friend Owen.{\"facts\" : [\"Had a fight with Rob, the chicken\", \"Rob, the chicken, is|search_memoryI'm so sorry to hear that you had a fight with Rob the chicken. It's totally fine that your best friend is now Owen the wise owl, though - it sounds like you've found someone very wise to look out for you. I hope everything works out with you and Rob in the future, but for now, I'm happy to hear about your new friend Owen.{\"facts\" : [\"Had a fight with Rob, the chicken\", \"Rob, the chicken, is no|search_memoryI'm so sorry to hear that you had a fight with Rob the chicken. It's totally fine that your best friend is now Owen the wise owl, though - it sounds like you've found someone very wise to look out for you. I hope everything works out with you and Rob in the future, but for now, I'm happy to hear about your new friend Owen.{\"facts\" : [\"Had a fight with Rob, the chicken\", \"Rob, the chicken, is no longer|search_memoryI'm so sorry to hear that you had a fight with Rob the chicken. It's totally fine that your best friend is now Owen the wise owl, though - it sounds like you've found someone very wise to look out for you. I hope everything works out with you and Rob in the future, but for now, I'm happy to hear about your new friend Owen.{\"facts\" : [\"Had a fight with Rob, the chicken\", \"Rob, the chicken, is no longer their|search_memoryI'm so sorry to hear that you had a fight with Rob the chicken. It's totally fine that your best friend is now Owen the wise owl, though - it sounds like you've found someone very wise to look out for you. I hope everything works out with you and Rob in the future, but for now, I'm happy to hear about your new friend Owen.{\"facts\" : [\"Had a fight with Rob, the chicken\", \"Rob, the chicken, is no longer their best|search_memoryI'm so sorry to hear that you had a fight with Rob the chicken. It's totally fine that your best friend is now Owen the wise owl, though - it sounds like you've found someone very wise to look out for you. I hope everything works out with you and Rob in the future, but for now, I'm happy to hear about your new friend Owen.{\"facts\" : [\"Had a fight with Rob, the chicken\", \"Rob, the chicken, is no longer their best friend|search_memoryI'm so sorry to hear that you had a fight with Rob the chicken. It's totally fine that your best friend is now Owen the wise owl, though - it sounds like you've found someone very wise to look out for you. I hope everything works out with you and Rob in the future, but for now, I'm happy to hear about your new friend Owen.{\"facts\" : [\"Had a fight with Rob, the chicken\", \"Rob, the chicken, is no longer their best friend\",|search_memoryI'm so sorry to hear that you had a fight with Rob the chicken. It's totally fine that your best friend is now Owen the wise owl, though - it sounds like you've found someone very wise to look out for you. I hope everything works out with you and Rob in the future, but for now, I'm happy to hear about your new friend Owen.{\"facts\" : [\"Had a fight with Rob, the chicken\", \"Rob, the chicken, is no longer their best friend\", \"|search_memoryI'm so sorry to hear that you had a fight with Rob the chicken. It's totally fine that your best friend is now Owen the wise owl, though - it sounds like you've found someone very wise to look out for you. I hope everything works out with you and Rob in the future, but for now, I'm happy to hear about your new friend Owen.{\"facts\" : [\"Had a fight with Rob, the chicken\", \"Rob, the chicken, is no longer their best friend\", \"O|search_memoryI'm so sorry to hear that you had a fight with Rob the chicken. It's totally fine that your best friend is now Owen the wise owl, though - it sounds like you've found someone very wise to look out for you. I hope everything works out with you and Rob in the future, but for now, I'm happy to hear about your new friend Owen.{\"facts\" : [\"Had a fight with Rob, the chicken\", \"Rob, the chicken, is no longer their best friend\", \"Owen|search_memoryI'm so sorry to hear that you had a fight with Rob the chicken. It's totally fine that your best friend is now Owen the wise owl, though - it sounds like you've found someone very wise to look out for you. I hope everything works out with you and Rob in the future, but for now, I'm happy to hear about your new friend Owen.{\"facts\" : [\"Had a fight with Rob, the chicken\", \"Rob, the chicken, is no longer their best friend\", \"Owen the|search_memoryI'm so sorry to hear that you had a fight with Rob the chicken. It's totally fine that your best friend is now Owen the wise owl, though - it sounds like you've found someone very wise to look out for you. I hope everything works out with you and Rob in the future, but for now, I'm happy to hear about your new friend Owen.{\"facts\" : [\"Had a fight with Rob, the chicken\", \"Rob, the chicken, is no longer their best friend\", \"Owen the wise|search_memoryI'm so sorry to hear that you had a fight with Rob the chicken. It's totally fine that your best friend is now Owen the wise owl, though - it sounds like you've found someone very wise to look out for you. I hope everything works out with you and Rob in the future, but for now, I'm happy to hear about your new friend Owen.{\"facts\" : [\"Had a fight with Rob, the chicken\", \"Rob, the chicken, is no longer their best friend\", \"Owen the wise owl|search_memoryI'm so sorry to hear that you had a fight with Rob the chicken. It's totally fine that your best friend is now Owen the wise owl, though - it sounds like you've found someone very wise to look out for you. I hope everything works out with you and Rob in the future, but for now, I'm happy to hear about your new friend Owen.{\"facts\" : [\"Had a fight with Rob, the chicken\", \"Rob, the chicken, is no longer their best friend\", \"Owen the wise owl is|search_memoryI'm so sorry to hear that you had a fight with Rob the chicken. It's totally fine that your best friend is now Owen the wise owl, though - it sounds like you've found someone very wise to look out for you. I hope everything works out with you and Rob in the future, but for now, I'm happy to hear about your new friend Owen.{\"facts\" : [\"Had a fight with Rob, the chicken\", \"Rob, the chicken, is no longer their best friend\", \"Owen the wise owl is now|search_memoryI'm so sorry to hear that you had a fight with Rob the chicken. It's totally fine that your best friend is now Owen the wise owl, though - it sounds like you've found someone very wise to look out for you. I hope everything works out with you and Rob in the future, but for now, I'm happy to hear about your new friend Owen.{\"facts\" : [\"Had a fight with Rob, the chicken\", \"Rob, the chicken, is no longer their best friend\", \"Owen the wise owl is now their|search_memoryI'm so sorry to hear that you had a fight with Rob the chicken. It's totally fine that your best friend is now Owen the wise owl, though - it sounds like you've found someone very wise to look out for you. I hope everything works out with you and Rob in the future, but for now, I'm happy to hear about your new friend Owen.{\"facts\" : [\"Had a fight with Rob, the chicken\", \"Rob, the chicken, is no longer their best friend\", \"Owen the wise owl is now their best|search_memoryI'm so sorry to hear that you had a fight with Rob the chicken. It's totally fine that your best friend is now Owen the wise owl, though - it sounds like you've found someone very wise to look out for you. I hope everything works out with you and Rob in the future, but for now, I'm happy to hear about your new friend Owen.{\"facts\" : [\"Had a fight with Rob, the chicken\", \"Rob, the chicken, is no longer their best friend\", \"Owen the wise owl is now their best friend|search_memoryI'm so sorry to hear that you had a fight with Rob the chicken. It's totally fine that your best friend is now Owen the wise owl, though - it sounds like you've found someone very wise to look out for you. I hope everything works out with you and Rob in the future, but for now, I'm happy to hear about your new friend Owen.{\"facts\" : [\"Had a fight with Rob, the chicken\", \"Rob, the chicken, is no longer their best friend\", \"Owen the wise owl is now their best friend\"]}|"
     ]
    }
   ],
   "source": [
    "config = {\"configurable\": {\"user_id\": \"babe\", \"thread_id\": \"2\"}}\n",
    "output=\"\"\n",
    "async for event in sequence.astream_events(input={\"input\":\"I had a fight with Rob, yes the chicken, he is no longer my best friend, my best friend is now Owen the wise owl!\", \"config\":config}):\n",
    "    kind = event[\"event\"]\n",
    "    if kind == \"on_chat_model_stream\":\n",
    "        content = event[\"data\"][\"chunk\"].content\n",
    "        if content:\n",
    "            output += content\n",
    "            print(output, end=\"|\", flush=True)\n",
    "\n"
   ]
  },
  {
   "cell_type": "markdown",
   "id": "c2664548-6932-4c6d-8742-3623b34df06f",
   "metadata": {},
   "source": [
    "## integrate into memory normal conversational chain "
   ]
  },
  {
   "cell_type": "code",
   "execution_count": 8,
   "id": "a01b7b6c-0c44-49c8-8c37-3fdb49b3cb64",
   "metadata": {
    "scrolled": true
   },
   "outputs": [
    {
     "name": "stdout",
     "output_type": "stream",
     "text": [
      "search|search_memory|\u001b[32mchosen_mem_ops= search_memory \u001b[39m\n",
      "search_memoryActually|search_memoryActually,|search_memoryActually, you|search_memoryActually, you're|search_memoryActually, you're not|search_memoryActually, you're not friends|search_memoryActually, you're not friends with|search_memoryActually, you're not friends with Rob|search_memoryActually, you're not friends with Rob anymore|search_memoryActually, you're not friends with Rob anymore.|search_memoryActually, you're not friends with Rob anymore. There|search_memoryActually, you're not friends with Rob anymore. There was|search_memoryActually, you're not friends with Rob anymore. There was a|search_memoryActually, you're not friends with Rob anymore. There was a fight|search_memoryActually, you're not friends with Rob anymore. There was a fight,|search_memoryActually, you're not friends with Rob anymore. There was a fight, and|search_memoryActually, you're not friends with Rob anymore. There was a fight, and Rob|search_memoryActually, you're not friends with Rob anymore. There was a fight, and Rob,|search_memoryActually, you're not friends with Rob anymore. There was a fight, and Rob, the|search_memoryActually, you're not friends with Rob anymore. There was a fight, and Rob, the chicken|search_memoryActually, you're not friends with Rob anymore. There was a fight, and Rob, the chicken,|search_memoryActually, you're not friends with Rob anymore. There was a fight, and Rob, the chicken, isn|search_memoryActually, you're not friends with Rob anymore. There was a fight, and Rob, the chicken, isn't|search_memoryActually, you're not friends with Rob anymore. There was a fight, and Rob, the chicken, isn't your|search_memoryActually, you're not friends with Rob anymore. There was a fight, and Rob, the chicken, isn't your best|search_memoryActually, you're not friends with Rob anymore. There was a fight, and Rob, the chicken, isn't your best friend|search_memoryActually, you're not friends with Rob anymore. There was a fight, and Rob, the chicken, isn't your best friend anymore|search_memoryActually, you're not friends with Rob anymore. There was a fight, and Rob, the chicken, isn't your best friend anymore.|search_memoryActually, you're not friends with Rob anymore. There was a fight, and Rob, the chicken, isn't your best friend anymore. Now|search_memoryActually, you're not friends with Rob anymore. There was a fight, and Rob, the chicken, isn't your best friend anymore. Now,|search_memoryActually, you're not friends with Rob anymore. There was a fight, and Rob, the chicken, isn't your best friend anymore. Now, Owen|search_memoryActually, you're not friends with Rob anymore. There was a fight, and Rob, the chicken, isn't your best friend anymore. Now, Owen the|search_memoryActually, you're not friends with Rob anymore. There was a fight, and Rob, the chicken, isn't your best friend anymore. Now, Owen the wise|search_memoryActually, you're not friends with Rob anymore. There was a fight, and Rob, the chicken, isn't your best friend anymore. Now, Owen the wise owl|search_memoryActually, you're not friends with Rob anymore. There was a fight, and Rob, the chicken, isn't your best friend anymore. Now, Owen the wise owl holds|search_memoryActually, you're not friends with Rob anymore. There was a fight, and Rob, the chicken, isn't your best friend anymore. Now, Owen the wise owl holds that|search_memoryActually, you're not friends with Rob anymore. There was a fight, and Rob, the chicken, isn't your best friend anymore. Now, Owen the wise owl holds that special|search_memoryActually, you're not friends with Rob anymore. There was a fight, and Rob, the chicken, isn't your best friend anymore. Now, Owen the wise owl holds that special place|search_memoryActually, you're not friends with Rob anymore. There was a fight, and Rob, the chicken, isn't your best friend anymore. Now, Owen the wise owl holds that special place in|search_memoryActually, you're not friends with Rob anymore. There was a fight, and Rob, the chicken, isn't your best friend anymore. Now, Owen the wise owl holds that special place in your|search_memoryActually, you're not friends with Rob anymore. There was a fight, and Rob, the chicken, isn't your best friend anymore. Now, Owen the wise owl holds that special place in your life|search_memoryActually, you're not friends with Rob anymore. There was a fight, and Rob, the chicken, isn't your best friend anymore. Now, Owen the wise owl holds that special place in your life.|\u001b[36mintegrating response and recall memory items = \n",
      " Actually, you're not friends with Rob anymore. There was a fight, and Rob, the chicken, isn't your best friend anymore. Now, Owen the wise owl holds that special place in your life. \u001b[39m\n",
      "search_memoryActually, you're not friends with Rob anymore. There was a fight, and Rob, the chicken, isn't your best friend anymore. Now, Owen the wise owl holds that special place in your life.{\"|search_memoryActually, you're not friends with Rob anymore. There was a fight, and Rob, the chicken, isn't your best friend anymore. Now, Owen the wise owl holds that special place in your life.{\"facts|search_memoryActually, you're not friends with Rob anymore. There was a fight, and Rob, the chicken, isn't your best friend anymore. Now, Owen the wise owl holds that special place in your life.{\"facts\"|search_memoryActually, you're not friends with Rob anymore. There was a fight, and Rob, the chicken, isn't your best friend anymore. Now, Owen the wise owl holds that special place in your life.{\"facts\" :|search_memoryActually, you're not friends with Rob anymore. There was a fight, and Rob, the chicken, isn't your best friend anymore. Now, Owen the wise owl holds that special place in your life.{\"facts\" : []|search_memoryActually, you're not friends with Rob anymore. There was a fight, and Rob, the chicken, isn't your best friend anymore. Now, Owen the wise owl holds that special place in your life.{\"facts\" : []}|"
     ]
    }
   ],
   "source": [
    "config = {\"configurable\": {\"user_id\": \"babe\", \"thread_id\": \"2\"}}\n",
    "output=\"\"\n",
    "async for event in sequence.astream_events(input={\"input\":\"Do you remember, am i still friends with Rob ?\", \"config\":config}):\n",
    "    kind = event[\"event\"]\n",
    "    if kind == \"on_chat_model_stream\":\n",
    "        content = event[\"data\"][\"chunk\"].content\n",
    "        if content:\n",
    "            output += content\n",
    "            print(output, end=\"|\", flush=True)\n",
    "\n"
   ]
  },
  {
   "cell_type": "code",
   "execution_count": 9,
   "id": "142fb796-9f38-460d-80a7-cb90859b8dd8",
   "metadata": {},
   "outputs": [
    {
     "name": "stdout",
     "output_type": "stream",
     "text": [
      "Actually, you're not friends with Rob anymore. There was a fight, and Rob, the chicken, isn't your best friend anymore. Now, Owen the wise owl holds that special place in your life.\n"
     ]
    }
   ],
   "source": [
    "if '{' in output:\n",
    "    index=output.index('{')\n",
    "    output=output[:index]\n",
    "    output=output.replace(\"search_memory\",\"\")\n",
    "    print(output)"
   ]
  },
  {
   "cell_type": "code",
   "execution_count": null,
   "id": "6391216e-8489-4475-858d-fd78ea9b10cc",
   "metadata": {},
   "outputs": [],
   "source": []
  },
  {
   "cell_type": "code",
   "execution_count": 10,
   "id": "0fd5a165-751b-43b0-bf96-f65dedf1eb8c",
   "metadata": {},
   "outputs": [
    {
     "data": {
      "text/plain": [
       "[Document(id='7f36a16a-2fdc-45fd-afd2-8499e4604c18', metadata={'user_id': 'babe', 'datetime': '2025-08-28'}, page_content='Has a friend named Rob who is a Chicken'),\n",
       " Document(id='f737d1bf-a474-420d-8b8b-6862ed56f274', metadata={'user_id': 'babe', 'datetime': '2025-08-28'}, page_content='Can talk'),\n",
       " Document(id='111c47f2-b5da-47bf-8229-d6df4342e729', metadata={'user_id': 'babe', 'datetime': '2025-08-28'}, page_content='Had a fight with Rob, the chicken'),\n",
       " Document(id='094baef2-78b5-4a00-b36c-6683464fc970', metadata={'user_id': 'babe', 'datetime': '2025-08-28'}, page_content='Rob, the chicken, is no longer their best friend'),\n",
       " Document(id='7a35ee87-c16b-4589-9bc4-9382640aa455', metadata={'user_id': 'babe', 'datetime': '2025-08-28'}, page_content='Owen the wise owl is now their best friend'),\n",
       " Document(id='11a99a4f-9ba8-4160-9342-43010bb3dc34', metadata={'user_id': 'babe', 'datetime': '2025-08-28'}, page_content='Name is Babe'),\n",
       " Document(id='4f58f2b3-5083-4607-97da-99d83963dc4d', metadata={'user_id': 'babe', 'datetime': '2025-08-28'}, page_content='Is a Pig')]"
      ]
     },
     "execution_count": 10,
     "metadata": {},
     "output_type": "execute_result"
    }
   ],
   "source": [
    "def _filter_function(doc: Document) -> bool:\n",
    "        return True\n",
    "retriever=memory_manager.recall_vector_store.as_retriever( )\n",
    "query=\"Do you remember, am i still friends with Rob ?\"\n",
    "documents = memory_manager.recall_vector_store.search( query=query, search_type='mmr',\n",
    "         k=10, filter=_filter_function\n",
    "        )\n",
    "documents"
   ]
  },
  {
   "cell_type": "code",
   "execution_count": 11,
   "id": "871a27d6-b2a9-4db5-b96f-ce6b75e38c48",
   "metadata": {},
   "outputs": [
    {
     "data": {
      "text/plain": [
       "['Has a friend named Rob who is a Chicken',\n",
       " 'Rob, the chicken, is no longer their best friend',\n",
       " 'Had a fight with Rob, the chicken',\n",
       " 'Can talk',\n",
       " 'Is a Pig',\n",
       " 'Owen the wise owl is now their best friend',\n",
       " 'Name is Babe']"
      ]
     },
     "execution_count": 11,
     "metadata": {},
     "output_type": "execute_result"
    }
   ],
   "source": [
    "memory_manager.search_recall_memories(query,config)"
   ]
  },
  {
   "cell_type": "code",
   "execution_count": null,
   "id": "363c5aac-1cf9-43fd-b68f-843fef9619dc",
   "metadata": {},
   "outputs": [],
   "source": []
  },
  {
   "cell_type": "code",
   "execution_count": null,
   "id": "8f70a31f-2153-4938-aa52-6869b2a756e0",
   "metadata": {},
   "outputs": [],
   "source": []
  }
 ],
 "metadata": {
  "kernelspec": {
   "display_name": "Python 3 (ipykernel)",
   "language": "python",
   "name": "python3"
  },
  "language_info": {
   "codemirror_mode": {
    "name": "ipython",
    "version": 3
   },
   "file_extension": ".py",
   "mimetype": "text/x-python",
   "name": "python",
   "nbconvert_exporter": "python",
   "pygments_lexer": "ipython3",
   "version": "3.12.9"
  }
 },
 "nbformat": 4,
 "nbformat_minor": 5
}
