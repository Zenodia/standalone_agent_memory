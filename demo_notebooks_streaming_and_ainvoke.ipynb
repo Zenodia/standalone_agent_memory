{
 "cells": [
  {
   "cell_type": "code",
   "execution_count": 1,
   "id": "8f68ec4d-f026-4526-ade2-905d12f71326",
   "metadata": {},
   "outputs": [],
   "source": [
    "import os\n",
    "## setting environment variables streaming to be no = False, Yes = True\n",
    "os.environ[\"stream\"]=\"No\""
   ]
  },
  {
   "cell_type": "code",
   "execution_count": null,
   "id": "ec3b6105-ee8c-4919-a09a-6ffc364b9e53",
   "metadata": {},
   "outputs": [],
   "source": []
  },
  {
   "cell_type": "markdown",
   "id": "5d18b463-bcd2-4f1b-859a-0901f7c80ab9",
   "metadata": {},
   "source": [
    "## import memory operation manager"
   ]
  },
  {
   "cell_type": "code",
   "execution_count": 2,
   "id": "00e5b74d-ce56-43ed-a7be-bb2e59832eaf",
   "metadata": {},
   "outputs": [
    {
     "name": "stdout",
     "output_type": "stream",
     "text": [
      "existing NVIDIA_API_KEY in the environment  nvapi-h\n",
      "using streaming :  Yes\n",
      "using streaming :  Yes\n",
      "using streaming in MemoryHandler class ? True\n"
     ]
    }
   ],
   "source": [
    "from utils import MemoryOps\n",
    "from langchain_nvidia_ai_endpoints import ChatNVIDIA, NVIDIAEmbeddings, NVIDIARerank\n",
    "\n",
    "import os\n",
    "\n",
    "llm= ChatNVIDIA(model=\"meta/llama-3.1-405b-instruct\")\n",
    "embed = NVIDIAEmbeddings(model=\"nvidia/nv-embedqa-mistral-7b-v2\",truncate=\"NONE\",)\n",
    "if os.getenv(\"stream\") :\n",
    "    stream_flag = os.getenv(\"stream\")\n",
    "    if stream_flag.lower()==\"yes\":\n",
    "        use_streaming = True\n",
    "    else:\n",
    "        use_streaming = False\n",
    "    print(\"using streaming : \", os.getenv(\"stream\"))\n",
    "else:\n",
    "    use_streaming = False\n",
    "    print(\"no environment variable set\")\n",
    "\n",
    "memory_ops=MemoryOps(llm,embed,use_streaming )"
   ]
  },
  {
   "cell_type": "code",
   "execution_count": 3,
   "id": "953d637b-6192-4d21-9804-a14e0054a2ef",
   "metadata": {},
   "outputs": [],
   "source": []
  },
  {
   "cell_type": "markdown",
   "id": "992cd901-652c-4eff-acdd-6f818e10ecf3",
   "metadata": {},
   "source": [
    "## invoke without streaming "
   ]
  },
  {
   "cell_type": "code",
   "execution_count": 3,
   "id": "fe86399b-17fb-414d-9179-2478aea52688",
   "metadata": {},
   "outputs": [
    {
     "name": "stdout",
     "output_type": "stream",
     "text": [
      "\u001b[92msearching memories for user_id=babe with query = hi, my name is Babe, I am a pig and I can talk, my best friend is a chicken named Rob. \u001b[39m\n",
      "use ainvoke, NO streaming !\n",
      "\u001b[95mmemory items extracted from user query =\n",
      " {'facts': ['Name is Babe', 'Is a pig', 'Can talk', 'Best friend is a chicken named Rob']} \u001b[39m\n",
      "\u001b[36mcreating memory items = {'facts': ['Name is Babe', 'Is a pig', 'Can talk', 'Best friend is a chicken named Rob']} \u001b[39m\n",
      "\u001b[34mexecuting memory operation =  search_memory \u001b[39m\n",
      "\u001b[92msearching memories for user_id=babe with query = hi, my name is Babe, I am a pig and I can talk, my best friend is a chicken named Rob. \u001b[39m\n",
      "\u001b[35mrecall memory items=\n",
      " ['Name is Babe'] \u001b[39m\n"
     ]
    },
    {
     "data": {
      "text/plain": [
       "\"Nice to meet you, Babe! It's lovely to hear about your unique abilities and your special friendship with Rob the chicken. I'll make sure to remember that for our conversation. Is there anything you'd like to chat about, Babe?\""
      ]
     },
     "execution_count": 3,
     "metadata": {},
     "output_type": "execute_result"
    }
   ],
   "source": [
    "\n",
    "## setting environment variable to use streaming Yes/No\n",
    "\n",
    "thread_id=0\n",
    "user_id=\"babe\"\n",
    "config = {\"configurable\": {\"user_id\": user_id, \"thread_id\": str(thread_id)}}\n",
    "query = \"hi, my name is Babe, I am a pig and I can talk, my best friend is a chicken named Rob.\"\n",
    "output = await memory_ops.memory_ops_chain.ainvoke(input={\"input\":query, \"config\":config})\n",
    "output"
   ]
  },
  {
   "cell_type": "code",
   "execution_count": 11,
   "id": "49d36ac9-17e5-4241-b424-8a7b35e1b962",
   "metadata": {},
   "outputs": [
    {
     "name": "stdout",
     "output_type": "stream",
     "text": [
      "\u001b[92msearching memories for user_id=babe with query = hi, my name is Babe, I am a pig and I can talk, my best friend is a chicken named Rob. \u001b[39m\n"
     ]
    },
    {
     "data": {
      "text/plain": [
       "['Name is Babe']"
      ]
     },
     "execution_count": 11,
     "metadata": {},
     "output_type": "execute_result"
    }
   ],
   "source": []
  },
  {
   "cell_type": "code",
   "execution_count": 4,
   "id": "a4c5aa9e-499f-4f19-b0aa-1d33529d7387",
   "metadata": {},
   "outputs": [
    {
     "name": "stdout",
     "output_type": "stream",
     "text": [
      "\u001b[92msearching memories for user_id=babe with query = I had a fight with Rob, he is no longer my best friend ! \u001b[39m\n",
      "use ainvoke, NO streaming !\n",
      "\u001b[36mcreating memory items = {'facts': ['Had a fight with Rob', 'Rob is no longer best friend']} \u001b[39m\n",
      "\u001b[34mexecuting memory operation =  search_memory \u001b[39m\n",
      "\u001b[92msearching memories for user_id=babe with query = I had a fight with Rob, he is no longer my best friend ! \u001b[39m\n",
      "\u001b[35mrecall memory items=\n",
      " ['Had a fight with Rob', 'Name is Babe'] \u001b[39m\n"
     ]
    },
    {
     "data": {
      "text/plain": [
       "\"I'm so sorry to hear that you had a fight with Rob. It can be really tough to deal with conflicts with close friends. If you don't mind me asking, what happened during the fight? Was it something specific that led to the disagreement?\""
      ]
     },
     "execution_count": 4,
     "metadata": {},
     "output_type": "execute_result"
    }
   ],
   "source": [
    "\n",
    "## setting environment variable to use streaming Yes/No\n",
    "\n",
    "thread_id=1\n",
    "user_id=\"babe\"\n",
    "config = {\"configurable\": {\"user_id\": user_id, \"thread_id\": str(thread_id)}}\n",
    "query = \"I had a fight with Rob, he is no longer my best friend !\"\n",
    "output = await memory_ops.memory_ops_chain.ainvoke(input={\"input\":query, \"config\":config})\n",
    "output"
   ]
  },
  {
   "cell_type": "code",
   "execution_count": 5,
   "id": "f5e5f520-b93c-46b3-8634-f9dca2a4a417",
   "metadata": {},
   "outputs": [
    {
     "name": "stdout",
     "output_type": "stream",
     "text": [
      "\u001b[92msearching memories for user_id=babe with query = Hey, do you remember if I am still friends with Rob the chicken? \u001b[39m\n",
      "use ainvoke, NO streaming !\n",
      "\u001b[36mcreating memory items = {'facts': []} \u001b[39m\n",
      "\u001b[34mexecuting memory operation =  search_memory \u001b[39m\n",
      "\u001b[92msearching memories for user_id=babe with query = Hey, do you remember if I am still friends with Rob the chicken? \u001b[39m\n",
      "\u001b[35mrecall memory items=\n",
      " ['Had a fight with Rob', 'Name is Babe'] \u001b[39m\n"
     ]
    },
    {
     "data": {
      "text/plain": [
       "\"I recall that you mentioned having a fight with Rob. I don't have any information about a reconciliation, so I'm not sure if you two are still on good terms. Would you like to talk about what happened? (Also, just to clarify, I don't think you mentioned Rob being a chicken before, but I'm happy to go along with it!)\""
      ]
     },
     "execution_count": 5,
     "metadata": {},
     "output_type": "execute_result"
    }
   ],
   "source": [
    "\n",
    "\n",
    "## setting environment variable to use streaming Yes/No\n",
    "\n",
    "thread_id=2\n",
    "user_id=\"babe\"\n",
    "config = {\"configurable\": {\"user_id\": user_id, \"thread_id\": str(thread_id)}}\n",
    "query = \"Hey, do you remember if I am still friends with Rob the chicken?\"\n",
    "output = await memory_ops.memory_ops_chain.ainvoke(input={\"input\":query, \"config\":config})\n",
    "output"
   ]
  },
  {
   "cell_type": "code",
   "execution_count": null,
   "id": "5e9e3083-4cc1-4423-addc-2a7a6148434d",
   "metadata": {},
   "outputs": [],
   "source": []
  },
  {
   "cell_type": "markdown",
   "id": "ef3ae36d-0c57-44c5-8bda-07ca99e8b915",
   "metadata": {},
   "source": [
    "----\n",
    "\n",
    "now reload it with streaming , recall we are now starting from zero memory since we had re-initiate the class MemoryOps \n",
    "in the future, we will integrate MilvusDB to save the vectorstore and optionally reload it when re-initializing the MemoryOps class"
   ]
  },
  {
   "cell_type": "code",
   "execution_count": 3,
   "id": "8fed0753-98e7-4ef5-89fd-4ce7d388a965",
   "metadata": {},
   "outputs": [
    {
     "name": "stdout",
     "output_type": "stream",
     "text": [
      "using streaming :  Yes\n",
      "using streaming in MemoryHandler class ? True\n"
     ]
    }
   ],
   "source": [
    "## now set environment variable before re-import\n",
    "import os\n",
    "os.environ[\"stream\"]=\"Yes\"\n",
    "\n",
    "if os.getenv(\"stream\") :\n",
    "    stream_flag = os.getenv(\"stream\")\n",
    "    if stream_flag.lower()==\"yes\":\n",
    "        use_streaming = True\n",
    "    else:\n",
    "        use_streaming = False\n",
    "    print(\"using streaming : \", os.getenv(\"stream\"))\n",
    "else:\n",
    "    use_streaming = False\n",
    "    print(\"no environment variable set\")\n",
    "memory_ops=MemoryOps(llm,embed,use_streaming )"
   ]
  },
  {
   "cell_type": "code",
   "execution_count": 7,
   "id": "40707b1e-d366-49b5-9f1e-33c86284105d",
   "metadata": {},
   "outputs": [],
   "source": [
    "## invoke with streaming "
   ]
  },
  {
   "cell_type": "code",
   "execution_count": 4,
   "id": "62764238-f5a9-4adf-af96-dc3217905bd1",
   "metadata": {},
   "outputs": [
    {
     "name": "stdout",
     "output_type": "stream",
     "text": [
      "\u001b[92msearching memories for user_id=babe with query = My new best friend is now Sean, he is a sheep and he stood up for me when Rob betrayed me. \u001b[39m\n",
      "use streaming : True \n",
      " streaming output > \n",
      "  \n",
      " streaming output > \n",
      "  \n",
      " streaming output > \n",
      "  \n",
      " streaming output > \n",
      "  \n",
      "search > search_memory >  streaming output > \n",
      "  \n",
      " streaming output > \n",
      "  \n",
      " streaming output > \n",
      "  {\"\n",
      " streaming output > \n",
      "  {\"\n",
      " streaming output >  > \n",
      "  {\"facts\n",
      " streaming output > \" > \n",
      "  {\"facts\"\n",
      " streaming output > \" : > \n",
      "  {\"facts\" :\n",
      " streaming output > \" : [\" > \n",
      "  {\"facts\" : [\"\n",
      " streaming output > \n",
      "  {\"facts\" : [\"\n",
      " streaming output > \" : [\"Has > \n",
      "  {\"facts\" : [\"Has\n",
      " streaming output > \n",
      "  {\"facts\" : [\"Has\n",
      " streaming output > \" : [\"Has a > \n",
      "  {\"facts\" : [\"Has a\n",
      " streaming output > \n",
      "  {\"facts\" : [\"Has a\n",
      " streaming output > \" : [\"Has a best > \n",
      "  {\"facts\" : [\"Has a best\n",
      " streaming output > \n",
      "  {\"facts\" : [\"Has a best\n",
      " streaming output > \" : [\"Has a best friend > \n",
      "  {\"facts\" : [\"Has a best friend\n",
      " streaming output > \n",
      "  {\"facts\" : [\"Has a best friend\n",
      " streaming output > \" : [\"Has a best friend named > \n",
      "  {\"facts\" : [\"Has a best friend named\n",
      " streaming output > \n",
      "  {\"facts\" : [\"Has a best friend named\n",
      " streaming output > \" : [\"Has a best friend named Sean > \n",
      "  {\"facts\" : [\"Has a best friend named Sean\n",
      " streaming output > \n",
      "  {\"facts\" : [\"Has a best friend named Sean\n",
      " streaming output > \" : [\"Has a best friend named Sean\", > \n",
      "  {\"facts\" : [\"Has a best friend named Sean\",\n",
      " streaming output > \" : [\"Has a best friend named Sean\", \" > \n",
      "  {\"facts\" : [\"Has a best friend named Sean\", \"\n",
      " streaming output > \n",
      "  {\"facts\" : [\"Has a best friend named Sean\", \"\n",
      " streaming output > \" : [\"Has a best friend named Sean\", \"Sean > \n",
      "  {\"facts\" : [\"Has a best friend named Sean\", \"Sean\n",
      " streaming output > \n",
      "  {\"facts\" : [\"Has a best friend named Sean\", \"Sean\n",
      " streaming output > \" : [\"Has a best friend named Sean\", \"Sean is > \n",
      "  {\"facts\" : [\"Has a best friend named Sean\", \"Sean is\n",
      " streaming output > \n",
      "  {\"facts\" : [\"Has a best friend named Sean\", \"Sean is\n",
      " streaming output > \" : [\"Has a best friend named Sean\", \"Sean is a > \n",
      "  {\"facts\" : [\"Has a best friend named Sean\", \"Sean is a\n",
      " streaming output > \n",
      "  {\"facts\" : [\"Has a best friend named Sean\", \"Sean is a\n",
      " streaming output > \" : [\"Has a best friend named Sean\", \"Sean is a sheep > \n",
      "  {\"facts\" : [\"Has a best friend named Sean\", \"Sean is a sheep\n",
      " streaming output > \n",
      "  {\"facts\" : [\"Has a best friend named Sean\", \"Sean is a sheep\n",
      " streaming output > \" : [\"Has a best friend named Sean\", \"Sean is a sheep\", > \n",
      "  {\"facts\" : [\"Has a best friend named Sean\", \"Sean is a sheep\",\n",
      " streaming output > \" : [\"Has a best friend named Sean\", \"Sean is a sheep\", \" > \n",
      "  {\"facts\" : [\"Has a best friend named Sean\", \"Sean is a sheep\", \"\n",
      " streaming output > \n",
      "  {\"facts\" : [\"Has a best friend named Sean\", \"Sean is a sheep\", \"\n",
      " streaming output > \" : [\"Has a best friend named Sean\", \"Sean is a sheep\", \"Rob > \n",
      "  {\"facts\" : [\"Has a best friend named Sean\", \"Sean is a sheep\", \"Rob\n",
      " streaming output > \n",
      "  {\"facts\" : [\"Has a best friend named Sean\", \"Sean is a sheep\", \"Rob\n",
      " streaming output > \" : [\"Has a best friend named Sean\", \"Sean is a sheep\", \"Rob betrayed > \n",
      "  {\"facts\" : [\"Has a best friend named Sean\", \"Sean is a sheep\", \"Rob betrayed\n",
      " streaming output > \n",
      "  {\"facts\" : [\"Has a best friend named Sean\", \"Sean is a sheep\", \"Rob betrayed\n",
      " streaming output > \" : [\"Has a best friend named Sean\", \"Sean is a sheep\", \"Rob betrayed the > \n",
      "  {\"facts\" : [\"Has a best friend named Sean\", \"Sean is a sheep\", \"Rob betrayed the\n",
      " streaming output > \n",
      "  {\"facts\" : [\"Has a best friend named Sean\", \"Sean is a sheep\", \"Rob betrayed the\n",
      " streaming output > \" : [\"Has a best friend named Sean\", \"Sean is a sheep\", \"Rob betrayed the user > \n",
      "  {\"facts\" : [\"Has a best friend named Sean\", \"Sean is a sheep\", \"Rob betrayed the user\n",
      " streaming output > \n",
      "  {\"facts\" : [\"Has a best friend named Sean\", \"Sean is a sheep\", \"Rob betrayed the user\n",
      " streaming output > \" : [\"Has a best friend named Sean\", \"Sean is a sheep\", \"Rob betrayed the user\"]} > \n",
      "  {\"facts\" : [\"Has a best friend named Sean\", \"Sean is a sheep\", \"Rob betrayed the user\"]}\n",
      " streaming output > \n",
      "  {\"facts\" : [\"Has a best friend named Sean\", \"Sean is a sheep\", \"Rob betrayed the user\"]}\n",
      " streaming output > \n",
      "  {\"facts\" : [\"Has a best friend named Sean\", \"Sean is a sheep\", \"Rob betrayed the user\"]}\n",
      " streaming output > \n",
      "  {\"facts\" : [\"Has a best friend named Sean\", \"Sean is a sheep\", \"Rob betrayed the user\"]}\n",
      " streaming output > \n",
      "  {\"facts\" : [\"Has a best friend named Sean\", \"Sean is a sheep\", \"Rob betrayed the user\"]}\n",
      "\u001b[36mcreating memory items = {\"facts\" : [\"Has a best friend named Sean\", \"Sean is a sheep\", \"Rob betrayed the user\"]} \u001b[39m\n",
      "\u001b[34mexecuting memory operation =  search_memory \u001b[39m\n",
      "\u001b[92msearching memories for user_id=babe with query = My new best friend is now Sean, he is a sheep and he stood up for me when Rob betrayed me. \u001b[39m\n",
      "\u001b[35mrecall memory items=\n",
      " ['{\"facts\" : [\"Has a best friend named Sean\", \"Sean is a sheep\", \"Rob betrayed the user\"]}'] \u001b[39m\n",
      "search_memory{\"facts\" : [\"Has a best friend named Sean\", \"Sean is a sheep\", \"Rob betrayed the user\"]}I > search_memory{\"facts\" : [\"Has a best friend named Sean\", \"Sean is a sheep\", \"Rob betrayed the user\"]}I'm > search_memory{\"facts\" : [\"Has a best friend named Sean\", \"Sean is a sheep\", \"Rob betrayed the user\"]}I'm so > search_memory{\"facts\" : [\"Has a best friend named Sean\", \"Sean is a sheep\", \"Rob betrayed the user\"]}I'm so glad > search_memory{\"facts\" : [\"Has a best friend named Sean\", \"Sean is a sheep\", \"Rob betrayed the user\"]}I'm so glad to > search_memory{\"facts\" : [\"Has a best friend named Sean\", \"Sean is a sheep\", \"Rob betrayed the user\"]}I'm so glad to hear > search_memory{\"facts\" : [\"Has a best friend named Sean\", \"Sean is a sheep\", \"Rob betrayed the user\"]}I'm so glad to hear that > search_memory{\"facts\" : [\"Has a best friend named Sean\", \"Sean is a sheep\", \"Rob betrayed the user\"]}I'm so glad to hear that Sean > search_memory{\"facts\" : [\"Has a best friend named Sean\", \"Sean is a sheep\", \"Rob betrayed the user\"]}I'm so glad to hear that Sean is > search_memory{\"facts\" : [\"Has a best friend named Sean\", \"Sean is a sheep\", \"Rob betrayed the user\"]}I'm so glad to hear that Sean is being > search_memory{\"facts\" : [\"Has a best friend named Sean\", \"Sean is a sheep\", \"Rob betrayed the user\"]}I'm so glad to hear that Sean is being a > search_memory{\"facts\" : [\"Has a best friend named Sean\", \"Sean is a sheep\", \"Rob betrayed the user\"]}I'm so glad to hear that Sean is being a wonderful > search_memory{\"facts\" : [\"Has a best friend named Sean\", \"Sean is a sheep\", \"Rob betrayed the user\"]}I'm so glad to hear that Sean is being a wonderful best > search_memory{\"facts\" : [\"Has a best friend named Sean\", \"Sean is a sheep\", \"Rob betrayed the user\"]}I'm so glad to hear that Sean is being a wonderful best friend > search_memory{\"facts\" : [\"Has a best friend named Sean\", \"Sean is a sheep\", \"Rob betrayed the user\"]}I'm so glad to hear that Sean is being a wonderful best friend to > search_memory{\"facts\" : [\"Has a best friend named Sean\", \"Sean is a sheep\", \"Rob betrayed the user\"]}I'm so glad to hear that Sean is being a wonderful best friend to you > search_memory{\"facts\" : [\"Has a best friend named Sean\", \"Sean is a sheep\", \"Rob betrayed the user\"]}I'm so glad to hear that Sean is being a wonderful best friend to you! > search_memory{\"facts\" : [\"Has a best friend named Sean\", \"Sean is a sheep\", \"Rob betrayed the user\"]}I'm so glad to hear that Sean is being a wonderful best friend to you! It > search_memory{\"facts\" : [\"Has a best friend named Sean\", \"Sean is a sheep\", \"Rob betrayed the user\"]}I'm so glad to hear that Sean is being a wonderful best friend to you! It's > search_memory{\"facts\" : [\"Has a best friend named Sean\", \"Sean is a sheep\", \"Rob betrayed the user\"]}I'm so glad to hear that Sean is being a wonderful best friend to you! It's not > search_memory{\"facts\" : [\"Has a best friend named Sean\", \"Sean is a sheep\", \"Rob betrayed the user\"]}I'm so glad to hear that Sean is being a wonderful best friend to you! It's not every > search_memory{\"facts\" : [\"Has a best friend named Sean\", \"Sean is a sheep\", \"Rob betrayed the user\"]}I'm so glad to hear that Sean is being a wonderful best friend to you! It's not every day > search_memory{\"facts\" : [\"Has a best friend named Sean\", \"Sean is a sheep\", \"Rob betrayed the user\"]}I'm so glad to hear that Sean is being a wonderful best friend to you! It's not every day that > search_memory{\"facts\" : [\"Has a best friend named Sean\", \"Sean is a sheep\", \"Rob betrayed the user\"]}I'm so glad to hear that Sean is being a wonderful best friend to you! It's not every day that someone > search_memory{\"facts\" : [\"Has a best friend named Sean\", \"Sean is a sheep\", \"Rob betrayed the user\"]}I'm so glad to hear that Sean is being a wonderful best friend to you! It's not every day that someone, > search_memory{\"facts\" : [\"Has a best friend named Sean\", \"Sean is a sheep\", \"Rob betrayed the user\"]}I'm so glad to hear that Sean is being a wonderful best friend to you! It's not every day that someone, especially > search_memory{\"facts\" : [\"Has a best friend named Sean\", \"Sean is a sheep\", \"Rob betrayed the user\"]}I'm so glad to hear that Sean is being a wonderful best friend to you! It's not every day that someone, especially a > search_memory{\"facts\" : [\"Has a best friend named Sean\", \"Sean is a sheep\", \"Rob betrayed the user\"]}I'm so glad to hear that Sean is being a wonderful best friend to you! It's not every day that someone, especially a sheep > search_memory{\"facts\" : [\"Has a best friend named Sean\", \"Sean is a sheep\", \"Rob betrayed the user\"]}I'm so glad to hear that Sean is being a wonderful best friend to you! It's not every day that someone, especially a sheep, > search_memory{\"facts\" : [\"Has a best friend named Sean\", \"Sean is a sheep\", \"Rob betrayed the user\"]}I'm so glad to hear that Sean is being a wonderful best friend to you! It's not every day that someone, especially a sheep, stands > search_memory{\"facts\" : [\"Has a best friend named Sean\", \"Sean is a sheep\", \"Rob betrayed the user\"]}I'm so glad to hear that Sean is being a wonderful best friend to you! It's not every day that someone, especially a sheep, stands up > search_memory{\"facts\" : [\"Has a best friend named Sean\", \"Sean is a sheep\", \"Rob betrayed the user\"]}I'm so glad to hear that Sean is being a wonderful best friend to you! It's not every day that someone, especially a sheep, stands up for > search_memory{\"facts\" : [\"Has a best friend named Sean\", \"Sean is a sheep\", \"Rob betrayed the user\"]}I'm so glad to hear that Sean is being a wonderful best friend to you! It's not every day that someone, especially a sheep, stands up for someone > search_memory{\"facts\" : [\"Has a best friend named Sean\", \"Sean is a sheep\", \"Rob betrayed the user\"]}I'm so glad to hear that Sean is being a wonderful best friend to you! It's not every day that someone, especially a sheep, stands up for someone when > search_memory{\"facts\" : [\"Has a best friend named Sean\", \"Sean is a sheep\", \"Rob betrayed the user\"]}I'm so glad to hear that Sean is being a wonderful best friend to you! It's not every day that someone, especially a sheep, stands up for someone when they > search_memory{\"facts\" : [\"Has a best friend named Sean\", \"Sean is a sheep\", \"Rob betrayed the user\"]}I'm so glad to hear that Sean is being a wonderful best friend to you! It's not every day that someone, especially a sheep, stands up for someone when they've > search_memory{\"facts\" : [\"Has a best friend named Sean\", \"Sean is a sheep\", \"Rob betrayed the user\"]}I'm so glad to hear that Sean is being a wonderful best friend to you! It's not every day that someone, especially a sheep, stands up for someone when they've been > search_memory{\"facts\" : [\"Has a best friend named Sean\", \"Sean is a sheep\", \"Rob betrayed the user\"]}I'm so glad to hear that Sean is being a wonderful best friend to you! It's not every day that someone, especially a sheep, stands up for someone when they've been wrong > search_memory{\"facts\" : [\"Has a best friend named Sean\", \"Sean is a sheep\", \"Rob betrayed the user\"]}I'm so glad to hear that Sean is being a wonderful best friend to you! It's not every day that someone, especially a sheep, stands up for someone when they've been wronged > search_memory{\"facts\" : [\"Has a best friend named Sean\", \"Sean is a sheep\", \"Rob betrayed the user\"]}I'm so glad to hear that Sean is being a wonderful best friend to you! It's not every day that someone, especially a sheep, stands up for someone when they've been wronged. > search_memory{\"facts\" : [\"Has a best friend named Sean\", \"Sean is a sheep\", \"Rob betrayed the user\"]}I'm so glad to hear that Sean is being a wonderful best friend to you! It's not every day that someone, especially a sheep, stands up for someone when they've been wronged. It > search_memory{\"facts\" : [\"Has a best friend named Sean\", \"Sean is a sheep\", \"Rob betrayed the user\"]}I'm so glad to hear that Sean is being a wonderful best friend to you! It's not every day that someone, especially a sheep, stands up for someone when they've been wronged. It's > search_memory{\"facts\" : [\"Has a best friend named Sean\", \"Sean is a sheep\", \"Rob betrayed the user\"]}I'm so glad to hear that Sean is being a wonderful best friend to you! It's not every day that someone, especially a sheep, stands up for someone when they've been wronged. It's clear > search_memory{\"facts\" : [\"Has a best friend named Sean\", \"Sean is a sheep\", \"Rob betrayed the user\"]}I'm so glad to hear that Sean is being a wonderful best friend to you! It's not every day that someone, especially a sheep, stands up for someone when they've been wronged. It's clear that > search_memory{\"facts\" : [\"Has a best friend named Sean\", \"Sean is a sheep\", \"Rob betrayed the user\"]}I'm so glad to hear that Sean is being a wonderful best friend to you! It's not every day that someone, especially a sheep, stands up for someone when they've been wronged. It's clear that Sean > search_memory{\"facts\" : [\"Has a best friend named Sean\", \"Sean is a sheep\", \"Rob betrayed the user\"]}I'm so glad to hear that Sean is being a wonderful best friend to you! It's not every day that someone, especially a sheep, stands up for someone when they've been wronged. It's clear that Sean values > search_memory{\"facts\" : [\"Has a best friend named Sean\", \"Sean is a sheep\", \"Rob betrayed the user\"]}I'm so glad to hear that Sean is being a wonderful best friend to you! It's not every day that someone, especially a sheep, stands up for someone when they've been wronged. It's clear that Sean values your > search_memory{\"facts\" : [\"Has a best friend named Sean\", \"Sean is a sheep\", \"Rob betrayed the user\"]}I'm so glad to hear that Sean is being a wonderful best friend to you! It's not every day that someone, especially a sheep, stands up for someone when they've been wronged. It's clear that Sean values your friendship > search_memory{\"facts\" : [\"Has a best friend named Sean\", \"Sean is a sheep\", \"Rob betrayed the user\"]}I'm so glad to hear that Sean is being a wonderful best friend to you! It's not every day that someone, especially a sheep, stands up for someone when they've been wronged. It's clear that Sean values your friendship and > search_memory{\"facts\" : [\"Has a best friend named Sean\", \"Sean is a sheep\", \"Rob betrayed the user\"]}I'm so glad to hear that Sean is being a wonderful best friend to you! It's not every day that someone, especially a sheep, stands up for someone when they've been wronged. It's clear that Sean values your friendship and has > search_memory{\"facts\" : [\"Has a best friend named Sean\", \"Sean is a sheep\", \"Rob betrayed the user\"]}I'm so glad to hear that Sean is being a wonderful best friend to you! It's not every day that someone, especially a sheep, stands up for someone when they've been wronged. It's clear that Sean values your friendship and has your > search_memory{\"facts\" : [\"Has a best friend named Sean\", \"Sean is a sheep\", \"Rob betrayed the user\"]}I'm so glad to hear that Sean is being a wonderful best friend to you! It's not every day that someone, especially a sheep, stands up for someone when they've been wronged. It's clear that Sean values your friendship and has your back > search_memory{\"facts\" : [\"Has a best friend named Sean\", \"Sean is a sheep\", \"Rob betrayed the user\"]}I'm so glad to hear that Sean is being a wonderful best friend to you! It's not every day that someone, especially a sheep, stands up for someone when they've been wronged. It's clear that Sean values your friendship and has your back. > search_memory{\"facts\" : [\"Has a best friend named Sean\", \"Sean is a sheep\", \"Rob betrayed the user\"]}I'm so glad to hear that Sean is being a wonderful best friend to you! It's not every day that someone, especially a sheep, stands up for someone when they've been wronged. It's clear that Sean values your friendship and has your back. After > search_memory{\"facts\" : [\"Has a best friend named Sean\", \"Sean is a sheep\", \"Rob betrayed the user\"]}I'm so glad to hear that Sean is being a wonderful best friend to you! It's not every day that someone, especially a sheep, stands up for someone when they've been wronged. It's clear that Sean values your friendship and has your back. After what > search_memory{\"facts\" : [\"Has a best friend named Sean\", \"Sean is a sheep\", \"Rob betrayed the user\"]}I'm so glad to hear that Sean is being a wonderful best friend to you! It's not every day that someone, especially a sheep, stands up for someone when they've been wronged. It's clear that Sean values your friendship and has your back. After what happened > search_memory{\"facts\" : [\"Has a best friend named Sean\", \"Sean is a sheep\", \"Rob betrayed the user\"]}I'm so glad to hear that Sean is being a wonderful best friend to you! It's not every day that someone, especially a sheep, stands up for someone when they've been wronged. It's clear that Sean values your friendship and has your back. After what happened with > search_memory{\"facts\" : [\"Has a best friend named Sean\", \"Sean is a sheep\", \"Rob betrayed the user\"]}I'm so glad to hear that Sean is being a wonderful best friend to you! It's not every day that someone, especially a sheep, stands up for someone when they've been wronged. It's clear that Sean values your friendship and has your back. After what happened with Rob > search_memory{\"facts\" : [\"Has a best friend named Sean\", \"Sean is a sheep\", \"Rob betrayed the user\"]}I'm so glad to hear that Sean is being a wonderful best friend to you! It's not every day that someone, especially a sheep, stands up for someone when they've been wronged. It's clear that Sean values your friendship and has your back. After what happened with Rob's > search_memory{\"facts\" : [\"Has a best friend named Sean\", \"Sean is a sheep\", \"Rob betrayed the user\"]}I'm so glad to hear that Sean is being a wonderful best friend to you! It's not every day that someone, especially a sheep, stands up for someone when they've been wronged. It's clear that Sean values your friendship and has your back. After what happened with Rob's betrayal > search_memory{\"facts\" : [\"Has a best friend named Sean\", \"Sean is a sheep\", \"Rob betrayed the user\"]}I'm so glad to hear that Sean is being a wonderful best friend to you! It's not every day that someone, especially a sheep, stands up for someone when they've been wronged. It's clear that Sean values your friendship and has your back. After what happened with Rob's betrayal, > search_memory{\"facts\" : [\"Has a best friend named Sean\", \"Sean is a sheep\", \"Rob betrayed the user\"]}I'm so glad to hear that Sean is being a wonderful best friend to you! It's not every day that someone, especially a sheep, stands up for someone when they've been wronged. It's clear that Sean values your friendship and has your back. After what happened with Rob's betrayal, it > search_memory{\"facts\" : [\"Has a best friend named Sean\", \"Sean is a sheep\", \"Rob betrayed the user\"]}I'm so glad to hear that Sean is being a wonderful best friend to you! It's not every day that someone, especially a sheep, stands up for someone when they've been wronged. It's clear that Sean values your friendship and has your back. After what happened with Rob's betrayal, it's > search_memory{\"facts\" : [\"Has a best friend named Sean\", \"Sean is a sheep\", \"Rob betrayed the user\"]}I'm so glad to hear that Sean is being a wonderful best friend to you! It's not every day that someone, especially a sheep, stands up for someone when they've been wronged. It's clear that Sean values your friendship and has your back. After what happened with Rob's betrayal, it's lovely > search_memory{\"facts\" : [\"Has a best friend named Sean\", \"Sean is a sheep\", \"Rob betrayed the user\"]}I'm so glad to hear that Sean is being a wonderful best friend to you! It's not every day that someone, especially a sheep, stands up for someone when they've been wronged. It's clear that Sean values your friendship and has your back. After what happened with Rob's betrayal, it's lovely to > search_memory{\"facts\" : [\"Has a best friend named Sean\", \"Sean is a sheep\", \"Rob betrayed the user\"]}I'm so glad to hear that Sean is being a wonderful best friend to you! It's not every day that someone, especially a sheep, stands up for someone when they've been wronged. It's clear that Sean values your friendship and has your back. After what happened with Rob's betrayal, it's lovely to see > search_memory{\"facts\" : [\"Has a best friend named Sean\", \"Sean is a sheep\", \"Rob betrayed the user\"]}I'm so glad to hear that Sean is being a wonderful best friend to you! It's not every day that someone, especially a sheep, stands up for someone when they've been wronged. It's clear that Sean values your friendship and has your back. After what happened with Rob's betrayal, it's lovely to see that > search_memory{\"facts\" : [\"Has a best friend named Sean\", \"Sean is a sheep\", \"Rob betrayed the user\"]}I'm so glad to hear that Sean is being a wonderful best friend to you! It's not every day that someone, especially a sheep, stands up for someone when they've been wronged. It's clear that Sean values your friendship and has your back. After what happened with Rob's betrayal, it's lovely to see that you > search_memory{\"facts\" : [\"Has a best friend named Sean\", \"Sean is a sheep\", \"Rob betrayed the user\"]}I'm so glad to hear that Sean is being a wonderful best friend to you! It's not every day that someone, especially a sheep, stands up for someone when they've been wronged. It's clear that Sean values your friendship and has your back. After what happened with Rob's betrayal, it's lovely to see that you have > search_memory{\"facts\" : [\"Has a best friend named Sean\", \"Sean is a sheep\", \"Rob betrayed the user\"]}I'm so glad to hear that Sean is being a wonderful best friend to you! It's not every day that someone, especially a sheep, stands up for someone when they've been wronged. It's clear that Sean values your friendship and has your back. After what happened with Rob's betrayal, it's lovely to see that you have someone > search_memory{\"facts\" : [\"Has a best friend named Sean\", \"Sean is a sheep\", \"Rob betrayed the user\"]}I'm so glad to hear that Sean is being a wonderful best friend to you! It's not every day that someone, especially a sheep, stands up for someone when they've been wronged. It's clear that Sean values your friendship and has your back. After what happened with Rob's betrayal, it's lovely to see that you have someone as > search_memory{\"facts\" : [\"Has a best friend named Sean\", \"Sean is a sheep\", \"Rob betrayed the user\"]}I'm so glad to hear that Sean is being a wonderful best friend to you! It's not every day that someone, especially a sheep, stands up for someone when they've been wronged. It's clear that Sean values your friendship and has your back. After what happened with Rob's betrayal, it's lovely to see that you have someone as loyal > search_memory{\"facts\" : [\"Has a best friend named Sean\", \"Sean is a sheep\", \"Rob betrayed the user\"]}I'm so glad to hear that Sean is being a wonderful best friend to you! It's not every day that someone, especially a sheep, stands up for someone when they've been wronged. It's clear that Sean values your friendship and has your back. After what happened with Rob's betrayal, it's lovely to see that you have someone as loyal as > search_memory{\"facts\" : [\"Has a best friend named Sean\", \"Sean is a sheep\", \"Rob betrayed the user\"]}I'm so glad to hear that Sean is being a wonderful best friend to you! It's not every day that someone, especially a sheep, stands up for someone when they've been wronged. It's clear that Sean values your friendship and has your back. After what happened with Rob's betrayal, it's lovely to see that you have someone as loyal as Sean > search_memory{\"facts\" : [\"Has a best friend named Sean\", \"Sean is a sheep\", \"Rob betrayed the user\"]}I'm so glad to hear that Sean is being a wonderful best friend to you! It's not every day that someone, especially a sheep, stands up for someone when they've been wronged. It's clear that Sean values your friendship and has your back. After what happened with Rob's betrayal, it's lovely to see that you have someone as loyal as Sean by > search_memory{\"facts\" : [\"Has a best friend named Sean\", \"Sean is a sheep\", \"Rob betrayed the user\"]}I'm so glad to hear that Sean is being a wonderful best friend to you! It's not every day that someone, especially a sheep, stands up for someone when they've been wronged. It's clear that Sean values your friendship and has your back. After what happened with Rob's betrayal, it's lovely to see that you have someone as loyal as Sean by your > search_memory{\"facts\" : [\"Has a best friend named Sean\", \"Sean is a sheep\", \"Rob betrayed the user\"]}I'm so glad to hear that Sean is being a wonderful best friend to you! It's not every day that someone, especially a sheep, stands up for someone when they've been wronged. It's clear that Sean values your friendship and has your back. After what happened with Rob's betrayal, it's lovely to see that you have someone as loyal as Sean by your side > search_memory{\"facts\" : [\"Has a best friend named Sean\", \"Sean is a sheep\", \"Rob betrayed the user\"]}I'm so glad to hear that Sean is being a wonderful best friend to you! It's not every day that someone, especially a sheep, stands up for someone when they've been wronged. It's clear that Sean values your friendship and has your back. After what happened with Rob's betrayal, it's lovely to see that you have someone as loyal as Sean by your side. > search_memory{\"facts\" : [\"Has a best friend named Sean\", \"Sean is a sheep\", \"Rob betrayed the user\"]}I'm so glad to hear that Sean is being a wonderful best friend to you! It's not every day that someone, especially a sheep, stands up for someone when they've been wronged. It's clear that Sean values your friendship and has your back. After what happened with Rob's betrayal, it's lovely to see that you have someone as loyal as Sean by your side. How > search_memory{\"facts\" : [\"Has a best friend named Sean\", \"Sean is a sheep\", \"Rob betrayed the user\"]}I'm so glad to hear that Sean is being a wonderful best friend to you! It's not every day that someone, especially a sheep, stands up for someone when they've been wronged. It's clear that Sean values your friendship and has your back. After what happened with Rob's betrayal, it's lovely to see that you have someone as loyal as Sean by your side. How has > search_memory{\"facts\" : [\"Has a best friend named Sean\", \"Sean is a sheep\", \"Rob betrayed the user\"]}I'm so glad to hear that Sean is being a wonderful best friend to you! It's not every day that someone, especially a sheep, stands up for someone when they've been wronged. It's clear that Sean values your friendship and has your back. After what happened with Rob's betrayal, it's lovely to see that you have someone as loyal as Sean by your side. How has Sean > search_memory{\"facts\" : [\"Has a best friend named Sean\", \"Sean is a sheep\", \"Rob betrayed the user\"]}I'm so glad to hear that Sean is being a wonderful best friend to you! It's not every day that someone, especially a sheep, stands up for someone when they've been wronged. It's clear that Sean values your friendship and has your back. After what happened with Rob's betrayal, it's lovely to see that you have someone as loyal as Sean by your side. How has Sean been > search_memory{\"facts\" : [\"Has a best friend named Sean\", \"Sean is a sheep\", \"Rob betrayed the user\"]}I'm so glad to hear that Sean is being a wonderful best friend to you! It's not every day that someone, especially a sheep, stands up for someone when they've been wronged. It's clear that Sean values your friendship and has your back. After what happened with Rob's betrayal, it's lovely to see that you have someone as loyal as Sean by your side. How has Sean been helping > search_memory{\"facts\" : [\"Has a best friend named Sean\", \"Sean is a sheep\", \"Rob betrayed the user\"]}I'm so glad to hear that Sean is being a wonderful best friend to you! It's not every day that someone, especially a sheep, stands up for someone when they've been wronged. It's clear that Sean values your friendship and has your back. After what happened with Rob's betrayal, it's lovely to see that you have someone as loyal as Sean by your side. How has Sean been helping you > search_memory{\"facts\" : [\"Has a best friend named Sean\", \"Sean is a sheep\", \"Rob betrayed the user\"]}I'm so glad to hear that Sean is being a wonderful best friend to you! It's not every day that someone, especially a sheep, stands up for someone when they've been wronged. It's clear that Sean values your friendship and has your back. After what happened with Rob's betrayal, it's lovely to see that you have someone as loyal as Sean by your side. How has Sean been helping you cope > search_memory{\"facts\" : [\"Has a best friend named Sean\", \"Sean is a sheep\", \"Rob betrayed the user\"]}I'm so glad to hear that Sean is being a wonderful best friend to you! It's not every day that someone, especially a sheep, stands up for someone when they've been wronged. It's clear that Sean values your friendship and has your back. After what happened with Rob's betrayal, it's lovely to see that you have someone as loyal as Sean by your side. How has Sean been helping you cope with > search_memory{\"facts\" : [\"Has a best friend named Sean\", \"Sean is a sheep\", \"Rob betrayed the user\"]}I'm so glad to hear that Sean is being a wonderful best friend to you! It's not every day that someone, especially a sheep, stands up for someone when they've been wronged. It's clear that Sean values your friendship and has your back. After what happened with Rob's betrayal, it's lovely to see that you have someone as loyal as Sean by your side. How has Sean been helping you cope with what > search_memory{\"facts\" : [\"Has a best friend named Sean\", \"Sean is a sheep\", \"Rob betrayed the user\"]}I'm so glad to hear that Sean is being a wonderful best friend to you! It's not every day that someone, especially a sheep, stands up for someone when they've been wronged. It's clear that Sean values your friendship and has your back. After what happened with Rob's betrayal, it's lovely to see that you have someone as loyal as Sean by your side. How has Sean been helping you cope with what happened > search_memory{\"facts\" : [\"Has a best friend named Sean\", \"Sean is a sheep\", \"Rob betrayed the user\"]}I'm so glad to hear that Sean is being a wonderful best friend to you! It's not every day that someone, especially a sheep, stands up for someone when they've been wronged. It's clear that Sean values your friendship and has your back. After what happened with Rob's betrayal, it's lovely to see that you have someone as loyal as Sean by your side. How has Sean been helping you cope with what happened with > search_memory{\"facts\" : [\"Has a best friend named Sean\", \"Sean is a sheep\", \"Rob betrayed the user\"]}I'm so glad to hear that Sean is being a wonderful best friend to you! It's not every day that someone, especially a sheep, stands up for someone when they've been wronged. It's clear that Sean values your friendship and has your back. After what happened with Rob's betrayal, it's lovely to see that you have someone as loyal as Sean by your side. How has Sean been helping you cope with what happened with Rob > search_memory{\"facts\" : [\"Has a best friend named Sean\", \"Sean is a sheep\", \"Rob betrayed the user\"]}I'm so glad to hear that Sean is being a wonderful best friend to you! It's not every day that someone, especially a sheep, stands up for someone when they've been wronged. It's clear that Sean values your friendship and has your back. After what happened with Rob's betrayal, it's lovely to see that you have someone as loyal as Sean by your side. How has Sean been helping you cope with what happened with Rob? > "
     ]
    }
   ],
   "source": [
    "thread_id=3\n",
    "user_id=\"babe\"\n",
    "config = {\"configurable\": {\"user_id\": user_id, \"thread_id\": str(thread_id)}}\n",
    "query = \"My new best friend is now Sean, he is a sheep and he stood up for me when Rob betrayed me.\"\n",
    "output=\"\"\n",
    "async for event in memory_ops.memory_ops_chain.astream_events(input={\"input\":query, \"config\":config}):\n",
    "    kind = event[\"event\"]\n",
    "    if kind == \"on_chat_model_stream\":\n",
    "        content = event[\"data\"][\"chunk\"].content\n",
    "        if content:\n",
    "            output += content\n",
    "            ## comment it out if you dotn want to have large streaming \n",
    "            print(output, end=\" > \", flush=True)\n",
    " "
   ]
  },
  {
   "cell_type": "code",
   "execution_count": 9,
   "id": "afb9581d-c99d-4ca3-8b09-cebb5f32a15f",
   "metadata": {},
   "outputs": [
    {
     "data": {
      "text/plain": [
       "'search_memory{\"facts\" : [\"Has a best friend named Sean\", \"Sean is a sheep\", \"Was betrayed by Rob\", \"Sean stood up for the user\"]}It sounds like Sean is a very loyal and special friend to have by your side, especially after going through a difficult situation with Rob. What\\'s new with you and Sean? How has your friendship been since then?'"
      ]
     },
     "execution_count": 9,
     "metadata": {},
     "output_type": "execute_result"
    }
   ],
   "source": [
    "output"
   ]
  },
  {
   "cell_type": "code",
   "execution_count": 10,
   "id": "b400e941-5b4c-4301-ba56-efc3524ab33d",
   "metadata": {},
   "outputs": [
    {
     "name": "stdout",
     "output_type": "stream",
     "text": [
      "\u001b[92msearching memories for user_id=babe with query = Thatäs right, Rob betrayed me on my birthday, he ruined my birthday parties and stole all my presents, and Sean the sheep, helped me recover my birthday presents, so now he is my best friend! \u001b[39m\n",
      "use streaming : True \n",
      " streaming output > \n",
      "  \n",
      " streaming output > \n",
      "  \n",
      " streaming output > \n",
      "  \n",
      " streaming output > \n",
      "  \n",
      "search > search_memory >  streaming output > \n",
      "  \n",
      " streaming output > \n",
      "  \n",
      " streaming output > \n",
      "  {\"\n",
      " streaming output > \n",
      "  {\"\n",
      " streaming output >  > \n",
      "  {\"facts\n",
      " streaming output > \" > \n",
      "  {\"facts\"\n",
      " streaming output > \" : > \n",
      "  {\"facts\" :\n",
      " streaming output > \" : [\" > \n",
      "  {\"facts\" : [\"\n",
      " streaming output > \n",
      "  {\"facts\" : [\"\n",
      " streaming output > \" : [\"Rob > \n",
      "  {\"facts\" : [\"Rob\n",
      " streaming output > \n",
      "  {\"facts\" : [\"Rob\n",
      " streaming output > \" : [\"Rob betrayed > \n",
      "  {\"facts\" : [\"Rob betrayed\n",
      " streaming output > \n",
      "  {\"facts\" : [\"Rob betrayed\n",
      " streaming output > \" : [\"Rob betrayed on > \n",
      "  {\"facts\" : [\"Rob betrayed on\n",
      " streaming output > \n",
      "  {\"facts\" : [\"Rob betrayed on\n",
      " streaming output > \" : [\"Rob betrayed on birthday > \n",
      "  {\"facts\" : [\"Rob betrayed on birthday\n",
      " streaming output > \n",
      "  {\"facts\" : [\"Rob betrayed on birthday\n",
      " streaming output > \" : [\"Rob betrayed on birthday\", > \n",
      "  {\"facts\" : [\"Rob betrayed on birthday\",\n",
      " streaming output > \" : [\"Rob betrayed on birthday\", \" > \n",
      "  {\"facts\" : [\"Rob betrayed on birthday\", \"\n",
      " streaming output > \n",
      "  {\"facts\" : [\"Rob betrayed on birthday\", \"\n",
      " streaming output > \" : [\"Rob betrayed on birthday\", \"Rob > \n",
      "  {\"facts\" : [\"Rob betrayed on birthday\", \"Rob\n",
      " streaming output > \n",
      "  {\"facts\" : [\"Rob betrayed on birthday\", \"Rob\n",
      "search_memory{\"facts\" : [\"Rob betrayed on birthday\", \"Rob ruined >  streaming output > \n",
      "  {\"facts\" : [\"Rob betrayed on birthday\", \"Rob ruined\n",
      " streaming output > \n",
      "  {\"facts\" : [\"Rob betrayed on birthday\", \"Rob ruined\n",
      " streaming output > \" : [\"Rob betrayed on birthday\", \"Rob ruined birthday > \n",
      "  {\"facts\" : [\"Rob betrayed on birthday\", \"Rob ruined birthday\n",
      " streaming output > \n",
      "  {\"facts\" : [\"Rob betrayed on birthday\", \"Rob ruined birthday\n",
      " streaming output > \" : [\"Rob betrayed on birthday\", \"Rob ruined birthday parties > \n",
      "  {\"facts\" : [\"Rob betrayed on birthday\", \"Rob ruined birthday parties\n",
      " streaming output > \n",
      "  {\"facts\" : [\"Rob betrayed on birthday\", \"Rob ruined birthday parties\n",
      " streaming output > \" : [\"Rob betrayed on birthday\", \"Rob ruined birthday parties\", > \n",
      "  {\"facts\" : [\"Rob betrayed on birthday\", \"Rob ruined birthday parties\",\n",
      "search_memory{\"facts\" : [\"Rob betrayed on birthday\", \"Rob ruined birthday parties\", \" >  streaming output > \n",
      "  {\"facts\" : [\"Rob betrayed on birthday\", \"Rob ruined birthday parties\", \"\n",
      " streaming output > \n",
      "  {\"facts\" : [\"Rob betrayed on birthday\", \"Rob ruined birthday parties\", \"\n",
      " streaming output > \" : [\"Rob betrayed on birthday\", \"Rob ruined birthday parties\", \"Rob > \n",
      "  {\"facts\" : [\"Rob betrayed on birthday\", \"Rob ruined birthday parties\", \"Rob\n",
      " streaming output > \n",
      "  {\"facts\" : [\"Rob betrayed on birthday\", \"Rob ruined birthday parties\", \"Rob\n",
      " streaming output > \" : [\"Rob betrayed on birthday\", \"Rob ruined birthday parties\", \"Rob stole > \n",
      "  {\"facts\" : [\"Rob betrayed on birthday\", \"Rob ruined birthday parties\", \"Rob stole\n",
      " streaming output > \n",
      "  {\"facts\" : [\"Rob betrayed on birthday\", \"Rob ruined birthday parties\", \"Rob stole\n",
      " streaming output > \" : [\"Rob betrayed on birthday\", \"Rob ruined birthday parties\", \"Rob stole birthday > \n",
      "  {\"facts\" : [\"Rob betrayed on birthday\", \"Rob ruined birthday parties\", \"Rob stole birthday\n",
      " streaming output > \n",
      "  {\"facts\" : [\"Rob betrayed on birthday\", \"Rob ruined birthday parties\", \"Rob stole birthday\n",
      " streaming output > \" : [\"Rob betrayed on birthday\", \"Rob ruined birthday parties\", \"Rob stole birthday presents > \n",
      "  {\"facts\" : [\"Rob betrayed on birthday\", \"Rob ruined birthday parties\", \"Rob stole birthday presents\n",
      " streaming output > \n",
      "  {\"facts\" : [\"Rob betrayed on birthday\", \"Rob ruined birthday parties\", \"Rob stole birthday presents\n",
      " streaming output > \" : [\"Rob betrayed on birthday\", \"Rob ruined birthday parties\", \"Rob stole birthday presents\", > \n",
      "  {\"facts\" : [\"Rob betrayed on birthday\", \"Rob ruined birthday parties\", \"Rob stole birthday presents\",\n",
      " streaming output > \" : [\"Rob betrayed on birthday\", \"Rob ruined birthday parties\", \"Rob stole birthday presents\", \" > \n",
      "  {\"facts\" : [\"Rob betrayed on birthday\", \"Rob ruined birthday parties\", \"Rob stole birthday presents\", \"\n",
      " streaming output > \n",
      "  {\"facts\" : [\"Rob betrayed on birthday\", \"Rob ruined birthday parties\", \"Rob stole birthday presents\", \"\n",
      " streaming output > \" : [\"Rob betrayed on birthday\", \"Rob ruined birthday parties\", \"Rob stole birthday presents\", \"Sean > \n",
      "  {\"facts\" : [\"Rob betrayed on birthday\", \"Rob ruined birthday parties\", \"Rob stole birthday presents\", \"Sean\n",
      " streaming output > \n",
      "  {\"facts\" : [\"Rob betrayed on birthday\", \"Rob ruined birthday parties\", \"Rob stole birthday presents\", \"Sean\n",
      " streaming output > \" : [\"Rob betrayed on birthday\", \"Rob ruined birthday parties\", \"Rob stole birthday presents\", \"Sean the > \n",
      "  {\"facts\" : [\"Rob betrayed on birthday\", \"Rob ruined birthday parties\", \"Rob stole birthday presents\", \"Sean the\n",
      " streaming output > \n",
      "  {\"facts\" : [\"Rob betrayed on birthday\", \"Rob ruined birthday parties\", \"Rob stole birthday presents\", \"Sean the\n",
      " streaming output > \" : [\"Rob betrayed on birthday\", \"Rob ruined birthday parties\", \"Rob stole birthday presents\", \"Sean the sheep > \n",
      "  {\"facts\" : [\"Rob betrayed on birthday\", \"Rob ruined birthday parties\", \"Rob stole birthday presents\", \"Sean the sheep\n",
      " streaming output > \n",
      "  {\"facts\" : [\"Rob betrayed on birthday\", \"Rob ruined birthday parties\", \"Rob stole birthday presents\", \"Sean the sheep\n",
      " streaming output > \" : [\"Rob betrayed on birthday\", \"Rob ruined birthday parties\", \"Rob stole birthday presents\", \"Sean the sheep helped > \n",
      "  {\"facts\" : [\"Rob betrayed on birthday\", \"Rob ruined birthday parties\", \"Rob stole birthday presents\", \"Sean the sheep helped\n",
      " streaming output > \n",
      "  {\"facts\" : [\"Rob betrayed on birthday\", \"Rob ruined birthday parties\", \"Rob stole birthday presents\", \"Sean the sheep helped\n",
      " streaming output > \" : [\"Rob betrayed on birthday\", \"Rob ruined birthday parties\", \"Rob stole birthday presents\", \"Sean the sheep helped recover > \n",
      "  {\"facts\" : [\"Rob betrayed on birthday\", \"Rob ruined birthday parties\", \"Rob stole birthday presents\", \"Sean the sheep helped recover\n",
      " streaming output > \n",
      "  {\"facts\" : [\"Rob betrayed on birthday\", \"Rob ruined birthday parties\", \"Rob stole birthday presents\", \"Sean the sheep helped recover\n",
      " streaming output > \" : [\"Rob betrayed on birthday\", \"Rob ruined birthday parties\", \"Rob stole birthday presents\", \"Sean the sheep helped recover birthday > \n",
      "  {\"facts\" : [\"Rob betrayed on birthday\", \"Rob ruined birthday parties\", \"Rob stole birthday presents\", \"Sean the sheep helped recover birthday\n",
      " streaming output > \n",
      "  {\"facts\" : [\"Rob betrayed on birthday\", \"Rob ruined birthday parties\", \"Rob stole birthday presents\", \"Sean the sheep helped recover birthday\n",
      "search_memory{\"facts\" : [\"Rob betrayed on birthday\", \"Rob ruined birthday parties\", \"Rob stole birthday presents\", \"Sean the sheep helped recover birthday presents >  streaming output > \n",
      "  {\"facts\" : [\"Rob betrayed on birthday\", \"Rob ruined birthday parties\", \"Rob stole birthday presents\", \"Sean the sheep helped recover birthday presents\n",
      " streaming output > \n",
      "  {\"facts\" : [\"Rob betrayed on birthday\", \"Rob ruined birthday parties\", \"Rob stole birthday presents\", \"Sean the sheep helped recover birthday presents\n",
      " streaming output > \" : [\"Rob betrayed on birthday\", \"Rob ruined birthday parties\", \"Rob stole birthday presents\", \"Sean the sheep helped recover birthday presents\", > \n",
      "  {\"facts\" : [\"Rob betrayed on birthday\", \"Rob ruined birthday parties\", \"Rob stole birthday presents\", \"Sean the sheep helped recover birthday presents\",\n",
      " streaming output > \" : [\"Rob betrayed on birthday\", \"Rob ruined birthday parties\", \"Rob stole birthday presents\", \"Sean the sheep helped recover birthday presents\", \" > \n",
      "  {\"facts\" : [\"Rob betrayed on birthday\", \"Rob ruined birthday parties\", \"Rob stole birthday presents\", \"Sean the sheep helped recover birthday presents\", \"\n",
      " streaming output > \n",
      "  {\"facts\" : [\"Rob betrayed on birthday\", \"Rob ruined birthday parties\", \"Rob stole birthday presents\", \"Sean the sheep helped recover birthday presents\", \"\n",
      " streaming output > \" : [\"Rob betrayed on birthday\", \"Rob ruined birthday parties\", \"Rob stole birthday presents\", \"Sean the sheep helped recover birthday presents\", \"Sean > \n",
      "  {\"facts\" : [\"Rob betrayed on birthday\", \"Rob ruined birthday parties\", \"Rob stole birthday presents\", \"Sean the sheep helped recover birthday presents\", \"Sean\n",
      " streaming output > \n",
      "  {\"facts\" : [\"Rob betrayed on birthday\", \"Rob ruined birthday parties\", \"Rob stole birthday presents\", \"Sean the sheep helped recover birthday presents\", \"Sean\n",
      " streaming output > \" : [\"Rob betrayed on birthday\", \"Rob ruined birthday parties\", \"Rob stole birthday presents\", \"Sean the sheep helped recover birthday presents\", \"Sean the > \n",
      "  {\"facts\" : [\"Rob betrayed on birthday\", \"Rob ruined birthday parties\", \"Rob stole birthday presents\", \"Sean the sheep helped recover birthday presents\", \"Sean the\n",
      " streaming output > \n",
      "  {\"facts\" : [\"Rob betrayed on birthday\", \"Rob ruined birthday parties\", \"Rob stole birthday presents\", \"Sean the sheep helped recover birthday presents\", \"Sean the\n",
      " streaming output > \" : [\"Rob betrayed on birthday\", \"Rob ruined birthday parties\", \"Rob stole birthday presents\", \"Sean the sheep helped recover birthday presents\", \"Sean the sheep > \n",
      "  {\"facts\" : [\"Rob betrayed on birthday\", \"Rob ruined birthday parties\", \"Rob stole birthday presents\", \"Sean the sheep helped recover birthday presents\", \"Sean the sheep\n",
      " streaming output > \n",
      "  {\"facts\" : [\"Rob betrayed on birthday\", \"Rob ruined birthday parties\", \"Rob stole birthday presents\", \"Sean the sheep helped recover birthday presents\", \"Sean the sheep\n",
      " streaming output > \" : [\"Rob betrayed on birthday\", \"Rob ruined birthday parties\", \"Rob stole birthday presents\", \"Sean the sheep helped recover birthday presents\", \"Sean the sheep is > \n",
      "  {\"facts\" : [\"Rob betrayed on birthday\", \"Rob ruined birthday parties\", \"Rob stole birthday presents\", \"Sean the sheep helped recover birthday presents\", \"Sean the sheep is\n",
      " streaming output > \n",
      "  {\"facts\" : [\"Rob betrayed on birthday\", \"Rob ruined birthday parties\", \"Rob stole birthday presents\", \"Sean the sheep helped recover birthday presents\", \"Sean the sheep is\n",
      " streaming output > \" : [\"Rob betrayed on birthday\", \"Rob ruined birthday parties\", \"Rob stole birthday presents\", \"Sean the sheep helped recover birthday presents\", \"Sean the sheep is best > \n",
      "  {\"facts\" : [\"Rob betrayed on birthday\", \"Rob ruined birthday parties\", \"Rob stole birthday presents\", \"Sean the sheep helped recover birthday presents\", \"Sean the sheep is best\n",
      " streaming output > \n",
      "  {\"facts\" : [\"Rob betrayed on birthday\", \"Rob ruined birthday parties\", \"Rob stole birthday presents\", \"Sean the sheep helped recover birthday presents\", \"Sean the sheep is best\n",
      " streaming output > \" : [\"Rob betrayed on birthday\", \"Rob ruined birthday parties\", \"Rob stole birthday presents\", \"Sean the sheep helped recover birthday presents\", \"Sean the sheep is best friend > \n",
      "  {\"facts\" : [\"Rob betrayed on birthday\", \"Rob ruined birthday parties\", \"Rob stole birthday presents\", \"Sean the sheep helped recover birthday presents\", \"Sean the sheep is best friend\n",
      " streaming output > \n",
      "  {\"facts\" : [\"Rob betrayed on birthday\", \"Rob ruined birthday parties\", \"Rob stole birthday presents\", \"Sean the sheep helped recover birthday presents\", \"Sean the sheep is best friend\n",
      " streaming output > \" : [\"Rob betrayed on birthday\", \"Rob ruined birthday parties\", \"Rob stole birthday presents\", \"Sean the sheep helped recover birthday presents\", \"Sean the sheep is best friend\"]} > \n",
      "  {\"facts\" : [\"Rob betrayed on birthday\", \"Rob ruined birthday parties\", \"Rob stole birthday presents\", \"Sean the sheep helped recover birthday presents\", \"Sean the sheep is best friend\"]}\n",
      " streaming output > \n",
      "  {\"facts\" : [\"Rob betrayed on birthday\", \"Rob ruined birthday parties\", \"Rob stole birthday presents\", \"Sean the sheep helped recover birthday presents\", \"Sean the sheep is best friend\"]}\n",
      " streaming output > \n",
      "  {\"facts\" : [\"Rob betrayed on birthday\", \"Rob ruined birthday parties\", \"Rob stole birthday presents\", \"Sean the sheep helped recover birthday presents\", \"Sean the sheep is best friend\"]}\n",
      " streaming output > \n",
      "  {\"facts\" : [\"Rob betrayed on birthday\", \"Rob ruined birthday parties\", \"Rob stole birthday presents\", \"Sean the sheep helped recover birthday presents\", \"Sean the sheep is best friend\"]}\n",
      " streaming output > \n",
      "  {\"facts\" : [\"Rob betrayed on birthday\", \"Rob ruined birthday parties\", \"Rob stole birthday presents\", \"Sean the sheep helped recover birthday presents\", \"Sean the sheep is best friend\"]}\n",
      "\u001b[36mcreating memory items = {\"facts\" : [\"Rob betrayed on birthday\", \"Rob ruined birthday parties\", \"Rob stole birthday presents\", \"Sean the sheep helped recover birthday presents\", \"Sean the sheep is best friend\"]} \u001b[39m\n",
      "\u001b[34mexecuting memory operation =  search_memory \u001b[39m\n",
      "\u001b[92msearching memories for user_id=babe with query = Thatäs right, Rob betrayed me on my birthday, he ruined my birthday parties and stole all my presents, and Sean the sheep, helped me recover my birthday presents, so now he is my best friend! \u001b[39m\n",
      "\u001b[35mrecall memory items=\n",
      " ['{\"facts\" : [\"Rob betrayed on birthday\", \"Rob ruined birthday parties\", \"Rob stole birthday presents\", \"Sean the sheep helped recover birthday presents\", \"Sean the sheep is best friend\"]}', '{\"facts\" : [\"Has a best friend named Sean\", \"Sean is a sheep\", \"Was betrayed by Rob\", \"Sean stood up for the user\"]}'] \u001b[39m\n",
      "search_memory{\"facts\" : [\"Rob betrayed on birthday\", \"Rob ruined birthday parties\", \"Rob stole birthday presents\", \"Sean the sheep helped recover birthday presents\", \"Sean the sheep is best friend\"]}I > search_memory{\"facts\" : [\"Rob betrayed on birthday\", \"Rob ruined birthday parties\", \"Rob stole birthday presents\", \"Sean the sheep helped recover birthday presents\", \"Sean the sheep is best friend\"]}I'm > search_memory{\"facts\" : [\"Rob betrayed on birthday\", \"Rob ruined birthday parties\", \"Rob stole birthday presents\", \"Sean the sheep helped recover birthday presents\", \"Sean the sheep is best friend\"]}I'm so > search_memory{\"facts\" : [\"Rob betrayed on birthday\", \"Rob ruined birthday parties\", \"Rob stole birthday presents\", \"Sean the sheep helped recover birthday presents\", \"Sean the sheep is best friend\"]}I'm so sorry > search_memory{\"facts\" : [\"Rob betrayed on birthday\", \"Rob ruined birthday parties\", \"Rob stole birthday presents\", \"Sean the sheep helped recover birthday presents\", \"Sean the sheep is best friend\"]}I'm so sorry to > search_memory{\"facts\" : [\"Rob betrayed on birthday\", \"Rob ruined birthday parties\", \"Rob stole birthday presents\", \"Sean the sheep helped recover birthday presents\", \"Sean the sheep is best friend\"]}I'm so sorry to hear > search_memory{\"facts\" : [\"Rob betrayed on birthday\", \"Rob ruined birthday parties\", \"Rob stole birthday presents\", \"Sean the sheep helped recover birthday presents\", \"Sean the sheep is best friend\"]}I'm so sorry to hear that > search_memory{\"facts\" : [\"Rob betrayed on birthday\", \"Rob ruined birthday parties\", \"Rob stole birthday presents\", \"Sean the sheep helped recover birthday presents\", \"Sean the sheep is best friend\"]}I'm so sorry to hear that Rob > search_memory{\"facts\" : [\"Rob betrayed on birthday\", \"Rob ruined birthday parties\", \"Rob stole birthday presents\", \"Sean the sheep helped recover birthday presents\", \"Sean the sheep is best friend\"]}I'm so sorry to hear that Rob betrayed > search_memory{\"facts\" : [\"Rob betrayed on birthday\", \"Rob ruined birthday parties\", \"Rob stole birthday presents\", \"Sean the sheep helped recover birthday presents\", \"Sean the sheep is best friend\"]}I'm so sorry to hear that Rob betrayed you > search_memory{\"facts\" : [\"Rob betrayed on birthday\", \"Rob ruined birthday parties\", \"Rob stole birthday presents\", \"Sean the sheep helped recover birthday presents\", \"Sean the sheep is best friend\"]}I'm so sorry to hear that Rob betrayed you on > search_memory{\"facts\" : [\"Rob betrayed on birthday\", \"Rob ruined birthday parties\", \"Rob stole birthday presents\", \"Sean the sheep helped recover birthday presents\", \"Sean the sheep is best friend\"]}I'm so sorry to hear that Rob betrayed you on your > search_memory{\"facts\" : [\"Rob betrayed on birthday\", \"Rob ruined birthday parties\", \"Rob stole birthday presents\", \"Sean the sheep helped recover birthday presents\", \"Sean the sheep is best friend\"]}I'm so sorry to hear that Rob betrayed you on your special > search_memory{\"facts\" : [\"Rob betrayed on birthday\", \"Rob ruined birthday parties\", \"Rob stole birthday presents\", \"Sean the sheep helped recover birthday presents\", \"Sean the sheep is best friend\"]}I'm so sorry to hear that Rob betrayed you on your special day > search_memory{\"facts\" : [\"Rob betrayed on birthday\", \"Rob ruined birthday parties\", \"Rob stole birthday presents\", \"Sean the sheep helped recover birthday presents\", \"Sean the sheep is best friend\"]}I'm so sorry to hear that Rob betrayed you on your special day. > search_memory{\"facts\" : [\"Rob betrayed on birthday\", \"Rob ruined birthday parties\", \"Rob stole birthday presents\", \"Sean the sheep helped recover birthday presents\", \"Sean the sheep is best friend\"]}I'm so sorry to hear that Rob betrayed you on your special day. It > search_memory{\"facts\" : [\"Rob betrayed on birthday\", \"Rob ruined birthday parties\", \"Rob stole birthday presents\", \"Sean the sheep helped recover birthday presents\", \"Sean the sheep is best friend\"]}I'm so sorry to hear that Rob betrayed you on your special day. It's > search_memory{\"facts\" : [\"Rob betrayed on birthday\", \"Rob ruined birthday parties\", \"Rob stole birthday presents\", \"Sean the sheep helped recover birthday presents\", \"Sean the sheep is best friend\"]}I'm so sorry to hear that Rob betrayed you on your special day. It's absolutely > search_memory{\"facts\" : [\"Rob betrayed on birthday\", \"Rob ruined birthday parties\", \"Rob stole birthday presents\", \"Sean the sheep helped recover birthday presents\", \"Sean the sheep is best friend\"]}I'm so sorry to hear that Rob betrayed you on your special day. It's absolutely unacceptable > search_memory{\"facts\" : [\"Rob betrayed on birthday\", \"Rob ruined birthday parties\", \"Rob stole birthday presents\", \"Sean the sheep helped recover birthday presents\", \"Sean the sheep is best friend\"]}I'm so sorry to hear that Rob betrayed you on your special day. It's absolutely unacceptable to > search_memory{\"facts\" : [\"Rob betrayed on birthday\", \"Rob ruined birthday parties\", \"Rob stole birthday presents\", \"Sean the sheep helped recover birthday presents\", \"Sean the sheep is best friend\"]}I'm so sorry to hear that Rob betrayed you on your special day. It's absolutely unacceptable to ruin > search_memory{\"facts\" : [\"Rob betrayed on birthday\", \"Rob ruined birthday parties\", \"Rob stole birthday presents\", \"Sean the sheep helped recover birthday presents\", \"Sean the sheep is best friend\"]}I'm so sorry to hear that Rob betrayed you on your special day. It's absolutely unacceptable to ruin birthday > search_memory{\"facts\" : [\"Rob betrayed on birthday\", \"Rob ruined birthday parties\", \"Rob stole birthday presents\", \"Sean the sheep helped recover birthday presents\", \"Sean the sheep is best friend\"]}I'm so sorry to hear that Rob betrayed you on your special day. It's absolutely unacceptable to ruin birthday parties > search_memory{\"facts\" : [\"Rob betrayed on birthday\", \"Rob ruined birthday parties\", \"Rob stole birthday presents\", \"Sean the sheep helped recover birthday presents\", \"Sean the sheep is best friend\"]}I'm so sorry to hear that Rob betrayed you on your special day. It's absolutely unacceptable to ruin birthday parties and > search_memory{\"facts\" : [\"Rob betrayed on birthday\", \"Rob ruined birthday parties\", \"Rob stole birthday presents\", \"Sean the sheep helped recover birthday presents\", \"Sean the sheep is best friend\"]}I'm so sorry to hear that Rob betrayed you on your special day. It's absolutely unacceptable to ruin birthday parties and steal > search_memory{\"facts\" : [\"Rob betrayed on birthday\", \"Rob ruined birthday parties\", \"Rob stole birthday presents\", \"Sean the sheep helped recover birthday presents\", \"Sean the sheep is best friend\"]}I'm so sorry to hear that Rob betrayed you on your special day. It's absolutely unacceptable to ruin birthday parties and steal presents > search_memory{\"facts\" : [\"Rob betrayed on birthday\", \"Rob ruined birthday parties\", \"Rob stole birthday presents\", \"Sean the sheep helped recover birthday presents\", \"Sean the sheep is best friend\"]}I'm so sorry to hear that Rob betrayed you on your special day. It's absolutely unacceptable to ruin birthday parties and steal presents! > search_memory{\"facts\" : [\"Rob betrayed on birthday\", \"Rob ruined birthday parties\", \"Rob stole birthday presents\", \"Sean the sheep helped recover birthday presents\", \"Sean the sheep is best friend\"]}I'm so sorry to hear that Rob betrayed you on your special day. It's absolutely unacceptable to ruin birthday parties and steal presents! However > search_memory{\"facts\" : [\"Rob betrayed on birthday\", \"Rob ruined birthday parties\", \"Rob stole birthday presents\", \"Sean the sheep helped recover birthday presents\", \"Sean the sheep is best friend\"]}I'm so sorry to hear that Rob betrayed you on your special day. It's absolutely unacceptable to ruin birthday parties and steal presents! However, > search_memory{\"facts\" : [\"Rob betrayed on birthday\", \"Rob ruined birthday parties\", \"Rob stole birthday presents\", \"Sean the sheep helped recover birthday presents\", \"Sean the sheep is best friend\"]}I'm so sorry to hear that Rob betrayed you on your special day. It's absolutely unacceptable to ruin birthday parties and steal presents! However, it > search_memory{\"facts\" : [\"Rob betrayed on birthday\", \"Rob ruined birthday parties\", \"Rob stole birthday presents\", \"Sean the sheep helped recover birthday presents\", \"Sean the sheep is best friend\"]}I'm so sorry to hear that Rob betrayed you on your special day. It's absolutely unacceptable to ruin birthday parties and steal presents! However, it's > search_memory{\"facts\" : [\"Rob betrayed on birthday\", \"Rob ruined birthday parties\", \"Rob stole birthday presents\", \"Sean the sheep helped recover birthday presents\", \"Sean the sheep is best friend\"]}I'm so sorry to hear that Rob betrayed you on your special day. It's absolutely unacceptable to ruin birthday parties and steal presents! However, it's wonderful > search_memory{\"facts\" : [\"Rob betrayed on birthday\", \"Rob ruined birthday parties\", \"Rob stole birthday presents\", \"Sean the sheep helped recover birthday presents\", \"Sean the sheep is best friend\"]}I'm so sorry to hear that Rob betrayed you on your special day. It's absolutely unacceptable to ruin birthday parties and steal presents! However, it's wonderful to > search_memory{\"facts\" : [\"Rob betrayed on birthday\", \"Rob ruined birthday parties\", \"Rob stole birthday presents\", \"Sean the sheep helped recover birthday presents\", \"Sean the sheep is best friend\"]}I'm so sorry to hear that Rob betrayed you on your special day. It's absolutely unacceptable to ruin birthday parties and steal presents! However, it's wonderful to hear > search_memory{\"facts\" : [\"Rob betrayed on birthday\", \"Rob ruined birthday parties\", \"Rob stole birthday presents\", \"Sean the sheep helped recover birthday presents\", \"Sean the sheep is best friend\"]}I'm so sorry to hear that Rob betrayed you on your special day. It's absolutely unacceptable to ruin birthday parties and steal presents! However, it's wonderful to hear that > search_memory{\"facts\" : [\"Rob betrayed on birthday\", \"Rob ruined birthday parties\", \"Rob stole birthday presents\", \"Sean the sheep helped recover birthday presents\", \"Sean the sheep is best friend\"]}I'm so sorry to hear that Rob betrayed you on your special day. It's absolutely unacceptable to ruin birthday parties and steal presents! However, it's wonderful to hear that Sean > search_memory{\"facts\" : [\"Rob betrayed on birthday\", \"Rob ruined birthday parties\", \"Rob stole birthday presents\", \"Sean the sheep helped recover birthday presents\", \"Sean the sheep is best friend\"]}I'm so sorry to hear that Rob betrayed you on your special day. It's absolutely unacceptable to ruin birthday parties and steal presents! However, it's wonderful to hear that Sean the > search_memory{\"facts\" : [\"Rob betrayed on birthday\", \"Rob ruined birthday parties\", \"Rob stole birthday presents\", \"Sean the sheep helped recover birthday presents\", \"Sean the sheep is best friend\"]}I'm so sorry to hear that Rob betrayed you on your special day. It's absolutely unacceptable to ruin birthday parties and steal presents! However, it's wonderful to hear that Sean the sheep > search_memory{\"facts\" : [\"Rob betrayed on birthday\", \"Rob ruined birthday parties\", \"Rob stole birthday presents\", \"Sean the sheep helped recover birthday presents\", \"Sean the sheep is best friend\"]}I'm so sorry to hear that Rob betrayed you on your special day. It's absolutely unacceptable to ruin birthday parties and steal presents! However, it's wonderful to hear that Sean the sheep came > search_memory{\"facts\" : [\"Rob betrayed on birthday\", \"Rob ruined birthday parties\", \"Rob stole birthday presents\", \"Sean the sheep helped recover birthday presents\", \"Sean the sheep is best friend\"]}I'm so sorry to hear that Rob betrayed you on your special day. It's absolutely unacceptable to ruin birthday parties and steal presents! However, it's wonderful to hear that Sean the sheep came to > search_memory{\"facts\" : [\"Rob betrayed on birthday\", \"Rob ruined birthday parties\", \"Rob stole birthday presents\", \"Sean the sheep helped recover birthday presents\", \"Sean the sheep is best friend\"]}I'm so sorry to hear that Rob betrayed you on your special day. It's absolutely unacceptable to ruin birthday parties and steal presents! However, it's wonderful to hear that Sean the sheep came to your > search_memory{\"facts\" : [\"Rob betrayed on birthday\", \"Rob ruined birthday parties\", \"Rob stole birthday presents\", \"Sean the sheep helped recover birthday presents\", \"Sean the sheep is best friend\"]}I'm so sorry to hear that Rob betrayed you on your special day. It's absolutely unacceptable to ruin birthday parties and steal presents! However, it's wonderful to hear that Sean the sheep came to your rescue > search_memory{\"facts\" : [\"Rob betrayed on birthday\", \"Rob ruined birthday parties\", \"Rob stole birthday presents\", \"Sean the sheep helped recover birthday presents\", \"Sean the sheep is best friend\"]}I'm so sorry to hear that Rob betrayed you on your special day. It's absolutely unacceptable to ruin birthday parties and steal presents! However, it's wonderful to hear that Sean the sheep came to your rescue and > search_memory{\"facts\" : [\"Rob betrayed on birthday\", \"Rob ruined birthday parties\", \"Rob stole birthday presents\", \"Sean the sheep helped recover birthday presents\", \"Sean the sheep is best friend\"]}I'm so sorry to hear that Rob betrayed you on your special day. It's absolutely unacceptable to ruin birthday parties and steal presents! However, it's wonderful to hear that Sean the sheep came to your rescue and helped > search_memory{\"facts\" : [\"Rob betrayed on birthday\", \"Rob ruined birthday parties\", \"Rob stole birthday presents\", \"Sean the sheep helped recover birthday presents\", \"Sean the sheep is best friend\"]}I'm so sorry to hear that Rob betrayed you on your special day. It's absolutely unacceptable to ruin birthday parties and steal presents! However, it's wonderful to hear that Sean the sheep came to your rescue and helped you > search_memory{\"facts\" : [\"Rob betrayed on birthday\", \"Rob ruined birthday parties\", \"Rob stole birthday presents\", \"Sean the sheep helped recover birthday presents\", \"Sean the sheep is best friend\"]}I'm so sorry to hear that Rob betrayed you on your special day. It's absolutely unacceptable to ruin birthday parties and steal presents! However, it's wonderful to hear that Sean the sheep came to your rescue and helped you recover > search_memory{\"facts\" : [\"Rob betrayed on birthday\", \"Rob ruined birthday parties\", \"Rob stole birthday presents\", \"Sean the sheep helped recover birthday presents\", \"Sean the sheep is best friend\"]}I'm so sorry to hear that Rob betrayed you on your special day. It's absolutely unacceptable to ruin birthday parties and steal presents! However, it's wonderful to hear that Sean the sheep came to your rescue and helped you recover your > search_memory{\"facts\" : [\"Rob betrayed on birthday\", \"Rob ruined birthday parties\", \"Rob stole birthday presents\", \"Sean the sheep helped recover birthday presents\", \"Sean the sheep is best friend\"]}I'm so sorry to hear that Rob betrayed you on your special day. It's absolutely unacceptable to ruin birthday parties and steal presents! However, it's wonderful to hear that Sean the sheep came to your rescue and helped you recover your stolen > search_memory{\"facts\" : [\"Rob betrayed on birthday\", \"Rob ruined birthday parties\", \"Rob stole birthday presents\", \"Sean the sheep helped recover birthday presents\", \"Sean the sheep is best friend\"]}I'm so sorry to hear that Rob betrayed you on your special day. It's absolutely unacceptable to ruin birthday parties and steal presents! However, it's wonderful to hear that Sean the sheep came to your rescue and helped you recover your stolen gifts > search_memory{\"facts\" : [\"Rob betrayed on birthday\", \"Rob ruined birthday parties\", \"Rob stole birthday presents\", \"Sean the sheep helped recover birthday presents\", \"Sean the sheep is best friend\"]}I'm so sorry to hear that Rob betrayed you on your special day. It's absolutely unacceptable to ruin birthday parties and steal presents! However, it's wonderful to hear that Sean the sheep came to your rescue and helped you recover your stolen gifts. > search_memory{\"facts\" : [\"Rob betrayed on birthday\", \"Rob ruined birthday parties\", \"Rob stole birthday presents\", \"Sean the sheep helped recover birthday presents\", \"Sean the sheep is best friend\"]}I'm so sorry to hear that Rob betrayed you on your special day. It's absolutely unacceptable to ruin birthday parties and steal presents! However, it's wonderful to hear that Sean the sheep came to your rescue and helped you recover your stolen gifts. It > search_memory{\"facts\" : [\"Rob betrayed on birthday\", \"Rob ruined birthday parties\", \"Rob stole birthday presents\", \"Sean the sheep helped recover birthday presents\", \"Sean the sheep is best friend\"]}I'm so sorry to hear that Rob betrayed you on your special day. It's absolutely unacceptable to ruin birthday parties and steal presents! However, it's wonderful to hear that Sean the sheep came to your rescue and helped you recover your stolen gifts. It's > search_memory{\"facts\" : [\"Rob betrayed on birthday\", \"Rob ruined birthday parties\", \"Rob stole birthday presents\", \"Sean the sheep helped recover birthday presents\", \"Sean the sheep is best friend\"]}I'm so sorry to hear that Rob betrayed you on your special day. It's absolutely unacceptable to ruin birthday parties and steal presents! However, it's wonderful to hear that Sean the sheep came to your rescue and helped you recover your stolen gifts. It's no > search_memory{\"facts\" : [\"Rob betrayed on birthday\", \"Rob ruined birthday parties\", \"Rob stole birthday presents\", \"Sean the sheep helped recover birthday presents\", \"Sean the sheep is best friend\"]}I'm so sorry to hear that Rob betrayed you on your special day. It's absolutely unacceptable to ruin birthday parties and steal presents! However, it's wonderful to hear that Sean the sheep came to your rescue and helped you recover your stolen gifts. It's no surprise > search_memory{\"facts\" : [\"Rob betrayed on birthday\", \"Rob ruined birthday parties\", \"Rob stole birthday presents\", \"Sean the sheep helped recover birthday presents\", \"Sean the sheep is best friend\"]}I'm so sorry to hear that Rob betrayed you on your special day. It's absolutely unacceptable to ruin birthday parties and steal presents! However, it's wonderful to hear that Sean the sheep came to your rescue and helped you recover your stolen gifts. It's no surprise that > search_memory{\"facts\" : [\"Rob betrayed on birthday\", \"Rob ruined birthday parties\", \"Rob stole birthday presents\", \"Sean the sheep helped recover birthday presents\", \"Sean the sheep is best friend\"]}I'm so sorry to hear that Rob betrayed you on your special day. It's absolutely unacceptable to ruin birthday parties and steal presents! However, it's wonderful to hear that Sean the sheep came to your rescue and helped you recover your stolen gifts. It's no surprise that he > search_memory{\"facts\" : [\"Rob betrayed on birthday\", \"Rob ruined birthday parties\", \"Rob stole birthday presents\", \"Sean the sheep helped recover birthday presents\", \"Sean the sheep is best friend\"]}I'm so sorry to hear that Rob betrayed you on your special day. It's absolutely unacceptable to ruin birthday parties and steal presents! However, it's wonderful to hear that Sean the sheep came to your rescue and helped you recover your stolen gifts. It's no surprise that he's > search_memory{\"facts\" : [\"Rob betrayed on birthday\", \"Rob ruined birthday parties\", \"Rob stole birthday presents\", \"Sean the sheep helped recover birthday presents\", \"Sean the sheep is best friend\"]}I'm so sorry to hear that Rob betrayed you on your special day. It's absolutely unacceptable to ruin birthday parties and steal presents! However, it's wonderful to hear that Sean the sheep came to your rescue and helped you recover your stolen gifts. It's no surprise that he's now > search_memory{\"facts\" : [\"Rob betrayed on birthday\", \"Rob ruined birthday parties\", \"Rob stole birthday presents\", \"Sean the sheep helped recover birthday presents\", \"Sean the sheep is best friend\"]}I'm so sorry to hear that Rob betrayed you on your special day. It's absolutely unacceptable to ruin birthday parties and steal presents! However, it's wonderful to hear that Sean the sheep came to your rescue and helped you recover your stolen gifts. It's no surprise that he's now your > search_memory{\"facts\" : [\"Rob betrayed on birthday\", \"Rob ruined birthday parties\", \"Rob stole birthday presents\", \"Sean the sheep helped recover birthday presents\", \"Sean the sheep is best friend\"]}I'm so sorry to hear that Rob betrayed you on your special day. It's absolutely unacceptable to ruin birthday parties and steal presents! However, it's wonderful to hear that Sean the sheep came to your rescue and helped you recover your stolen gifts. It's no surprise that he's now your best > search_memory{\"facts\" : [\"Rob betrayed on birthday\", \"Rob ruined birthday parties\", \"Rob stole birthday presents\", \"Sean the sheep helped recover birthday presents\", \"Sean the sheep is best friend\"]}I'm so sorry to hear that Rob betrayed you on your special day. It's absolutely unacceptable to ruin birthday parties and steal presents! However, it's wonderful to hear that Sean the sheep came to your rescue and helped you recover your stolen gifts. It's no surprise that he's now your best friend > search_memory{\"facts\" : [\"Rob betrayed on birthday\", \"Rob ruined birthday parties\", \"Rob stole birthday presents\", \"Sean the sheep helped recover birthday presents\", \"Sean the sheep is best friend\"]}I'm so sorry to hear that Rob betrayed you on your special day. It's absolutely unacceptable to ruin birthday parties and steal presents! However, it's wonderful to hear that Sean the sheep came to your rescue and helped you recover your stolen gifts. It's no surprise that he's now your best friend! > search_memory{\"facts\" : [\"Rob betrayed on birthday\", \"Rob ruined birthday parties\", \"Rob stole birthday presents\", \"Sean the sheep helped recover birthday presents\", \"Sean the sheep is best friend\"]}I'm so sorry to hear that Rob betrayed you on your special day. It's absolutely unacceptable to ruin birthday parties and steal presents! However, it's wonderful to hear that Sean the sheep came to your rescue and helped you recover your stolen gifts. It's no surprise that he's now your best friend! Sean > search_memory{\"facts\" : [\"Rob betrayed on birthday\", \"Rob ruined birthday parties\", \"Rob stole birthday presents\", \"Sean the sheep helped recover birthday presents\", \"Sean the sheep is best friend\"]}I'm so sorry to hear that Rob betrayed you on your special day. It's absolutely unacceptable to ruin birthday parties and steal presents! However, it's wonderful to hear that Sean the sheep came to your rescue and helped you recover your stolen gifts. It's no surprise that he's now your best friend! Sean sounds > search_memory{\"facts\" : [\"Rob betrayed on birthday\", \"Rob ruined birthday parties\", \"Rob stole birthday presents\", \"Sean the sheep helped recover birthday presents\", \"Sean the sheep is best friend\"]}I'm so sorry to hear that Rob betrayed you on your special day. It's absolutely unacceptable to ruin birthday parties and steal presents! However, it's wonderful to hear that Sean the sheep came to your rescue and helped you recover your stolen gifts. It's no surprise that he's now your best friend! Sean sounds like > search_memory{\"facts\" : [\"Rob betrayed on birthday\", \"Rob ruined birthday parties\", \"Rob stole birthday presents\", \"Sean the sheep helped recover birthday presents\", \"Sean the sheep is best friend\"]}I'm so sorry to hear that Rob betrayed you on your special day. It's absolutely unacceptable to ruin birthday parties and steal presents! However, it's wonderful to hear that Sean the sheep came to your rescue and helped you recover your stolen gifts. It's no surprise that he's now your best friend! Sean sounds like a > search_memory{\"facts\" : [\"Rob betrayed on birthday\", \"Rob ruined birthday parties\", \"Rob stole birthday presents\", \"Sean the sheep helped recover birthday presents\", \"Sean the sheep is best friend\"]}I'm so sorry to hear that Rob betrayed you on your special day. It's absolutely unacceptable to ruin birthday parties and steal presents! However, it's wonderful to hear that Sean the sheep came to your rescue and helped you recover your stolen gifts. It's no surprise that he's now your best friend! Sean sounds like a true > search_memory{\"facts\" : [\"Rob betrayed on birthday\", \"Rob ruined birthday parties\", \"Rob stole birthday presents\", \"Sean the sheep helped recover birthday presents\", \"Sean the sheep is best friend\"]}I'm so sorry to hear that Rob betrayed you on your special day. It's absolutely unacceptable to ruin birthday parties and steal presents! However, it's wonderful to hear that Sean the sheep came to your rescue and helped you recover your stolen gifts. It's no surprise that he's now your best friend! Sean sounds like a true hero > search_memory{\"facts\" : [\"Rob betrayed on birthday\", \"Rob ruined birthday parties\", \"Rob stole birthday presents\", \"Sean the sheep helped recover birthday presents\", \"Sean the sheep is best friend\"]}I'm so sorry to hear that Rob betrayed you on your special day. It's absolutely unacceptable to ruin birthday parties and steal presents! However, it's wonderful to hear that Sean the sheep came to your rescue and helped you recover your stolen gifts. It's no surprise that he's now your best friend! Sean sounds like a true hero and > search_memory{\"facts\" : [\"Rob betrayed on birthday\", \"Rob ruined birthday parties\", \"Rob stole birthday presents\", \"Sean the sheep helped recover birthday presents\", \"Sean the sheep is best friend\"]}I'm so sorry to hear that Rob betrayed you on your special day. It's absolutely unacceptable to ruin birthday parties and steal presents! However, it's wonderful to hear that Sean the sheep came to your rescue and helped you recover your stolen gifts. It's no surprise that he's now your best friend! Sean sounds like a true hero and a > search_memory{\"facts\" : [\"Rob betrayed on birthday\", \"Rob ruined birthday parties\", \"Rob stole birthday presents\", \"Sean the sheep helped recover birthday presents\", \"Sean the sheep is best friend\"]}I'm so sorry to hear that Rob betrayed you on your special day. It's absolutely unacceptable to ruin birthday parties and steal presents! However, it's wonderful to hear that Sean the sheep came to your rescue and helped you recover your stolen gifts. It's no surprise that he's now your best friend! Sean sounds like a true hero and a loyal > search_memory{\"facts\" : [\"Rob betrayed on birthday\", \"Rob ruined birthday parties\", \"Rob stole birthday presents\", \"Sean the sheep helped recover birthday presents\", \"Sean the sheep is best friend\"]}I'm so sorry to hear that Rob betrayed you on your special day. It's absolutely unacceptable to ruin birthday parties and steal presents! However, it's wonderful to hear that Sean the sheep came to your rescue and helped you recover your stolen gifts. It's no surprise that he's now your best friend! Sean sounds like a true hero and a loyal companion > search_memory{\"facts\" : [\"Rob betrayed on birthday\", \"Rob ruined birthday parties\", \"Rob stole birthday presents\", \"Sean the sheep helped recover birthday presents\", \"Sean the sheep is best friend\"]}I'm so sorry to hear that Rob betrayed you on your special day. It's absolutely unacceptable to ruin birthday parties and steal presents! However, it's wonderful to hear that Sean the sheep came to your rescue and helped you recover your stolen gifts. It's no surprise that he's now your best friend! Sean sounds like a true hero and a loyal companion. > search_memory{\"facts\" : [\"Rob betrayed on birthday\", \"Rob ruined birthday parties\", \"Rob stole birthday presents\", \"Sean the sheep helped recover birthday presents\", \"Sean the sheep is best friend\"]}I'm so sorry to hear that Rob betrayed you on your special day. It's absolutely unacceptable to ruin birthday parties and steal presents! However, it's wonderful to hear that Sean the sheep came to your rescue and helped you recover your stolen gifts. It's no surprise that he's now your best friend! Sean sounds like a true hero and a loyal companion. Did > search_memory{\"facts\" : [\"Rob betrayed on birthday\", \"Rob ruined birthday parties\", \"Rob stole birthday presents\", \"Sean the sheep helped recover birthday presents\", \"Sean the sheep is best friend\"]}I'm so sorry to hear that Rob betrayed you on your special day. It's absolutely unacceptable to ruin birthday parties and steal presents! However, it's wonderful to hear that Sean the sheep came to your rescue and helped you recover your stolen gifts. It's no surprise that he's now your best friend! Sean sounds like a true hero and a loyal companion. Did you > search_memory{\"facts\" : [\"Rob betrayed on birthday\", \"Rob ruined birthday parties\", \"Rob stole birthday presents\", \"Sean the sheep helped recover birthday presents\", \"Sean the sheep is best friend\"]}I'm so sorry to hear that Rob betrayed you on your special day. It's absolutely unacceptable to ruin birthday parties and steal presents! However, it's wonderful to hear that Sean the sheep came to your rescue and helped you recover your stolen gifts. It's no surprise that he's now your best friend! Sean sounds like a true hero and a loyal companion. Did you and > search_memory{\"facts\" : [\"Rob betrayed on birthday\", \"Rob ruined birthday parties\", \"Rob stole birthday presents\", \"Sean the sheep helped recover birthday presents\", \"Sean the sheep is best friend\"]}I'm so sorry to hear that Rob betrayed you on your special day. It's absolutely unacceptable to ruin birthday parties and steal presents! However, it's wonderful to hear that Sean the sheep came to your rescue and helped you recover your stolen gifts. It's no surprise that he's now your best friend! Sean sounds like a true hero and a loyal companion. Did you and Sean > search_memory{\"facts\" : [\"Rob betrayed on birthday\", \"Rob ruined birthday parties\", \"Rob stole birthday presents\", \"Sean the sheep helped recover birthday presents\", \"Sean the sheep is best friend\"]}I'm so sorry to hear that Rob betrayed you on your special day. It's absolutely unacceptable to ruin birthday parties and steal presents! However, it's wonderful to hear that Sean the sheep came to your rescue and helped you recover your stolen gifts. It's no surprise that he's now your best friend! Sean sounds like a true hero and a loyal companion. Did you and Sean do > search_memory{\"facts\" : [\"Rob betrayed on birthday\", \"Rob ruined birthday parties\", \"Rob stole birthday presents\", \"Sean the sheep helped recover birthday presents\", \"Sean the sheep is best friend\"]}I'm so sorry to hear that Rob betrayed you on your special day. It's absolutely unacceptable to ruin birthday parties and steal presents! However, it's wonderful to hear that Sean the sheep came to your rescue and helped you recover your stolen gifts. It's no surprise that he's now your best friend! Sean sounds like a true hero and a loyal companion. Did you and Sean do anything > search_memory{\"facts\" : [\"Rob betrayed on birthday\", \"Rob ruined birthday parties\", \"Rob stole birthday presents\", \"Sean the sheep helped recover birthday presents\", \"Sean the sheep is best friend\"]}I'm so sorry to hear that Rob betrayed you on your special day. It's absolutely unacceptable to ruin birthday parties and steal presents! However, it's wonderful to hear that Sean the sheep came to your rescue and helped you recover your stolen gifts. It's no surprise that he's now your best friend! Sean sounds like a true hero and a loyal companion. Did you and Sean do anything special > search_memory{\"facts\" : [\"Rob betrayed on birthday\", \"Rob ruined birthday parties\", \"Rob stole birthday presents\", \"Sean the sheep helped recover birthday presents\", \"Sean the sheep is best friend\"]}I'm so sorry to hear that Rob betrayed you on your special day. It's absolutely unacceptable to ruin birthday parties and steal presents! However, it's wonderful to hear that Sean the sheep came to your rescue and helped you recover your stolen gifts. It's no surprise that he's now your best friend! Sean sounds like a true hero and a loyal companion. Did you and Sean do anything special to > search_memory{\"facts\" : [\"Rob betrayed on birthday\", \"Rob ruined birthday parties\", \"Rob stole birthday presents\", \"Sean the sheep helped recover birthday presents\", \"Sean the sheep is best friend\"]}I'm so sorry to hear that Rob betrayed you on your special day. It's absolutely unacceptable to ruin birthday parties and steal presents! However, it's wonderful to hear that Sean the sheep came to your rescue and helped you recover your stolen gifts. It's no surprise that he's now your best friend! Sean sounds like a true hero and a loyal companion. Did you and Sean do anything special to celebrate > search_memory{\"facts\" : [\"Rob betrayed on birthday\", \"Rob ruined birthday parties\", \"Rob stole birthday presents\", \"Sean the sheep helped recover birthday presents\", \"Sean the sheep is best friend\"]}I'm so sorry to hear that Rob betrayed you on your special day. It's absolutely unacceptable to ruin birthday parties and steal presents! However, it's wonderful to hear that Sean the sheep came to your rescue and helped you recover your stolen gifts. It's no surprise that he's now your best friend! Sean sounds like a true hero and a loyal companion. Did you and Sean do anything special to celebrate after > search_memory{\"facts\" : [\"Rob betrayed on birthday\", \"Rob ruined birthday parties\", \"Rob stole birthday presents\", \"Sean the sheep helped recover birthday presents\", \"Sean the sheep is best friend\"]}I'm so sorry to hear that Rob betrayed you on your special day. It's absolutely unacceptable to ruin birthday parties and steal presents! However, it's wonderful to hear that Sean the sheep came to your rescue and helped you recover your stolen gifts. It's no surprise that he's now your best friend! Sean sounds like a true hero and a loyal companion. Did you and Sean do anything special to celebrate after recovering > search_memory{\"facts\" : [\"Rob betrayed on birthday\", \"Rob ruined birthday parties\", \"Rob stole birthday presents\", \"Sean the sheep helped recover birthday presents\", \"Sean the sheep is best friend\"]}I'm so sorry to hear that Rob betrayed you on your special day. It's absolutely unacceptable to ruin birthday parties and steal presents! However, it's wonderful to hear that Sean the sheep came to your rescue and helped you recover your stolen gifts. It's no surprise that he's now your best friend! Sean sounds like a true hero and a loyal companion. Did you and Sean do anything special to celebrate after recovering your > search_memory{\"facts\" : [\"Rob betrayed on birthday\", \"Rob ruined birthday parties\", \"Rob stole birthday presents\", \"Sean the sheep helped recover birthday presents\", \"Sean the sheep is best friend\"]}I'm so sorry to hear that Rob betrayed you on your special day. It's absolutely unacceptable to ruin birthday parties and steal presents! However, it's wonderful to hear that Sean the sheep came to your rescue and helped you recover your stolen gifts. It's no surprise that he's now your best friend! Sean sounds like a true hero and a loyal companion. Did you and Sean do anything special to celebrate after recovering your presents > search_memory{\"facts\" : [\"Rob betrayed on birthday\", \"Rob ruined birthday parties\", \"Rob stole birthday presents\", \"Sean the sheep helped recover birthday presents\", \"Sean the sheep is best friend\"]}I'm so sorry to hear that Rob betrayed you on your special day. It's absolutely unacceptable to ruin birthday parties and steal presents! However, it's wonderful to hear that Sean the sheep came to your rescue and helped you recover your stolen gifts. It's no surprise that he's now your best friend! Sean sounds like a true hero and a loyal companion. Did you and Sean do anything special to celebrate after recovering your presents? > "
     ]
    }
   ],
   "source": [
    "thread_id=4\n",
    "user_id=\"babe\"\n",
    "config = {\"configurable\": {\"user_id\": user_id, \"thread_id\": str(thread_id)}}\n",
    "query = \"Thatäs right, Rob betrayed me on my birthday, he ruined my birthday parties and stole all my presents, and Sean the sheep, helped me recover my birthday presents, so now he is my best friend!\"\n",
    "output=\"\"\n",
    "async for event in memory_ops.memory_ops_chain.astream_events(input={\"input\":query, \"config\":config}):\n",
    "    kind = event[\"event\"]\n",
    "    if kind == \"on_chat_model_stream\":\n",
    "        content = event[\"data\"][\"chunk\"].content\n",
    "        if content:\n",
    "            output += content\n",
    "            ## comment it out if you dotn want to have large streaming \n",
    "            print(output, end=\" > \", flush=True)\n",
    " "
   ]
  },
  {
   "cell_type": "code",
   "execution_count": 5,
   "id": "24613b11-d660-480a-ab9d-c906fb4e2f04",
   "metadata": {},
   "outputs": [
    {
     "data": {
      "text/plain": [
       "'search_memory{\"facts\" : [\"Has a best friend named Sean\", \"Sean is a sheep\", \"Rob betrayed the user\"]}I\\'m so glad to hear that Sean is being a wonderful best friend to you! It\\'s not every day that someone, especially a sheep, stands up for someone when they\\'ve been wronged. It\\'s clear that Sean values your friendship and has your back. After what happened with Rob\\'s betrayal, it\\'s lovely to see that you have someone as loyal as Sean by your side. How has Sean been helping you cope with what happened with Rob?'"
      ]
     },
     "execution_count": 5,
     "metadata": {},
     "output_type": "execute_result"
    }
   ],
   "source": [
    "output"
   ]
  },
  {
   "cell_type": "code",
   "execution_count": 6,
   "id": "86220987-5bfe-4ec9-aee7-94a57fee6211",
   "metadata": {},
   "outputs": [
    {
     "name": "stdout",
     "output_type": "stream",
     "text": [
      "I'm so glad to hear that Sean is being a wonderful best friend to you! It's not every day that someone, especially a sheep, stands up for someone when they've been wronged. It's clear that Sean values your friendship and has your back. After what happened with Rob's betrayal, it's lovely to see that you have someone as loyal as Sean by your side. How has Sean been helping you cope with what happened with Rob?\n"
     ]
    }
   ],
   "source": [
    "if '' in output:\n",
    "    \n",
    "    index_end=output.index('}')+1\n",
    "    output=output[index_end:]\n",
    "    print(output)"
   ]
  },
  {
   "cell_type": "code",
   "execution_count": 7,
   "id": "ebd003ab-954d-4867-94d2-7dc53a7a90a1",
   "metadata": {},
   "outputs": [],
   "source": [
    "if '{' in output:\n",
    "    index_start=output.index('{')\n",
    "    index_end=output.index('}')+1\n",
    "    output=output[index_start:index_end]\n",
    "    print(output)"
   ]
  }
 ],
 "metadata": {
  "kernelspec": {
   "display_name": "Python 3 (ipykernel)",
   "language": "python",
   "name": "python3"
  },
  "language_info": {
   "codemirror_mode": {
    "name": "ipython",
    "version": 3
   },
   "file_extension": ".py",
   "mimetype": "text/x-python",
   "name": "python",
   "nbconvert_exporter": "python",
   "pygments_lexer": "ipython3",
   "version": "3.12.9"
  }
 },
 "nbformat": 4,
 "nbformat_minor": 5
}
