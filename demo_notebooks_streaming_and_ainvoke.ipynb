{
 "cells": [
  {
   "cell_type": "code",
   "execution_count": 1,
   "id": "8f68ec4d-f026-4526-ade2-905d12f71326",
   "metadata": {},
   "outputs": [],
   "source": [
    "import os\n",
    "## setting environment variables streaming to be no = False, Yes = True\n",
    "os.environ[\"stream\"]=\"No\""
   ]
  },
  {
   "cell_type": "code",
   "execution_count": null,
   "id": "ec3b6105-ee8c-4919-a09a-6ffc364b9e53",
   "metadata": {},
   "outputs": [],
   "source": []
  },
  {
   "cell_type": "markdown",
   "id": "5d18b463-bcd2-4f1b-859a-0901f7c80ab9",
   "metadata": {},
   "source": [
    "## import memory operation manager"
   ]
  },
  {
   "cell_type": "code",
   "execution_count": 2,
   "id": "00e5b74d-ce56-43ed-a7be-bb2e59832eaf",
   "metadata": {},
   "outputs": [
    {
     "name": "stdout",
     "output_type": "stream",
     "text": [
      "existing NVIDIA_API_KEY in the environment  nvapi-h\n",
      "using streaming :  No\n",
      "using streaming :  No\n",
      "using streaming in MemoryHandler class ? False\n"
     ]
    }
   ],
   "source": [
    "from utils import MemoryOps\n",
    "from langchain_nvidia_ai_endpoints import ChatNVIDIA, NVIDIAEmbeddings, NVIDIARerank\n",
    "\n",
    "import os\n",
    "## tested working models \n",
    "# meta/llama-3.1-405b-instruct\n",
    "# nvidia/llama-3.1-nemotron-51b-instruct\n",
    "llm= ChatNVIDIA(model=\"nvidia/llama-3.1-nemotron-51b-instruct\",max_completion_tokens=4096, temperature=0.6)\n",
    "embed = NVIDIAEmbeddings(model=\"nvidia/nv-embedqa-mistral-7b-v2\",truncate=\"NONE\",)\n",
    "if os.getenv(\"stream\") :\n",
    "    stream_flag = os.getenv(\"stream\")\n",
    "    if stream_flag.lower()==\"yes\":\n",
    "        use_streaming = True\n",
    "    else:\n",
    "        use_streaming = False\n",
    "    print(\"using streaming : \", os.getenv(\"stream\"))\n",
    "else:\n",
    "    use_streaming = False\n",
    "    print(\"no environment variable set\")\n",
    "\n",
    "memory_ops=MemoryOps(llm,embed,use_streaming )"
   ]
  },
  {
   "cell_type": "code",
   "execution_count": null,
   "id": "953d637b-6192-4d21-9804-a14e0054a2ef",
   "metadata": {},
   "outputs": [],
   "source": []
  },
  {
   "cell_type": "markdown",
   "id": "992cd901-652c-4eff-acdd-6f818e10ecf3",
   "metadata": {},
   "source": [
    "## invoke without streaming "
   ]
  },
  {
   "cell_type": "code",
   "execution_count": 3,
   "id": "fe86399b-17fb-414d-9179-2478aea52688",
   "metadata": {},
   "outputs": [
    {
     "name": "stdout",
     "output_type": "stream",
     "text": [
      "\u001b[92msearching memories for user_id=babe with query = hi, my name is Babe, I am a pig and I can talk, my best friend is a chicken named Rob. \u001b[39m\n",
      "use ainvoke, NO streaming !\n",
      "\u001b[95mmemory items extracted from user query =\n",
      " {'facts': ['Name is Babe', 'Is a Pig', 'Can talk', 'Best friend is a Chicken named Rob']} \u001b[39m\n",
      "\u001b[36mcreating memory items = {'facts': ['Name is Babe', 'Is a Pig', 'Can talk', 'Best friend is a Chicken named Rob']} \u001b[39m\n",
      "\u001b[34mexecuting memory operation =  search_memory \u001b[39m\n",
      "\u001b[92msearching memories for user_id=babe with query = hi, my name is Babe, I am a pig and I can talk, my best friend is a chicken named Rob. \u001b[39m\n",
      "\u001b[35mrecall memory items=\n",
      " ['Name is Babe'] \u001b[39m\n"
     ]
    },
    {
     "data": {
      "text/plain": [
       "\"Hello Babe, it's lovely to meet you. I've taken note that you're a pig with the amazing ability to talk, and you have a best friend named Rob who is a chicken. That's quite an interesting combination. How's life with Rob, and what kind of adventures do you two usually have together?\""
      ]
     },
     "execution_count": 3,
     "metadata": {},
     "output_type": "execute_result"
    }
   ],
   "source": [
    "\n",
    "## setting environment variable to use streaming Yes/No\n",
    "\n",
    "thread_id=0\n",
    "user_id=\"babe\"\n",
    "config = {\"configurable\": {\"user_id\": user_id, \"thread_id\": str(thread_id)}}\n",
    "query = \"hi, my name is Babe, I am a pig and I can talk, my best friend is a chicken named Rob.\"\n",
    "output = await memory_ops.memory_ops_chain.ainvoke(input={\"input\":query, \"config\":config})\n",
    "output"
   ]
  },
  {
   "cell_type": "code",
   "execution_count": null,
   "id": "49d36ac9-17e5-4241-b424-8a7b35e1b962",
   "metadata": {},
   "outputs": [],
   "source": []
  },
  {
   "cell_type": "code",
   "execution_count": 4,
   "id": "a4c5aa9e-499f-4f19-b0aa-1d33529d7387",
   "metadata": {},
   "outputs": [
    {
     "name": "stdout",
     "output_type": "stream",
     "text": [
      "\u001b[92msearching memories for user_id=babe with query = I had a fight with Rob, he is no longer my best friend ! \u001b[39m\n",
      "use ainvoke, NO streaming !\n",
      "\u001b[95mmemory items extracted from user query =\n",
      " {'facts': ['Had a fight with Rob', 'Rob is no longer best friend']} \u001b[39m\n",
      "\u001b[36mcreating memory items = {'facts': ['Had a fight with Rob', 'Rob is no longer best friend']} \u001b[39m\n",
      "\u001b[34mexecuting memory operation =  search_memory \u001b[39m\n",
      "\u001b[92msearching memories for user_id=babe with query = I had a fight with Rob, he is no longer my best friend ! \u001b[39m\n",
      "\u001b[35mrecall memory items=\n",
      " ['Had a fight with Rob', 'Name is Babe'] \u001b[39m\n"
     ]
    },
    {
     "data": {
      "text/plain": [
       "\"I'm so sorry to hear that, Babe. It sounds like you're going through a tough time. Having a falling out with someone close can be really painful. Would you like to talk about what happened with Rob?\""
      ]
     },
     "execution_count": 4,
     "metadata": {},
     "output_type": "execute_result"
    }
   ],
   "source": [
    "\n",
    "## setting environment variable to use streaming Yes/No\n",
    "\n",
    "thread_id=1\n",
    "user_id=\"babe\"\n",
    "config = {\"configurable\": {\"user_id\": user_id, \"thread_id\": str(thread_id)}}\n",
    "query = \"I had a fight with Rob, he is no longer my best friend !\"\n",
    "output = await memory_ops.memory_ops_chain.ainvoke(input={\"input\":query, \"config\":config})\n",
    "output"
   ]
  },
  {
   "cell_type": "code",
   "execution_count": 5,
   "id": "f5e5f520-b93c-46b3-8634-f9dca2a4a417",
   "metadata": {},
   "outputs": [
    {
     "name": "stdout",
     "output_type": "stream",
     "text": [
      "\u001b[92msearching memories for user_id=babe with query = Hey, do you remember if I am still friends with Rob the chicken? \u001b[39m\n",
      "use ainvoke, NO streaming !\n",
      "\u001b[95mmemory items extracted from user query =\n",
      " {'facts': []} \u001b[39m\n",
      "\u001b[36mcreating memory items = {'facts': []} \u001b[39m\n",
      "\u001b[34mexecuting memory operation =  search_memory \u001b[39m\n",
      "\u001b[92msearching memories for user_id=babe with query = Hey, do you remember if I am still friends with Rob the chicken? \u001b[39m\n",
      "\u001b[35mrecall memory items=\n",
      " ['Had a fight with Rob', 'Name is Babe'] \u001b[39m\n"
     ]
    },
    {
     "data": {
      "text/plain": [
       "\"I recall that you had a fight with Rob, but I'm not aware of Rob being a chicken. Actually, based on our previous conversations, I don't have any information about Rob being a chicken. If you'd like to talk about what happened with Rob, I'm here to listen!\""
      ]
     },
     "execution_count": 5,
     "metadata": {},
     "output_type": "execute_result"
    }
   ],
   "source": [
    "\n",
    "\n",
    "## setting environment variable to use streaming Yes/No\n",
    "\n",
    "thread_id=2\n",
    "user_id=\"babe\"\n",
    "config = {\"configurable\": {\"user_id\": user_id, \"thread_id\": str(thread_id)}}\n",
    "query = \"Hey, do you remember if I am still friends with Rob the chicken?\"\n",
    "output = await memory_ops.memory_ops_chain.ainvoke(input={\"input\":query, \"config\":config})\n",
    "output"
   ]
  },
  {
   "cell_type": "code",
   "execution_count": null,
   "id": "5e9e3083-4cc1-4423-addc-2a7a6148434d",
   "metadata": {},
   "outputs": [],
   "source": []
  },
  {
   "cell_type": "markdown",
   "id": "ef3ae36d-0c57-44c5-8bda-07ca99e8b915",
   "metadata": {},
   "source": [
    "----\n",
    "\n",
    "now reload it with streaming , recall we are now starting from zero memory since we had re-initiate the class MemoryOps \n",
    "in the future, we will integrate MilvusDB to save the vectorstore and optionally reload it when re-initializing the MemoryOps class"
   ]
  },
  {
   "cell_type": "code",
   "execution_count": 6,
   "id": "8fed0753-98e7-4ef5-89fd-4ce7d388a965",
   "metadata": {},
   "outputs": [
    {
     "name": "stdout",
     "output_type": "stream",
     "text": [
      "using streaming :  Yes\n",
      "using streaming in MemoryHandler class ? True\n"
     ]
    }
   ],
   "source": [
    "## now set environment variable before re-import\n",
    "import os\n",
    "os.environ[\"stream\"]=\"Yes\"\n",
    "\n",
    "if os.getenv(\"stream\") :\n",
    "    stream_flag = os.getenv(\"stream\")\n",
    "    if stream_flag.lower()==\"yes\":\n",
    "        use_streaming = True\n",
    "    else:\n",
    "        use_streaming = False\n",
    "    print(\"using streaming : \", os.getenv(\"stream\"))\n",
    "else:\n",
    "    use_streaming = False\n",
    "    print(\"no environment variable set\")\n",
    "memory_ops=MemoryOps(llm,embed,use_streaming )"
   ]
  },
  {
   "cell_type": "markdown",
   "id": "b316c0c3-3dcd-4621-973f-cc2510b9ff7c",
   "metadata": {},
   "source": [
    "## invoke with streaming "
   ]
  },
  {
   "cell_type": "code",
   "execution_count": 7,
   "id": "62764238-f5a9-4adf-af96-dc3217905bd1",
   "metadata": {},
   "outputs": [
    {
     "name": "stdout",
     "output_type": "stream",
     "text": [
      "\u001b[92msearching memories for user_id=babe with query = My new best friend is now Sean, he is a sheep and he stood up for me when Rob betrayed me. \u001b[39m\n",
      "use streaming : True \n",
      " streaming output > \n",
      "  \n",
      " streaming output > \n",
      "  \n",
      " streaming output > \n",
      "  \n",
      " streaming output > \n",
      "  \n",
      " streaming output > \n",
      "  \n",
      " streaming output > \n",
      "  \n",
      " streaming output > \n",
      "  {\"\n",
      " streaming output > \n",
      "  {\"\n",
      " streaming output > \n",
      "  {\"facts\n",
      "{\"factssearch\" >  streaming output > \n",
      "  {\"facts\"\n",
      "{\"factssearch\"_memory : >  streaming output > \n",
      "  {\"facts\" :\n",
      " streaming output > y : [\" > \n",
      "  {\"facts\" : [\"\n",
      " streaming output > \n",
      "  {\"facts\" : [\"\n",
      " streaming output > y : [\"New > \n",
      "  {\"facts\" : [\"New\n",
      " streaming output > \n",
      "  {\"facts\" : [\"New\n",
      " streaming output > y : [\"New best > \n",
      "  {\"facts\" : [\"New best\n",
      " streaming output > \n",
      "  {\"facts\" : [\"New best\n",
      " streaming output > y : [\"New best friend > \n",
      "  {\"facts\" : [\"New best friend\n",
      " streaming output > \n",
      "  {\"facts\" : [\"New best friend\n",
      " streaming output > y : [\"New best friend is > \n",
      "  {\"facts\" : [\"New best friend is\n",
      " streaming output > \n",
      "  {\"facts\" : [\"New best friend is\n",
      " streaming output > y : [\"New best friend is Sean > \n",
      "  {\"facts\" : [\"New best friend is Sean\n",
      " streaming output > \n",
      "  {\"facts\" : [\"New best friend is Sean\n",
      " streaming output > y : [\"New best friend is Sean\", > \n",
      "  {\"facts\" : [\"New best friend is Sean\",\n",
      " streaming output > y : [\"New best friend is Sean\", \" > \n",
      "  {\"facts\" : [\"New best friend is Sean\", \"\n",
      " streaming output > \n",
      "  {\"facts\" : [\"New best friend is Sean\", \"\n",
      " streaming output > y : [\"New best friend is Sean\", \"Sean > \n",
      "  {\"facts\" : [\"New best friend is Sean\", \"Sean\n",
      " streaming output > \n",
      "  {\"facts\" : [\"New best friend is Sean\", \"Sean\n",
      " streaming output > y : [\"New best friend is Sean\", \"Sean is > \n",
      "  {\"facts\" : [\"New best friend is Sean\", \"Sean is\n",
      " streaming output > \n",
      "  {\"facts\" : [\"New best friend is Sean\", \"Sean is\n",
      " streaming output > y : [\"New best friend is Sean\", \"Sean is a > \n",
      "  {\"facts\" : [\"New best friend is Sean\", \"Sean is a\n",
      " streaming output > \n",
      "  {\"facts\" : [\"New best friend is Sean\", \"Sean is a\n",
      " streaming output > y : [\"New best friend is Sean\", \"Sean is a sheep > \n",
      "  {\"facts\" : [\"New best friend is Sean\", \"Sean is a sheep\n",
      " streaming output > \n",
      "  {\"facts\" : [\"New best friend is Sean\", \"Sean is a sheep\n",
      " streaming output > y : [\"New best friend is Sean\", \"Sean is a sheep\", > \n",
      "  {\"facts\" : [\"New best friend is Sean\", \"Sean is a sheep\",\n",
      " streaming output > y : [\"New best friend is Sean\", \"Sean is a sheep\", \" > \n",
      "  {\"facts\" : [\"New best friend is Sean\", \"Sean is a sheep\", \"\n",
      " streaming output > \n",
      "  {\"facts\" : [\"New best friend is Sean\", \"Sean is a sheep\", \"\n",
      " streaming output > y : [\"New best friend is Sean\", \"Sean is a sheep\", \"Sean > \n",
      "  {\"facts\" : [\"New best friend is Sean\", \"Sean is a sheep\", \"Sean\n",
      " streaming output > \n",
      "  {\"facts\" : [\"New best friend is Sean\", \"Sean is a sheep\", \"Sean\n",
      " streaming output > y : [\"New best friend is Sean\", \"Sean is a sheep\", \"Sean stood > \n",
      "  {\"facts\" : [\"New best friend is Sean\", \"Sean is a sheep\", \"Sean stood\n",
      " streaming output > \n",
      "  {\"facts\" : [\"New best friend is Sean\", \"Sean is a sheep\", \"Sean stood\n",
      " streaming output > y : [\"New best friend is Sean\", \"Sean is a sheep\", \"Sean stood up > \n",
      "  {\"facts\" : [\"New best friend is Sean\", \"Sean is a sheep\", \"Sean stood up\n",
      " streaming output > \n",
      "  {\"facts\" : [\"New best friend is Sean\", \"Sean is a sheep\", \"Sean stood up\n",
      " streaming output > y : [\"New best friend is Sean\", \"Sean is a sheep\", \"Sean stood up when > \n",
      "  {\"facts\" : [\"New best friend is Sean\", \"Sean is a sheep\", \"Sean stood up when\n",
      " streaming output > \n",
      "  {\"facts\" : [\"New best friend is Sean\", \"Sean is a sheep\", \"Sean stood up when\n",
      " streaming output > y : [\"New best friend is Sean\", \"Sean is a sheep\", \"Sean stood up when Rob > \n",
      "  {\"facts\" : [\"New best friend is Sean\", \"Sean is a sheep\", \"Sean stood up when Rob\n",
      " streaming output > \n",
      "  {\"facts\" : [\"New best friend is Sean\", \"Sean is a sheep\", \"Sean stood up when Rob\n",
      " streaming output > y : [\"New best friend is Sean\", \"Sean is a sheep\", \"Sean stood up when Rob betrayed > \n",
      "  {\"facts\" : [\"New best friend is Sean\", \"Sean is a sheep\", \"Sean stood up when Rob betrayed\n",
      " streaming output > \n",
      "  {\"facts\" : [\"New best friend is Sean\", \"Sean is a sheep\", \"Sean stood up when Rob betrayed\n",
      " streaming output > y : [\"New best friend is Sean\", \"Sean is a sheep\", \"Sean stood up when Rob betrayed the > \n",
      "  {\"facts\" : [\"New best friend is Sean\", \"Sean is a sheep\", \"Sean stood up when Rob betrayed the\n",
      " streaming output > \n",
      "  {\"facts\" : [\"New best friend is Sean\", \"Sean is a sheep\", \"Sean stood up when Rob betrayed the\n",
      " streaming output > y : [\"New best friend is Sean\", \"Sean is a sheep\", \"Sean stood up when Rob betrayed the user > \n",
      "  {\"facts\" : [\"New best friend is Sean\", \"Sean is a sheep\", \"Sean stood up when Rob betrayed the user\n",
      " streaming output > \n",
      "  {\"facts\" : [\"New best friend is Sean\", \"Sean is a sheep\", \"Sean stood up when Rob betrayed the user\n",
      " streaming output > y : [\"New best friend is Sean\", \"Sean is a sheep\", \"Sean stood up when Rob betrayed the user\"]} > \n",
      "  {\"facts\" : [\"New best friend is Sean\", \"Sean is a sheep\", \"Sean stood up when Rob betrayed the user\"]}\n",
      " streaming output > \n",
      "  {\"facts\" : [\"New best friend is Sean\", \"Sean is a sheep\", \"Sean stood up when Rob betrayed the user\"]}\n",
      " streaming output > \n",
      "  {\"facts\" : [\"New best friend is Sean\", \"Sean is a sheep\", \"Sean stood up when Rob betrayed the user\"]}\n",
      " streaming output > \n",
      "  {\"facts\" : [\"New best friend is Sean\", \"Sean is a sheep\", \"Sean stood up when Rob betrayed the user\"]}\n",
      " streaming output > \n",
      "  {\"facts\" : [\"New best friend is Sean\", \"Sean is a sheep\", \"Sean stood up when Rob betrayed the user\"]}\n",
      "\u001b[36mcreating memory items = {\"facts\" : [\"New best friend is Sean\", \"Sean is a sheep\", \"Sean stood up when Rob betrayed the user\"]} \u001b[39m\n",
      "\u001b[34mexecuting memory operation =  search_memory \u001b[39m\n",
      "\u001b[92msearching memories for user_id=babe with query = My new best friend is now Sean, he is a sheep and he stood up for me when Rob betrayed me. \u001b[39m\n",
      "\u001b[35mrecall memory items=\n",
      " ['{\"facts\" : [\"New best friend is Sean\", \"Sean is a sheep\", \"Sean stood up when Rob betrayed the user\"]}'] \u001b[39m\n",
      "{\"factssearch\"_memory : [\"New best friend is Sean\", \"Sean is a sheep\", \"Sean stood up when Rob betrayed the user\"]}It > {\"factssearch\"_memory : [\"New best friend is Sean\", \"Sean is a sheep\", \"Sean stood up when Rob betrayed the user\"]}It's > {\"factssearch\"_memory : [\"New best friend is Sean\", \"Sean is a sheep\", \"Sean stood up when Rob betrayed the user\"]}It's great > {\"factssearch\"_memory : [\"New best friend is Sean\", \"Sean is a sheep\", \"Sean stood up when Rob betrayed the user\"]}It's great to > {\"factssearch\"_memory : [\"New best friend is Sean\", \"Sean is a sheep\", \"Sean stood up when Rob betrayed the user\"]}It's great to hear > {\"factssearch\"_memory : [\"New best friend is Sean\", \"Sean is a sheep\", \"Sean stood up when Rob betrayed the user\"]}It's great to hear that > {\"factssearch\"_memory : [\"New best friend is Sean\", \"Sean is a sheep\", \"Sean stood up when Rob betrayed the user\"]}It's great to hear that Sean > {\"factssearch\"_memory : [\"New best friend is Sean\", \"Sean is a sheep\", \"Sean stood up when Rob betrayed the user\"]}It's great to hear that Sean, > {\"factssearch\"_memory : [\"New best friend is Sean\", \"Sean is a sheep\", \"Sean stood up when Rob betrayed the user\"]}It's great to hear that Sean, the > {\"factssearch\"_memory : [\"New best friend is Sean\", \"Sean is a sheep\", \"Sean stood up when Rob betrayed the user\"]}It's great to hear that Sean, the sheep > {\"factssearch\"_memory : [\"New best friend is Sean\", \"Sean is a sheep\", \"Sean stood up when Rob betrayed the user\"]}It's great to hear that Sean, the sheep, > {\"factssearch\"_memory : [\"New best friend is Sean\", \"Sean is a sheep\", \"Sean stood up when Rob betrayed the user\"]}It's great to hear that Sean, the sheep, has > {\"factssearch\"_memory : [\"New best friend is Sean\", \"Sean is a sheep\", \"Sean stood up when Rob betrayed the user\"]}It's great to hear that Sean, the sheep, has your > {\"factssearch\"_memory : [\"New best friend is Sean\", \"Sean is a sheep\", \"Sean stood up when Rob betrayed the user\"]}It's great to hear that Sean, the sheep, has your back > {\"factssearch\"_memory : [\"New best friend is Sean\", \"Sean is a sheep\", \"Sean stood up when Rob betrayed the user\"]}It's great to hear that Sean, the sheep, has your back. > {\"factssearch\"_memory : [\"New best friend is Sean\", \"Sean is a sheep\", \"Sean stood up when Rob betrayed the user\"]}It's great to hear that Sean, the sheep, has your back. He > {\"factssearch\"_memory : [\"New best friend is Sean\", \"Sean is a sheep\", \"Sean stood up when Rob betrayed the user\"]}It's great to hear that Sean, the sheep, has your back. He sounds > {\"factssearch\"_memory : [\"New best friend is Sean\", \"Sean is a sheep\", \"Sean stood up when Rob betrayed the user\"]}It's great to hear that Sean, the sheep, has your back. He sounds like > {\"factssearch\"_memory : [\"New best friend is Sean\", \"Sean is a sheep\", \"Sean stood up when Rob betrayed the user\"]}It's great to hear that Sean, the sheep, has your back. He sounds like a > {\"factssearch\"_memory : [\"New best friend is Sean\", \"Sean is a sheep\", \"Sean stood up when Rob betrayed the user\"]}It's great to hear that Sean, the sheep, has your back. He sounds like a very > {\"factssearch\"_memory : [\"New best friend is Sean\", \"Sean is a sheep\", \"Sean stood up when Rob betrayed the user\"]}It's great to hear that Sean, the sheep, has your back. He sounds like a very loyal > {\"factssearch\"_memory : [\"New best friend is Sean\", \"Sean is a sheep\", \"Sean stood up when Rob betrayed the user\"]}It's great to hear that Sean, the sheep, has your back. He sounds like a very loyal friend > {\"factssearch\"_memory : [\"New best friend is Sean\", \"Sean is a sheep\", \"Sean stood up when Rob betrayed the user\"]}It's great to hear that Sean, the sheep, has your back. He sounds like a very loyal friend, > {\"factssearch\"_memory : [\"New best friend is Sean\", \"Sean is a sheep\", \"Sean stood up when Rob betrayed the user\"]}It's great to hear that Sean, the sheep, has your back. He sounds like a very loyal friend, especially > {\"factssearch\"_memory : [\"New best friend is Sean\", \"Sean is a sheep\", \"Sean stood up when Rob betrayed the user\"]}It's great to hear that Sean, the sheep, has your back. He sounds like a very loyal friend, especially after > {\"factssearch\"_memory : [\"New best friend is Sean\", \"Sean is a sheep\", \"Sean stood up when Rob betrayed the user\"]}It's great to hear that Sean, the sheep, has your back. He sounds like a very loyal friend, especially after what > {\"factssearch\"_memory : [\"New best friend is Sean\", \"Sean is a sheep\", \"Sean stood up when Rob betrayed the user\"]}It's great to hear that Sean, the sheep, has your back. He sounds like a very loyal friend, especially after what happened > {\"factssearch\"_memory : [\"New best friend is Sean\", \"Sean is a sheep\", \"Sean stood up when Rob betrayed the user\"]}It's great to hear that Sean, the sheep, has your back. He sounds like a very loyal friend, especially after what happened with > {\"factssearch\"_memory : [\"New best friend is Sean\", \"Sean is a sheep\", \"Sean stood up when Rob betrayed the user\"]}It's great to hear that Sean, the sheep, has your back. He sounds like a very loyal friend, especially after what happened with Rob > {\"factssearch\"_memory : [\"New best friend is Sean\", \"Sean is a sheep\", \"Sean stood up when Rob betrayed the user\"]}It's great to hear that Sean, the sheep, has your back. He sounds like a very loyal friend, especially after what happened with Rob. > {\"factssearch\"_memory : [\"New best friend is Sean\", \"Sean is a sheep\", \"Sean stood up when Rob betrayed the user\"]}It's great to hear that Sean, the sheep, has your back. He sounds like a very loyal friend, especially after what happened with Rob. I > {\"factssearch\"_memory : [\"New best friend is Sean\", \"Sean is a sheep\", \"Sean stood up when Rob betrayed the user\"]}It's great to hear that Sean, the sheep, has your back. He sounds like a very loyal friend, especially after what happened with Rob. I'm > {\"factssearch\"_memory : [\"New best friend is Sean\", \"Sean is a sheep\", \"Sean stood up when Rob betrayed the user\"]}It's great to hear that Sean, the sheep, has your back. He sounds like a very loyal friend, especially after what happened with Rob. I'm glad > {\"factssearch\"_memory : [\"New best friend is Sean\", \"Sean is a sheep\", \"Sean stood up when Rob betrayed the user\"]}It's great to hear that Sean, the sheep, has your back. He sounds like a very loyal friend, especially after what happened with Rob. I'm glad you > {\"factssearch\"_memory : [\"New best friend is Sean\", \"Sean is a sheep\", \"Sean stood up when Rob betrayed the user\"]}It's great to hear that Sean, the sheep, has your back. He sounds like a very loyal friend, especially after what happened with Rob. I'm glad you've > {\"factssearch\"_memory : [\"New best friend is Sean\", \"Sean is a sheep\", \"Sean stood up when Rob betrayed the user\"]}It's great to hear that Sean, the sheep, has your back. He sounds like a very loyal friend, especially after what happened with Rob. I'm glad you've found > {\"factssearch\"_memory : [\"New best friend is Sean\", \"Sean is a sheep\", \"Sean stood up when Rob betrayed the user\"]}It's great to hear that Sean, the sheep, has your back. He sounds like a very loyal friend, especially after what happened with Rob. I'm glad you've found someone > {\"factssearch\"_memory : [\"New best friend is Sean\", \"Sean is a sheep\", \"Sean stood up when Rob betrayed the user\"]}It's great to hear that Sean, the sheep, has your back. He sounds like a very loyal friend, especially after what happened with Rob. I'm glad you've found someone who > {\"factssearch\"_memory : [\"New best friend is Sean\", \"Sean is a sheep\", \"Sean stood up when Rob betrayed the user\"]}It's great to hear that Sean, the sheep, has your back. He sounds like a very loyal friend, especially after what happened with Rob. I'm glad you've found someone who will > {\"factssearch\"_memory : [\"New best friend is Sean\", \"Sean is a sheep\", \"Sean stood up when Rob betrayed the user\"]}It's great to hear that Sean, the sheep, has your back. He sounds like a very loyal friend, especially after what happened with Rob. I'm glad you've found someone who will stand > {\"factssearch\"_memory : [\"New best friend is Sean\", \"Sean is a sheep\", \"Sean stood up when Rob betrayed the user\"]}It's great to hear that Sean, the sheep, has your back. He sounds like a very loyal friend, especially after what happened with Rob. I'm glad you've found someone who will stand up > {\"factssearch\"_memory : [\"New best friend is Sean\", \"Sean is a sheep\", \"Sean stood up when Rob betrayed the user\"]}It's great to hear that Sean, the sheep, has your back. He sounds like a very loyal friend, especially after what happened with Rob. I'm glad you've found someone who will stand up for > {\"factssearch\"_memory : [\"New best friend is Sean\", \"Sean is a sheep\", \"Sean stood up when Rob betrayed the user\"]}It's great to hear that Sean, the sheep, has your back. He sounds like a very loyal friend, especially after what happened with Rob. I'm glad you've found someone who will stand up for you > {\"factssearch\"_memory : [\"New best friend is Sean\", \"Sean is a sheep\", \"Sean stood up when Rob betrayed the user\"]}It's great to hear that Sean, the sheep, has your back. He sounds like a very loyal friend, especially after what happened with Rob. I'm glad you've found someone who will stand up for you in > {\"factssearch\"_memory : [\"New best friend is Sean\", \"Sean is a sheep\", \"Sean stood up when Rob betrayed the user\"]}It's great to hear that Sean, the sheep, has your back. He sounds like a very loyal friend, especially after what happened with Rob. I'm glad you've found someone who will stand up for you in times > {\"factssearch\"_memory : [\"New best friend is Sean\", \"Sean is a sheep\", \"Sean stood up when Rob betrayed the user\"]}It's great to hear that Sean, the sheep, has your back. He sounds like a very loyal friend, especially after what happened with Rob. I'm glad you've found someone who will stand up for you in times of > {\"factssearch\"_memory : [\"New best friend is Sean\", \"Sean is a sheep\", \"Sean stood up when Rob betrayed the user\"]}It's great to hear that Sean, the sheep, has your back. He sounds like a very loyal friend, especially after what happened with Rob. I'm glad you've found someone who will stand up for you in times of need > {\"factssearch\"_memory : [\"New best friend is Sean\", \"Sean is a sheep\", \"Sean stood up when Rob betrayed the user\"]}It's great to hear that Sean, the sheep, has your back. He sounds like a very loyal friend, especially after what happened with Rob. I'm glad you've found someone who will stand up for you in times of need. > "
     ]
    }
   ],
   "source": [
    "thread_id=3\n",
    "user_id=\"babe\"\n",
    "config = {\"configurable\": {\"user_id\": user_id, \"thread_id\": str(thread_id)}}\n",
    "query = \"My new best friend is now Sean, he is a sheep and he stood up for me when Rob betrayed me.\"\n",
    "output=\"\"\n",
    "async for event in memory_ops.memory_ops_chain.astream_events(input={\"input\":query, \"config\":config}):\n",
    "    kind = event[\"event\"]\n",
    "    if kind == \"on_chat_model_stream\":\n",
    "        content = event[\"data\"][\"chunk\"].content\n",
    "        if content:\n",
    "            output += content\n",
    "            ## comment it out if you dotn want to have large streaming \n",
    "            print(output, end=\" > \", flush=True)\n",
    " "
   ]
  },
  {
   "cell_type": "code",
   "execution_count": 8,
   "id": "afb9581d-c99d-4ca3-8b09-cebb5f32a15f",
   "metadata": {},
   "outputs": [
    {
     "data": {
      "text/plain": [
       "'{\"factssearch\"_memory : [\"New best friend is Sean\", \"Sean is a sheep\", \"Sean stood up when Rob betrayed the user\"]}It\\'s great to hear that Sean, the sheep, has your back. He sounds like a very loyal friend, especially after what happened with Rob. I\\'m glad you\\'ve found someone who will stand up for you in times of need.'"
      ]
     },
     "execution_count": 8,
     "metadata": {},
     "output_type": "execute_result"
    }
   ],
   "source": [
    "output"
   ]
  },
  {
   "cell_type": "code",
   "execution_count": 9,
   "id": "b400e941-5b4c-4301-ba56-efc3524ab33d",
   "metadata": {},
   "outputs": [
    {
     "name": "stdout",
     "output_type": "stream",
     "text": [
      "\u001b[92msearching memories for user_id=babe with query = Thatäs right, Rob betrayed me on my birthday, he ruined my birthday parties and stole all my presents, and Sean the sheep, helped me recover my birthday presents, so now he is my best friend! \u001b[39m\n",
      "use streaming : True \n",
      " streaming output > \n",
      "  \n",
      " streaming output > \n",
      "  \n",
      " streaming output > \n",
      "  \n",
      " streaming output > \n",
      "  \n",
      " streaming output > \n",
      "  \n",
      " streaming output > \n",
      "  \n",
      " streaming output > \n",
      "  {\"\n",
      " streaming output > \n",
      "  {\"\n",
      " streaming output > \n",
      "  {\"facts\n",
      "{\"factssearch\" >  streaming output > \n",
      "  {\"facts\"\n",
      "{\"factssearch\"_memory : >  streaming output > \n",
      "  {\"facts\" :\n",
      " streaming output > y : [\" > \n",
      "  {\"facts\" : [\"\n",
      " streaming output > \n",
      "  {\"facts\" : [\"\n",
      " streaming output > y : [\"Rob > \n",
      "  {\"facts\" : [\"Rob\n",
      " streaming output > \n",
      "  {\"facts\" : [\"Rob\n",
      " streaming output > y : [\"Rob betrayed > \n",
      "  {\"facts\" : [\"Rob betrayed\n",
      " streaming output > \n",
      "  {\"facts\" : [\"Rob betrayed\n",
      " streaming output > y : [\"Rob betrayed on > \n",
      "  {\"facts\" : [\"Rob betrayed on\n",
      " streaming output > \n",
      "  {\"facts\" : [\"Rob betrayed on\n",
      " streaming output > y : [\"Rob betrayed on birthday > \n",
      "  {\"facts\" : [\"Rob betrayed on birthday\n",
      " streaming output > \n",
      "  {\"facts\" : [\"Rob betrayed on birthday\n",
      " streaming output > y : [\"Rob betrayed on birthday\", > \n",
      "  {\"facts\" : [\"Rob betrayed on birthday\",\n",
      " streaming output > y : [\"Rob betrayed on birthday\", \" > \n",
      "  {\"facts\" : [\"Rob betrayed on birthday\", \"\n",
      " streaming output > \n",
      "  {\"facts\" : [\"Rob betrayed on birthday\", \"\n",
      " streaming output > y : [\"Rob betrayed on birthday\", \"Rob > \n",
      "  {\"facts\" : [\"Rob betrayed on birthday\", \"Rob\n",
      " streaming output > \n",
      "  {\"facts\" : [\"Rob betrayed on birthday\", \"Rob\n",
      " streaming output > y : [\"Rob betrayed on birthday\", \"Rob ruined > \n",
      "  {\"facts\" : [\"Rob betrayed on birthday\", \"Rob ruined\n",
      " streaming output > \n",
      "  {\"facts\" : [\"Rob betrayed on birthday\", \"Rob ruined\n",
      " streaming output > y : [\"Rob betrayed on birthday\", \"Rob ruined birthday > \n",
      "  {\"facts\" : [\"Rob betrayed on birthday\", \"Rob ruined birthday\n",
      " streaming output > \n",
      "  {\"facts\" : [\"Rob betrayed on birthday\", \"Rob ruined birthday\n",
      " streaming output > y : [\"Rob betrayed on birthday\", \"Rob ruined birthday parties > \n",
      "  {\"facts\" : [\"Rob betrayed on birthday\", \"Rob ruined birthday parties\n",
      " streaming output > \n",
      "  {\"facts\" : [\"Rob betrayed on birthday\", \"Rob ruined birthday parties\n",
      " streaming output > y : [\"Rob betrayed on birthday\", \"Rob ruined birthday parties\", > \n",
      "  {\"facts\" : [\"Rob betrayed on birthday\", \"Rob ruined birthday parties\",\n",
      " streaming output > y : [\"Rob betrayed on birthday\", \"Rob ruined birthday parties\", \" > \n",
      "  {\"facts\" : [\"Rob betrayed on birthday\", \"Rob ruined birthday parties\", \"\n",
      " streaming output > \n",
      "  {\"facts\" : [\"Rob betrayed on birthday\", \"Rob ruined birthday parties\", \"\n",
      " streaming output > y : [\"Rob betrayed on birthday\", \"Rob ruined birthday parties\", \"Rob > \n",
      "  {\"facts\" : [\"Rob betrayed on birthday\", \"Rob ruined birthday parties\", \"Rob\n",
      " streaming output > \n",
      "  {\"facts\" : [\"Rob betrayed on birthday\", \"Rob ruined birthday parties\", \"Rob\n",
      " streaming output > y : [\"Rob betrayed on birthday\", \"Rob ruined birthday parties\", \"Rob stole > \n",
      "  {\"facts\" : [\"Rob betrayed on birthday\", \"Rob ruined birthday parties\", \"Rob stole\n",
      " streaming output > \n",
      "  {\"facts\" : [\"Rob betrayed on birthday\", \"Rob ruined birthday parties\", \"Rob stole\n",
      " streaming output > y : [\"Rob betrayed on birthday\", \"Rob ruined birthday parties\", \"Rob stole birthday > \n",
      "  {\"facts\" : [\"Rob betrayed on birthday\", \"Rob ruined birthday parties\", \"Rob stole birthday\n",
      " streaming output > \n",
      "  {\"facts\" : [\"Rob betrayed on birthday\", \"Rob ruined birthday parties\", \"Rob stole birthday\n",
      " streaming output > y : [\"Rob betrayed on birthday\", \"Rob ruined birthday parties\", \"Rob stole birthday presents > \n",
      "  {\"facts\" : [\"Rob betrayed on birthday\", \"Rob ruined birthday parties\", \"Rob stole birthday presents\n",
      " streaming output > \n",
      "  {\"facts\" : [\"Rob betrayed on birthday\", \"Rob ruined birthday parties\", \"Rob stole birthday presents\n",
      " streaming output > y : [\"Rob betrayed on birthday\", \"Rob ruined birthday parties\", \"Rob stole birthday presents\", > \n",
      "  {\"facts\" : [\"Rob betrayed on birthday\", \"Rob ruined birthday parties\", \"Rob stole birthday presents\",\n",
      " streaming output > y : [\"Rob betrayed on birthday\", \"Rob ruined birthday parties\", \"Rob stole birthday presents\", \" > \n",
      "  {\"facts\" : [\"Rob betrayed on birthday\", \"Rob ruined birthday parties\", \"Rob stole birthday presents\", \"\n",
      " streaming output > \n",
      "  {\"facts\" : [\"Rob betrayed on birthday\", \"Rob ruined birthday parties\", \"Rob stole birthday presents\", \"\n",
      " streaming output > y : [\"Rob betrayed on birthday\", \"Rob ruined birthday parties\", \"Rob stole birthday presents\", \"Sean > \n",
      "  {\"facts\" : [\"Rob betrayed on birthday\", \"Rob ruined birthday parties\", \"Rob stole birthday presents\", \"Sean\n",
      " streaming output > \n",
      "  {\"facts\" : [\"Rob betrayed on birthday\", \"Rob ruined birthday parties\", \"Rob stole birthday presents\", \"Sean\n",
      "{\"factssearch\"_memory : [\"Rob betrayed on birthday\", \"Rob ruined birthday parties\", \"Rob stole birthday presents\", \"Sean the >  streaming output > \n",
      "  {\"facts\" : [\"Rob betrayed on birthday\", \"Rob ruined birthday parties\", \"Rob stole birthday presents\", \"Sean the\n",
      " streaming output > \n",
      "  {\"facts\" : [\"Rob betrayed on birthday\", \"Rob ruined birthday parties\", \"Rob stole birthday presents\", \"Sean the\n",
      " streaming output > y : [\"Rob betrayed on birthday\", \"Rob ruined birthday parties\", \"Rob stole birthday presents\", \"Sean the sheep > \n",
      "  {\"facts\" : [\"Rob betrayed on birthday\", \"Rob ruined birthday parties\", \"Rob stole birthday presents\", \"Sean the sheep\n",
      " streaming output > \n",
      "  {\"facts\" : [\"Rob betrayed on birthday\", \"Rob ruined birthday parties\", \"Rob stole birthday presents\", \"Sean the sheep\n",
      " streaming output > y : [\"Rob betrayed on birthday\", \"Rob ruined birthday parties\", \"Rob stole birthday presents\", \"Sean the sheep helped > \n",
      "  {\"facts\" : [\"Rob betrayed on birthday\", \"Rob ruined birthday parties\", \"Rob stole birthday presents\", \"Sean the sheep helped\n",
      " streaming output > \n",
      "  {\"facts\" : [\"Rob betrayed on birthday\", \"Rob ruined birthday parties\", \"Rob stole birthday presents\", \"Sean the sheep helped\n",
      " streaming output > y : [\"Rob betrayed on birthday\", \"Rob ruined birthday parties\", \"Rob stole birthday presents\", \"Sean the sheep helped recover > \n",
      "  {\"facts\" : [\"Rob betrayed on birthday\", \"Rob ruined birthday parties\", \"Rob stole birthday presents\", \"Sean the sheep helped recover\n",
      " streaming output > \n",
      "  {\"facts\" : [\"Rob betrayed on birthday\", \"Rob ruined birthday parties\", \"Rob stole birthday presents\", \"Sean the sheep helped recover\n",
      " streaming output > y : [\"Rob betrayed on birthday\", \"Rob ruined birthday parties\", \"Rob stole birthday presents\", \"Sean the sheep helped recover birthday > \n",
      "  {\"facts\" : [\"Rob betrayed on birthday\", \"Rob ruined birthday parties\", \"Rob stole birthday presents\", \"Sean the sheep helped recover birthday\n",
      " streaming output > \n",
      "  {\"facts\" : [\"Rob betrayed on birthday\", \"Rob ruined birthday parties\", \"Rob stole birthday presents\", \"Sean the sheep helped recover birthday\n",
      " streaming output > y : [\"Rob betrayed on birthday\", \"Rob ruined birthday parties\", \"Rob stole birthday presents\", \"Sean the sheep helped recover birthday presents > \n",
      "  {\"facts\" : [\"Rob betrayed on birthday\", \"Rob ruined birthday parties\", \"Rob stole birthday presents\", \"Sean the sheep helped recover birthday presents\n",
      " streaming output > \n",
      "  {\"facts\" : [\"Rob betrayed on birthday\", \"Rob ruined birthday parties\", \"Rob stole birthday presents\", \"Sean the sheep helped recover birthday presents\n",
      " streaming output > y : [\"Rob betrayed on birthday\", \"Rob ruined birthday parties\", \"Rob stole birthday presents\", \"Sean the sheep helped recover birthday presents\", > \n",
      "  {\"facts\" : [\"Rob betrayed on birthday\", \"Rob ruined birthday parties\", \"Rob stole birthday presents\", \"Sean the sheep helped recover birthday presents\",\n",
      " streaming output > y : [\"Rob betrayed on birthday\", \"Rob ruined birthday parties\", \"Rob stole birthday presents\", \"Sean the sheep helped recover birthday presents\", \" > \n",
      "  {\"facts\" : [\"Rob betrayed on birthday\", \"Rob ruined birthday parties\", \"Rob stole birthday presents\", \"Sean the sheep helped recover birthday presents\", \"\n",
      " streaming output > \n",
      "  {\"facts\" : [\"Rob betrayed on birthday\", \"Rob ruined birthday parties\", \"Rob stole birthday presents\", \"Sean the sheep helped recover birthday presents\", \"\n",
      " streaming output > y : [\"Rob betrayed on birthday\", \"Rob ruined birthday parties\", \"Rob stole birthday presents\", \"Sean the sheep helped recover birthday presents\", \"Sean > \n",
      "  {\"facts\" : [\"Rob betrayed on birthday\", \"Rob ruined birthday parties\", \"Rob stole birthday presents\", \"Sean the sheep helped recover birthday presents\", \"Sean\n",
      " streaming output > \n",
      "  {\"facts\" : [\"Rob betrayed on birthday\", \"Rob ruined birthday parties\", \"Rob stole birthday presents\", \"Sean the sheep helped recover birthday presents\", \"Sean\n",
      " streaming output > y : [\"Rob betrayed on birthday\", \"Rob ruined birthday parties\", \"Rob stole birthday presents\", \"Sean the sheep helped recover birthday presents\", \"Sean the > \n",
      "  {\"facts\" : [\"Rob betrayed on birthday\", \"Rob ruined birthday parties\", \"Rob stole birthday presents\", \"Sean the sheep helped recover birthday presents\", \"Sean the\n",
      " streaming output > \n",
      "  {\"facts\" : [\"Rob betrayed on birthday\", \"Rob ruined birthday parties\", \"Rob stole birthday presents\", \"Sean the sheep helped recover birthday presents\", \"Sean the\n",
      " streaming output > y : [\"Rob betrayed on birthday\", \"Rob ruined birthday parties\", \"Rob stole birthday presents\", \"Sean the sheep helped recover birthday presents\", \"Sean the sheep > \n",
      "  {\"facts\" : [\"Rob betrayed on birthday\", \"Rob ruined birthday parties\", \"Rob stole birthday presents\", \"Sean the sheep helped recover birthday presents\", \"Sean the sheep\n",
      " streaming output > \n",
      "  {\"facts\" : [\"Rob betrayed on birthday\", \"Rob ruined birthday parties\", \"Rob stole birthday presents\", \"Sean the sheep helped recover birthday presents\", \"Sean the sheep\n",
      " streaming output > y : [\"Rob betrayed on birthday\", \"Rob ruined birthday parties\", \"Rob stole birthday presents\", \"Sean the sheep helped recover birthday presents\", \"Sean the sheep is > \n",
      "  {\"facts\" : [\"Rob betrayed on birthday\", \"Rob ruined birthday parties\", \"Rob stole birthday presents\", \"Sean the sheep helped recover birthday presents\", \"Sean the sheep is\n",
      " streaming output > \n",
      "  {\"facts\" : [\"Rob betrayed on birthday\", \"Rob ruined birthday parties\", \"Rob stole birthday presents\", \"Sean the sheep helped recover birthday presents\", \"Sean the sheep is\n",
      " streaming output > y : [\"Rob betrayed on birthday\", \"Rob ruined birthday parties\", \"Rob stole birthday presents\", \"Sean the sheep helped recover birthday presents\", \"Sean the sheep is best > \n",
      "  {\"facts\" : [\"Rob betrayed on birthday\", \"Rob ruined birthday parties\", \"Rob stole birthday presents\", \"Sean the sheep helped recover birthday presents\", \"Sean the sheep is best\n",
      " streaming output > \n",
      "  {\"facts\" : [\"Rob betrayed on birthday\", \"Rob ruined birthday parties\", \"Rob stole birthday presents\", \"Sean the sheep helped recover birthday presents\", \"Sean the sheep is best\n",
      " streaming output > y : [\"Rob betrayed on birthday\", \"Rob ruined birthday parties\", \"Rob stole birthday presents\", \"Sean the sheep helped recover birthday presents\", \"Sean the sheep is best friend > \n",
      "  {\"facts\" : [\"Rob betrayed on birthday\", \"Rob ruined birthday parties\", \"Rob stole birthday presents\", \"Sean the sheep helped recover birthday presents\", \"Sean the sheep is best friend\n",
      " streaming output > \n",
      "  {\"facts\" : [\"Rob betrayed on birthday\", \"Rob ruined birthday parties\", \"Rob stole birthday presents\", \"Sean the sheep helped recover birthday presents\", \"Sean the sheep is best friend\n",
      " streaming output > y : [\"Rob betrayed on birthday\", \"Rob ruined birthday parties\", \"Rob stole birthday presents\", \"Sean the sheep helped recover birthday presents\", \"Sean the sheep is best friend\"]} > \n",
      "  {\"facts\" : [\"Rob betrayed on birthday\", \"Rob ruined birthday parties\", \"Rob stole birthday presents\", \"Sean the sheep helped recover birthday presents\", \"Sean the sheep is best friend\"]}\n",
      " streaming output > \n",
      "  {\"facts\" : [\"Rob betrayed on birthday\", \"Rob ruined birthday parties\", \"Rob stole birthday presents\", \"Sean the sheep helped recover birthday presents\", \"Sean the sheep is best friend\"]}\n",
      " streaming output > \n",
      "  {\"facts\" : [\"Rob betrayed on birthday\", \"Rob ruined birthday parties\", \"Rob stole birthday presents\", \"Sean the sheep helped recover birthday presents\", \"Sean the sheep is best friend\"]}\n",
      " streaming output > \n",
      "  {\"facts\" : [\"Rob betrayed on birthday\", \"Rob ruined birthday parties\", \"Rob stole birthday presents\", \"Sean the sheep helped recover birthday presents\", \"Sean the sheep is best friend\"]}\n",
      " streaming output > \n",
      "  {\"facts\" : [\"Rob betrayed on birthday\", \"Rob ruined birthday parties\", \"Rob stole birthday presents\", \"Sean the sheep helped recover birthday presents\", \"Sean the sheep is best friend\"]}\n",
      "\u001b[36mcreating memory items = {\"facts\" : [\"Rob betrayed on birthday\", \"Rob ruined birthday parties\", \"Rob stole birthday presents\", \"Sean the sheep helped recover birthday presents\", \"Sean the sheep is best friend\"]} \u001b[39m\n",
      "\u001b[34mexecuting memory operation =  search_memory \u001b[39m\n",
      "\u001b[92msearching memories for user_id=babe with query = Thatäs right, Rob betrayed me on my birthday, he ruined my birthday parties and stole all my presents, and Sean the sheep, helped me recover my birthday presents, so now he is my best friend! \u001b[39m\n",
      "\u001b[35mrecall memory items=\n",
      " ['{\"facts\" : [\"Rob betrayed on birthday\", \"Rob ruined birthday parties\", \"Rob stole birthday presents\", \"Sean the sheep helped recover birthday presents\", \"Sean the sheep is best friend\"]}', '{\"facts\" : [\"New best friend is Sean\", \"Sean is a sheep\", \"Sean stood up when Rob betrayed the user\"]}'] \u001b[39m\n",
      "{\"factssearch\"_memory : [\"Rob betrayed on birthday\", \"Rob ruined birthday parties\", \"Rob stole birthday presents\", \"Sean the sheep helped recover birthday presents\", \"Sean the sheep is best friend\"]}I > {\"factssearch\"_memory : [\"Rob betrayed on birthday\", \"Rob ruined birthday parties\", \"Rob stole birthday presents\", \"Sean the sheep helped recover birthday presents\", \"Sean the sheep is best friend\"]}I remember > {\"factssearch\"_memory : [\"Rob betrayed on birthday\", \"Rob ruined birthday parties\", \"Rob stole birthday presents\", \"Sean the sheep helped recover birthday presents\", \"Sean the sheep is best friend\"]}I remember that > {\"factssearch\"_memory : [\"Rob betrayed on birthday\", \"Rob ruined birthday parties\", \"Rob stole birthday presents\", \"Sean the sheep helped recover birthday presents\", \"Sean the sheep is best friend\"]}I remember that Rob > {\"factssearch\"_memory : [\"Rob betrayed on birthday\", \"Rob ruined birthday parties\", \"Rob stole birthday presents\", \"Sean the sheep helped recover birthday presents\", \"Sean the sheep is best friend\"]}I remember that Rob's > {\"factssearch\"_memory : [\"Rob betrayed on birthday\", \"Rob ruined birthday parties\", \"Rob stole birthday presents\", \"Sean the sheep helped recover birthday presents\", \"Sean the sheep is best friend\"]}I remember that Rob's actions > {\"factssearch\"_memory : [\"Rob betrayed on birthday\", \"Rob ruined birthday parties\", \"Rob stole birthday presents\", \"Sean the sheep helped recover birthday presents\", \"Sean the sheep is best friend\"]}I remember that Rob's actions were > {\"factssearch\"_memory : [\"Rob betrayed on birthday\", \"Rob ruined birthday parties\", \"Rob stole birthday presents\", \"Sean the sheep helped recover birthday presents\", \"Sean the sheep is best friend\"]}I remember that Rob's actions were really > {\"factssearch\"_memory : [\"Rob betrayed on birthday\", \"Rob ruined birthday parties\", \"Rob stole birthday presents\", \"Sean the sheep helped recover birthday presents\", \"Sean the sheep is best friend\"]}I remember that Rob's actions were really hurt > {\"factssearch\"_memory : [\"Rob betrayed on birthday\", \"Rob ruined birthday parties\", \"Rob stole birthday presents\", \"Sean the sheep helped recover birthday presents\", \"Sean the sheep is best friend\"]}I remember that Rob's actions were really hurtful > {\"factssearch\"_memory : [\"Rob betrayed on birthday\", \"Rob ruined birthday parties\", \"Rob stole birthday presents\", \"Sean the sheep helped recover birthday presents\", \"Sean the sheep is best friend\"]}I remember that Rob's actions were really hurtful and > {\"factssearch\"_memory : [\"Rob betrayed on birthday\", \"Rob ruined birthday parties\", \"Rob stole birthday presents\", \"Sean the sheep helped recover birthday presents\", \"Sean the sheep is best friend\"]}I remember that Rob's actions were really hurtful and upsetting > {\"factssearch\"_memory : [\"Rob betrayed on birthday\", \"Rob ruined birthday parties\", \"Rob stole birthday presents\", \"Sean the sheep helped recover birthday presents\", \"Sean the sheep is best friend\"]}I remember that Rob's actions were really hurtful and upsetting. > {\"factssearch\"_memory : [\"Rob betrayed on birthday\", \"Rob ruined birthday parties\", \"Rob stole birthday presents\", \"Sean the sheep helped recover birthday presents\", \"Sean the sheep is best friend\"]}I remember that Rob's actions were really hurtful and upsetting. But > {\"factssearch\"_memory : [\"Rob betrayed on birthday\", \"Rob ruined birthday parties\", \"Rob stole birthday presents\", \"Sean the sheep helped recover birthday presents\", \"Sean the sheep is best friend\"]}I remember that Rob's actions were really hurtful and upsetting. But it > {\"factssearch\"_memory : [\"Rob betrayed on birthday\", \"Rob ruined birthday parties\", \"Rob stole birthday presents\", \"Sean the sheep helped recover birthday presents\", \"Sean the sheep is best friend\"]}I remember that Rob's actions were really hurtful and upsetting. But it's > {\"factssearch\"_memory : [\"Rob betrayed on birthday\", \"Rob ruined birthday parties\", \"Rob stole birthday presents\", \"Sean the sheep helped recover birthday presents\", \"Sean the sheep is best friend\"]}I remember that Rob's actions were really hurtful and upsetting. But it's wonderful > {\"factssearch\"_memory : [\"Rob betrayed on birthday\", \"Rob ruined birthday parties\", \"Rob stole birthday presents\", \"Sean the sheep helped recover birthday presents\", \"Sean the sheep is best friend\"]}I remember that Rob's actions were really hurtful and upsetting. But it's wonderful that > {\"factssearch\"_memory : [\"Rob betrayed on birthday\", \"Rob ruined birthday parties\", \"Rob stole birthday presents\", \"Sean the sheep helped recover birthday presents\", \"Sean the sheep is best friend\"]}I remember that Rob's actions were really hurtful and upsetting. But it's wonderful that Sean > {\"factssearch\"_memory : [\"Rob betrayed on birthday\", \"Rob ruined birthday parties\", \"Rob stole birthday presents\", \"Sean the sheep helped recover birthday presents\", \"Sean the sheep is best friend\"]}I remember that Rob's actions were really hurtful and upsetting. But it's wonderful that Sean the > {\"factssearch\"_memory : [\"Rob betrayed on birthday\", \"Rob ruined birthday parties\", \"Rob stole birthday presents\", \"Sean the sheep helped recover birthday presents\", \"Sean the sheep is best friend\"]}I remember that Rob's actions were really hurtful and upsetting. But it's wonderful that Sean the sheep > {\"factssearch\"_memory : [\"Rob betrayed on birthday\", \"Rob ruined birthday parties\", \"Rob stole birthday presents\", \"Sean the sheep helped recover birthday presents\", \"Sean the sheep is best friend\"]}I remember that Rob's actions were really hurtful and upsetting. But it's wonderful that Sean the sheep stepped > {\"factssearch\"_memory : [\"Rob betrayed on birthday\", \"Rob ruined birthday parties\", \"Rob stole birthday presents\", \"Sean the sheep helped recover birthday presents\", \"Sean the sheep is best friend\"]}I remember that Rob's actions were really hurtful and upsetting. But it's wonderful that Sean the sheep stepped in > {\"factssearch\"_memory : [\"Rob betrayed on birthday\", \"Rob ruined birthday parties\", \"Rob stole birthday presents\", \"Sean the sheep helped recover birthday presents\", \"Sean the sheep is best friend\"]}I remember that Rob's actions were really hurtful and upsetting. But it's wonderful that Sean the sheep stepped in to > {\"factssearch\"_memory : [\"Rob betrayed on birthday\", \"Rob ruined birthday parties\", \"Rob stole birthday presents\", \"Sean the sheep helped recover birthday presents\", \"Sean the sheep is best friend\"]}I remember that Rob's actions were really hurtful and upsetting. But it's wonderful that Sean the sheep stepped in to help > {\"factssearch\"_memory : [\"Rob betrayed on birthday\", \"Rob ruined birthday parties\", \"Rob stole birthday presents\", \"Sean the sheep helped recover birthday presents\", \"Sean the sheep is best friend\"]}I remember that Rob's actions were really hurtful and upsetting. But it's wonderful that Sean the sheep stepped in to help you > {\"factssearch\"_memory : [\"Rob betrayed on birthday\", \"Rob ruined birthday parties\", \"Rob stole birthday presents\", \"Sean the sheep helped recover birthday presents\", \"Sean the sheep is best friend\"]}I remember that Rob's actions were really hurtful and upsetting. But it's wonderful that Sean the sheep stepped in to help you recover > {\"factssearch\"_memory : [\"Rob betrayed on birthday\", \"Rob ruined birthday parties\", \"Rob stole birthday presents\", \"Sean the sheep helped recover birthday presents\", \"Sean the sheep is best friend\"]}I remember that Rob's actions were really hurtful and upsetting. But it's wonderful that Sean the sheep stepped in to help you recover your > {\"factssearch\"_memory : [\"Rob betrayed on birthday\", \"Rob ruined birthday parties\", \"Rob stole birthday presents\", \"Sean the sheep helped recover birthday presents\", \"Sean the sheep is best friend\"]}I remember that Rob's actions were really hurtful and upsetting. But it's wonderful that Sean the sheep stepped in to help you recover your birthday > {\"factssearch\"_memory : [\"Rob betrayed on birthday\", \"Rob ruined birthday parties\", \"Rob stole birthday presents\", \"Sean the sheep helped recover birthday presents\", \"Sean the sheep is best friend\"]}I remember that Rob's actions were really hurtful and upsetting. But it's wonderful that Sean the sheep stepped in to help you recover your birthday presents > {\"factssearch\"_memory : [\"Rob betrayed on birthday\", \"Rob ruined birthday parties\", \"Rob stole birthday presents\", \"Sean the sheep helped recover birthday presents\", \"Sean the sheep is best friend\"]}I remember that Rob's actions were really hurtful and upsetting. But it's wonderful that Sean the sheep stepped in to help you recover your birthday presents. > {\"factssearch\"_memory : [\"Rob betrayed on birthday\", \"Rob ruined birthday parties\", \"Rob stole birthday presents\", \"Sean the sheep helped recover birthday presents\", \"Sean the sheep is best friend\"]}I remember that Rob's actions were really hurtful and upsetting. But it's wonderful that Sean the sheep stepped in to help you recover your birthday presents. It > {\"factssearch\"_memory : [\"Rob betrayed on birthday\", \"Rob ruined birthday parties\", \"Rob stole birthday presents\", \"Sean the sheep helped recover birthday presents\", \"Sean the sheep is best friend\"]}I remember that Rob's actions were really hurtful and upsetting. But it's wonderful that Sean the sheep stepped in to help you recover your birthday presents. It's > {\"factssearch\"_memory : [\"Rob betrayed on birthday\", \"Rob ruined birthday parties\", \"Rob stole birthday presents\", \"Sean the sheep helped recover birthday presents\", \"Sean the sheep is best friend\"]}I remember that Rob's actions were really hurtful and upsetting. But it's wonderful that Sean the sheep stepped in to help you recover your birthday presents. It's clear > {\"factssearch\"_memory : [\"Rob betrayed on birthday\", \"Rob ruined birthday parties\", \"Rob stole birthday presents\", \"Sean the sheep helped recover birthday presents\", \"Sean the sheep is best friend\"]}I remember that Rob's actions were really hurtful and upsetting. But it's wonderful that Sean the sheep stepped in to help you recover your birthday presents. It's clear that > {\"factssearch\"_memory : [\"Rob betrayed on birthday\", \"Rob ruined birthday parties\", \"Rob stole birthday presents\", \"Sean the sheep helped recover birthday presents\", \"Sean the sheep is best friend\"]}I remember that Rob's actions were really hurtful and upsetting. But it's wonderful that Sean the sheep stepped in to help you recover your birthday presents. It's clear that Sean > {\"factssearch\"_memory : [\"Rob betrayed on birthday\", \"Rob ruined birthday parties\", \"Rob stole birthday presents\", \"Sean the sheep helped recover birthday presents\", \"Sean the sheep is best friend\"]}I remember that Rob's actions were really hurtful and upsetting. But it's wonderful that Sean the sheep stepped in to help you recover your birthday presents. It's clear that Sean is > {\"factssearch\"_memory : [\"Rob betrayed on birthday\", \"Rob ruined birthday parties\", \"Rob stole birthday presents\", \"Sean the sheep helped recover birthday presents\", \"Sean the sheep is best friend\"]}I remember that Rob's actions were really hurtful and upsetting. But it's wonderful that Sean the sheep stepped in to help you recover your birthday presents. It's clear that Sean is a > {\"factssearch\"_memory : [\"Rob betrayed on birthday\", \"Rob ruined birthday parties\", \"Rob stole birthday presents\", \"Sean the sheep helped recover birthday presents\", \"Sean the sheep is best friend\"]}I remember that Rob's actions were really hurtful and upsetting. But it's wonderful that Sean the sheep stepped in to help you recover your birthday presents. It's clear that Sean is a loyal > {\"factssearch\"_memory : [\"Rob betrayed on birthday\", \"Rob ruined birthday parties\", \"Rob stole birthday presents\", \"Sean the sheep helped recover birthday presents\", \"Sean the sheep is best friend\"]}I remember that Rob's actions were really hurtful and upsetting. But it's wonderful that Sean the sheep stepped in to help you recover your birthday presents. It's clear that Sean is a loyal and > {\"factssearch\"_memory : [\"Rob betrayed on birthday\", \"Rob ruined birthday parties\", \"Rob stole birthday presents\", \"Sean the sheep helped recover birthday presents\", \"Sean the sheep is best friend\"]}I remember that Rob's actions were really hurtful and upsetting. But it's wonderful that Sean the sheep stepped in to help you recover your birthday presents. It's clear that Sean is a loyal and trustworthy > {\"factssearch\"_memory : [\"Rob betrayed on birthday\", \"Rob ruined birthday parties\", \"Rob stole birthday presents\", \"Sean the sheep helped recover birthday presents\", \"Sean the sheep is best friend\"]}I remember that Rob's actions were really hurtful and upsetting. But it's wonderful that Sean the sheep stepped in to help you recover your birthday presents. It's clear that Sean is a loyal and trustworthy friend > {\"factssearch\"_memory : [\"Rob betrayed on birthday\", \"Rob ruined birthday parties\", \"Rob stole birthday presents\", \"Sean the sheep helped recover birthday presents\", \"Sean the sheep is best friend\"]}I remember that Rob's actions were really hurtful and upsetting. But it's wonderful that Sean the sheep stepped in to help you recover your birthday presents. It's clear that Sean is a loyal and trustworthy friend, > {\"factssearch\"_memory : [\"Rob betrayed on birthday\", \"Rob ruined birthday parties\", \"Rob stole birthday presents\", \"Sean the sheep helped recover birthday presents\", \"Sean the sheep is best friend\"]}I remember that Rob's actions were really hurtful and upsetting. But it's wonderful that Sean the sheep stepped in to help you recover your birthday presents. It's clear that Sean is a loyal and trustworthy friend, and > {\"factssearch\"_memory : [\"Rob betrayed on birthday\", \"Rob ruined birthday parties\", \"Rob stole birthday presents\", \"Sean the sheep helped recover birthday presents\", \"Sean the sheep is best friend\"]}I remember that Rob's actions were really hurtful and upsetting. But it's wonderful that Sean the sheep stepped in to help you recover your birthday presents. It's clear that Sean is a loyal and trustworthy friend, and it > {\"factssearch\"_memory : [\"Rob betrayed on birthday\", \"Rob ruined birthday parties\", \"Rob stole birthday presents\", \"Sean the sheep helped recover birthday presents\", \"Sean the sheep is best friend\"]}I remember that Rob's actions were really hurtful and upsetting. But it's wonderful that Sean the sheep stepped in to help you recover your birthday presents. It's clear that Sean is a loyal and trustworthy friend, and it's > {\"factssearch\"_memory : [\"Rob betrayed on birthday\", \"Rob ruined birthday parties\", \"Rob stole birthday presents\", \"Sean the sheep helped recover birthday presents\", \"Sean the sheep is best friend\"]}I remember that Rob's actions were really hurtful and upsetting. But it's wonderful that Sean the sheep stepped in to help you recover your birthday presents. It's clear that Sean is a loyal and trustworthy friend, and it's great > {\"factssearch\"_memory : [\"Rob betrayed on birthday\", \"Rob ruined birthday parties\", \"Rob stole birthday presents\", \"Sean the sheep helped recover birthday presents\", \"Sean the sheep is best friend\"]}I remember that Rob's actions were really hurtful and upsetting. But it's wonderful that Sean the sheep stepped in to help you recover your birthday presents. It's clear that Sean is a loyal and trustworthy friend, and it's great that > {\"factssearch\"_memory : [\"Rob betrayed on birthday\", \"Rob ruined birthday parties\", \"Rob stole birthday presents\", \"Sean the sheep helped recover birthday presents\", \"Sean the sheep is best friend\"]}I remember that Rob's actions were really hurtful and upsetting. But it's wonderful that Sean the sheep stepped in to help you recover your birthday presents. It's clear that Sean is a loyal and trustworthy friend, and it's great that you > {\"factssearch\"_memory : [\"Rob betrayed on birthday\", \"Rob ruined birthday parties\", \"Rob stole birthday presents\", \"Sean the sheep helped recover birthday presents\", \"Sean the sheep is best friend\"]}I remember that Rob's actions were really hurtful and upsetting. But it's wonderful that Sean the sheep stepped in to help you recover your birthday presents. It's clear that Sean is a loyal and trustworthy friend, and it's great that you consider > {\"factssearch\"_memory : [\"Rob betrayed on birthday\", \"Rob ruined birthday parties\", \"Rob stole birthday presents\", \"Sean the sheep helped recover birthday presents\", \"Sean the sheep is best friend\"]}I remember that Rob's actions were really hurtful and upsetting. But it's wonderful that Sean the sheep stepped in to help you recover your birthday presents. It's clear that Sean is a loyal and trustworthy friend, and it's great that you consider him > {\"factssearch\"_memory : [\"Rob betrayed on birthday\", \"Rob ruined birthday parties\", \"Rob stole birthday presents\", \"Sean the sheep helped recover birthday presents\", \"Sean the sheep is best friend\"]}I remember that Rob's actions were really hurtful and upsetting. But it's wonderful that Sean the sheep stepped in to help you recover your birthday presents. It's clear that Sean is a loyal and trustworthy friend, and it's great that you consider him your > {\"factssearch\"_memory : [\"Rob betrayed on birthday\", \"Rob ruined birthday parties\", \"Rob stole birthday presents\", \"Sean the sheep helped recover birthday presents\", \"Sean the sheep is best friend\"]}I remember that Rob's actions were really hurtful and upsetting. But it's wonderful that Sean the sheep stepped in to help you recover your birthday presents. It's clear that Sean is a loyal and trustworthy friend, and it's great that you consider him your best > {\"factssearch\"_memory : [\"Rob betrayed on birthday\", \"Rob ruined birthday parties\", \"Rob stole birthday presents\", \"Sean the sheep helped recover birthday presents\", \"Sean the sheep is best friend\"]}I remember that Rob's actions were really hurtful and upsetting. But it's wonderful that Sean the sheep stepped in to help you recover your birthday presents. It's clear that Sean is a loyal and trustworthy friend, and it's great that you consider him your best friend > {\"factssearch\"_memory : [\"Rob betrayed on birthday\", \"Rob ruined birthday parties\", \"Rob stole birthday presents\", \"Sean the sheep helped recover birthday presents\", \"Sean the sheep is best friend\"]}I remember that Rob's actions were really hurtful and upsetting. But it's wonderful that Sean the sheep stepped in to help you recover your birthday presents. It's clear that Sean is a loyal and trustworthy friend, and it's great that you consider him your best friend now > {\"factssearch\"_memory : [\"Rob betrayed on birthday\", \"Rob ruined birthday parties\", \"Rob stole birthday presents\", \"Sean the sheep helped recover birthday presents\", \"Sean the sheep is best friend\"]}I remember that Rob's actions were really hurtful and upsetting. But it's wonderful that Sean the sheep stepped in to help you recover your birthday presents. It's clear that Sean is a loyal and trustworthy friend, and it's great that you consider him your best friend now. > {\"factssearch\"_memory : [\"Rob betrayed on birthday\", \"Rob ruined birthday parties\", \"Rob stole birthday presents\", \"Sean the sheep helped recover birthday presents\", \"Sean the sheep is best friend\"]}I remember that Rob's actions were really hurtful and upsetting. But it's wonderful that Sean the sheep stepped in to help you recover your birthday presents. It's clear that Sean is a loyal and trustworthy friend, and it's great that you consider him your best friend now. By > {\"factssearch\"_memory : [\"Rob betrayed on birthday\", \"Rob ruined birthday parties\", \"Rob stole birthday presents\", \"Sean the sheep helped recover birthday presents\", \"Sean the sheep is best friend\"]}I remember that Rob's actions were really hurtful and upsetting. But it's wonderful that Sean the sheep stepped in to help you recover your birthday presents. It's clear that Sean is a loyal and trustworthy friend, and it's great that you consider him your best friend now. By the > {\"factssearch\"_memory : [\"Rob betrayed on birthday\", \"Rob ruined birthday parties\", \"Rob stole birthday presents\", \"Sean the sheep helped recover birthday presents\", \"Sean the sheep is best friend\"]}I remember that Rob's actions were really hurtful and upsetting. But it's wonderful that Sean the sheep stepped in to help you recover your birthday presents. It's clear that Sean is a loyal and trustworthy friend, and it's great that you consider him your best friend now. By the way > {\"factssearch\"_memory : [\"Rob betrayed on birthday\", \"Rob ruined birthday parties\", \"Rob stole birthday presents\", \"Sean the sheep helped recover birthday presents\", \"Sean the sheep is best friend\"]}I remember that Rob's actions were really hurtful and upsetting. But it's wonderful that Sean the sheep stepped in to help you recover your birthday presents. It's clear that Sean is a loyal and trustworthy friend, and it's great that you consider him your best friend now. By the way, > {\"factssearch\"_memory : [\"Rob betrayed on birthday\", \"Rob ruined birthday parties\", \"Rob stole birthday presents\", \"Sean the sheep helped recover birthday presents\", \"Sean the sheep is best friend\"]}I remember that Rob's actions were really hurtful and upsetting. But it's wonderful that Sean the sheep stepped in to help you recover your birthday presents. It's clear that Sean is a loyal and trustworthy friend, and it's great that you consider him your best friend now. By the way, I > {\"factssearch\"_memory : [\"Rob betrayed on birthday\", \"Rob ruined birthday parties\", \"Rob stole birthday presents\", \"Sean the sheep helped recover birthday presents\", \"Sean the sheep is best friend\"]}I remember that Rob's actions were really hurtful and upsetting. But it's wonderful that Sean the sheep stepped in to help you recover your birthday presents. It's clear that Sean is a loyal and trustworthy friend, and it's great that you consider him your best friend now. By the way, I recall > {\"factssearch\"_memory : [\"Rob betrayed on birthday\", \"Rob ruined birthday parties\", \"Rob stole birthday presents\", \"Sean the sheep helped recover birthday presents\", \"Sean the sheep is best friend\"]}I remember that Rob's actions were really hurtful and upsetting. But it's wonderful that Sean the sheep stepped in to help you recover your birthday presents. It's clear that Sean is a loyal and trustworthy friend, and it's great that you consider him your best friend now. By the way, I recall that > {\"factssearch\"_memory : [\"Rob betrayed on birthday\", \"Rob ruined birthday parties\", \"Rob stole birthday presents\", \"Sean the sheep helped recover birthday presents\", \"Sean the sheep is best friend\"]}I remember that Rob's actions were really hurtful and upsetting. But it's wonderful that Sean the sheep stepped in to help you recover your birthday presents. It's clear that Sean is a loyal and trustworthy friend, and it's great that you consider him your best friend now. By the way, I recall that Sean > {\"factssearch\"_memory : [\"Rob betrayed on birthday\", \"Rob ruined birthday parties\", \"Rob stole birthday presents\", \"Sean the sheep helped recover birthday presents\", \"Sean the sheep is best friend\"]}I remember that Rob's actions were really hurtful and upsetting. But it's wonderful that Sean the sheep stepped in to help you recover your birthday presents. It's clear that Sean is a loyal and trustworthy friend, and it's great that you consider him your best friend now. By the way, I recall that Sean also > {\"factssearch\"_memory : [\"Rob betrayed on birthday\", \"Rob ruined birthday parties\", \"Rob stole birthday presents\", \"Sean the sheep helped recover birthday presents\", \"Sean the sheep is best friend\"]}I remember that Rob's actions were really hurtful and upsetting. But it's wonderful that Sean the sheep stepped in to help you recover your birthday presents. It's clear that Sean is a loyal and trustworthy friend, and it's great that you consider him your best friend now. By the way, I recall that Sean also stood > {\"factssearch\"_memory : [\"Rob betrayed on birthday\", \"Rob ruined birthday parties\", \"Rob stole birthday presents\", \"Sean the sheep helped recover birthday presents\", \"Sean the sheep is best friend\"]}I remember that Rob's actions were really hurtful and upsetting. But it's wonderful that Sean the sheep stepped in to help you recover your birthday presents. It's clear that Sean is a loyal and trustworthy friend, and it's great that you consider him your best friend now. By the way, I recall that Sean also stood up > {\"factssearch\"_memory : [\"Rob betrayed on birthday\", \"Rob ruined birthday parties\", \"Rob stole birthday presents\", \"Sean the sheep helped recover birthday presents\", \"Sean the sheep is best friend\"]}I remember that Rob's actions were really hurtful and upsetting. But it's wonderful that Sean the sheep stepped in to help you recover your birthday presents. It's clear that Sean is a loyal and trustworthy friend, and it's great that you consider him your best friend now. By the way, I recall that Sean also stood up for > {\"factssearch\"_memory : [\"Rob betrayed on birthday\", \"Rob ruined birthday parties\", \"Rob stole birthday presents\", \"Sean the sheep helped recover birthday presents\", \"Sean the sheep is best friend\"]}I remember that Rob's actions were really hurtful and upsetting. But it's wonderful that Sean the sheep stepped in to help you recover your birthday presents. It's clear that Sean is a loyal and trustworthy friend, and it's great that you consider him your best friend now. By the way, I recall that Sean also stood up for you > {\"factssearch\"_memory : [\"Rob betrayed on birthday\", \"Rob ruined birthday parties\", \"Rob stole birthday presents\", \"Sean the sheep helped recover birthday presents\", \"Sean the sheep is best friend\"]}I remember that Rob's actions were really hurtful and upsetting. But it's wonderful that Sean the sheep stepped in to help you recover your birthday presents. It's clear that Sean is a loyal and trustworthy friend, and it's great that you consider him your best friend now. By the way, I recall that Sean also stood up for you when > {\"factssearch\"_memory : [\"Rob betrayed on birthday\", \"Rob ruined birthday parties\", \"Rob stole birthday presents\", \"Sean the sheep helped recover birthday presents\", \"Sean the sheep is best friend\"]}I remember that Rob's actions were really hurtful and upsetting. But it's wonderful that Sean the sheep stepped in to help you recover your birthday presents. It's clear that Sean is a loyal and trustworthy friend, and it's great that you consider him your best friend now. By the way, I recall that Sean also stood up for you when Rob > {\"factssearch\"_memory : [\"Rob betrayed on birthday\", \"Rob ruined birthday parties\", \"Rob stole birthday presents\", \"Sean the sheep helped recover birthday presents\", \"Sean the sheep is best friend\"]}I remember that Rob's actions were really hurtful and upsetting. But it's wonderful that Sean the sheep stepped in to help you recover your birthday presents. It's clear that Sean is a loyal and trustworthy friend, and it's great that you consider him your best friend now. By the way, I recall that Sean also stood up for you when Rob betrayed > {\"factssearch\"_memory : [\"Rob betrayed on birthday\", \"Rob ruined birthday parties\", \"Rob stole birthday presents\", \"Sean the sheep helped recover birthday presents\", \"Sean the sheep is best friend\"]}I remember that Rob's actions were really hurtful and upsetting. But it's wonderful that Sean the sheep stepped in to help you recover your birthday presents. It's clear that Sean is a loyal and trustworthy friend, and it's great that you consider him your best friend now. By the way, I recall that Sean also stood up for you when Rob betrayed you > {\"factssearch\"_memory : [\"Rob betrayed on birthday\", \"Rob ruined birthday parties\", \"Rob stole birthday presents\", \"Sean the sheep helped recover birthday presents\", \"Sean the sheep is best friend\"]}I remember that Rob's actions were really hurtful and upsetting. But it's wonderful that Sean the sheep stepped in to help you recover your birthday presents. It's clear that Sean is a loyal and trustworthy friend, and it's great that you consider him your best friend now. By the way, I recall that Sean also stood up for you when Rob betrayed you, > {\"factssearch\"_memory : [\"Rob betrayed on birthday\", \"Rob ruined birthday parties\", \"Rob stole birthday presents\", \"Sean the sheep helped recover birthday presents\", \"Sean the sheep is best friend\"]}I remember that Rob's actions were really hurtful and upsetting. But it's wonderful that Sean the sheep stepped in to help you recover your birthday presents. It's clear that Sean is a loyal and trustworthy friend, and it's great that you consider him your best friend now. By the way, I recall that Sean also stood up for you when Rob betrayed you, which > {\"factssearch\"_memory : [\"Rob betrayed on birthday\", \"Rob ruined birthday parties\", \"Rob stole birthday presents\", \"Sean the sheep helped recover birthday presents\", \"Sean the sheep is best friend\"]}I remember that Rob's actions were really hurtful and upsetting. But it's wonderful that Sean the sheep stepped in to help you recover your birthday presents. It's clear that Sean is a loyal and trustworthy friend, and it's great that you consider him your best friend now. By the way, I recall that Sean also stood up for you when Rob betrayed you, which shows > {\"factssearch\"_memory : [\"Rob betrayed on birthday\", \"Rob ruined birthday parties\", \"Rob stole birthday presents\", \"Sean the sheep helped recover birthday presents\", \"Sean the sheep is best friend\"]}I remember that Rob's actions were really hurtful and upsetting. But it's wonderful that Sean the sheep stepped in to help you recover your birthday presents. It's clear that Sean is a loyal and trustworthy friend, and it's great that you consider him your best friend now. By the way, I recall that Sean also stood up for you when Rob betrayed you, which shows what > {\"factssearch\"_memory : [\"Rob betrayed on birthday\", \"Rob ruined birthday parties\", \"Rob stole birthday presents\", \"Sean the sheep helped recover birthday presents\", \"Sean the sheep is best friend\"]}I remember that Rob's actions were really hurtful and upsetting. But it's wonderful that Sean the sheep stepped in to help you recover your birthday presents. It's clear that Sean is a loyal and trustworthy friend, and it's great that you consider him your best friend now. By the way, I recall that Sean also stood up for you when Rob betrayed you, which shows what a > {\"factssearch\"_memory : [\"Rob betrayed on birthday\", \"Rob ruined birthday parties\", \"Rob stole birthday presents\", \"Sean the sheep helped recover birthday presents\", \"Sean the sheep is best friend\"]}I remember that Rob's actions were really hurtful and upsetting. But it's wonderful that Sean the sheep stepped in to help you recover your birthday presents. It's clear that Sean is a loyal and trustworthy friend, and it's great that you consider him your best friend now. By the way, I recall that Sean also stood up for you when Rob betrayed you, which shows what a great > {\"factssearch\"_memory : [\"Rob betrayed on birthday\", \"Rob ruined birthday parties\", \"Rob stole birthday presents\", \"Sean the sheep helped recover birthday presents\", \"Sean the sheep is best friend\"]}I remember that Rob's actions were really hurtful and upsetting. But it's wonderful that Sean the sheep stepped in to help you recover your birthday presents. It's clear that Sean is a loyal and trustworthy friend, and it's great that you consider him your best friend now. By the way, I recall that Sean also stood up for you when Rob betrayed you, which shows what a great friend > {\"factssearch\"_memory : [\"Rob betrayed on birthday\", \"Rob ruined birthday parties\", \"Rob stole birthday presents\", \"Sean the sheep helped recover birthday presents\", \"Sean the sheep is best friend\"]}I remember that Rob's actions were really hurtful and upsetting. But it's wonderful that Sean the sheep stepped in to help you recover your birthday presents. It's clear that Sean is a loyal and trustworthy friend, and it's great that you consider him your best friend now. By the way, I recall that Sean also stood up for you when Rob betrayed you, which shows what a great friend he > {\"factssearch\"_memory : [\"Rob betrayed on birthday\", \"Rob ruined birthday parties\", \"Rob stole birthday presents\", \"Sean the sheep helped recover birthday presents\", \"Sean the sheep is best friend\"]}I remember that Rob's actions were really hurtful and upsetting. But it's wonderful that Sean the sheep stepped in to help you recover your birthday presents. It's clear that Sean is a loyal and trustworthy friend, and it's great that you consider him your best friend now. By the way, I recall that Sean also stood up for you when Rob betrayed you, which shows what a great friend he is > {\"factssearch\"_memory : [\"Rob betrayed on birthday\", \"Rob ruined birthday parties\", \"Rob stole birthday presents\", \"Sean the sheep helped recover birthday presents\", \"Sean the sheep is best friend\"]}I remember that Rob's actions were really hurtful and upsetting. But it's wonderful that Sean the sheep stepped in to help you recover your birthday presents. It's clear that Sean is a loyal and trustworthy friend, and it's great that you consider him your best friend now. By the way, I recall that Sean also stood up for you when Rob betrayed you, which shows what a great friend he is. > "
     ]
    }
   ],
   "source": [
    "thread_id=4\n",
    "user_id=\"babe\"\n",
    "config = {\"configurable\": {\"user_id\": user_id, \"thread_id\": str(thread_id)}}\n",
    "query = \"Thatäs right, Rob betrayed me on my birthday, he ruined my birthday parties and stole all my presents, and Sean the sheep, helped me recover my birthday presents, so now he is my best friend!\"\n",
    "output=\"\"\n",
    "async for event in memory_ops.memory_ops_chain.astream_events(input={\"input\":query, \"config\":config}):\n",
    "    kind = event[\"event\"]\n",
    "    if kind == \"on_chat_model_stream\":\n",
    "        content = event[\"data\"][\"chunk\"].content\n",
    "        if content:\n",
    "            output += content\n",
    "            ## comment it out if you dotn want to have large streaming \n",
    "            print(output, end=\" > \", flush=True)\n",
    " "
   ]
  },
  {
   "cell_type": "code",
   "execution_count": 10,
   "id": "24613b11-d660-480a-ab9d-c906fb4e2f04",
   "metadata": {},
   "outputs": [
    {
     "data": {
      "text/plain": [
       "'{\"factssearch\"_memory : [\"Rob betrayed on birthday\", \"Rob ruined birthday parties\", \"Rob stole birthday presents\", \"Sean the sheep helped recover birthday presents\", \"Sean the sheep is best friend\"]}I remember that Rob\\'s actions were really hurtful and upsetting. But it\\'s wonderful that Sean the sheep stepped in to help you recover your birthday presents. It\\'s clear that Sean is a loyal and trustworthy friend, and it\\'s great that you consider him your best friend now. By the way, I recall that Sean also stood up for you when Rob betrayed you, which shows what a great friend he is.'"
      ]
     },
     "execution_count": 10,
     "metadata": {},
     "output_type": "execute_result"
    }
   ],
   "source": [
    "output"
   ]
  },
  {
   "cell_type": "code",
   "execution_count": 11,
   "id": "86220987-5bfe-4ec9-aee7-94a57fee6211",
   "metadata": {},
   "outputs": [
    {
     "name": "stdout",
     "output_type": "stream",
     "text": [
      "I remember that Rob's actions were really hurtful and upsetting. But it's wonderful that Sean the sheep stepped in to help you recover your birthday presents. It's clear that Sean is a loyal and trustworthy friend, and it's great that you consider him your best friend now. By the way, I recall that Sean also stood up for you when Rob betrayed you, which shows what a great friend he is.\n"
     ]
    }
   ],
   "source": [
    "if '' in output:\n",
    "    \n",
    "    index_end=output.index('}')+1\n",
    "    output=output[index_end:]\n",
    "    print(output)"
   ]
  },
  {
   "cell_type": "code",
   "execution_count": null,
   "id": "ebd003ab-954d-4867-94d2-7dc53a7a90a1",
   "metadata": {},
   "outputs": [],
   "source": []
  }
 ],
 "metadata": {
  "kernelspec": {
   "display_name": "Python 3 (ipykernel)",
   "language": "python",
   "name": "python3"
  },
  "language_info": {
   "codemirror_mode": {
    "name": "ipython",
    "version": 3
   },
   "file_extension": ".py",
   "mimetype": "text/x-python",
   "name": "python",
   "nbconvert_exporter": "python",
   "pygments_lexer": "ipython3",
   "version": "3.12.9"
  }
 },
 "nbformat": 4,
 "nbformat_minor": 5
}
