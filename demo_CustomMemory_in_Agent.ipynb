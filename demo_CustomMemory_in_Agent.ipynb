{
 "cells": [
  {
   "cell_type": "code",
   "execution_count": 1,
   "id": "7b9bb6db-68a1-479d-98b6-02bfc8703233",
   "metadata": {},
   "outputs": [],
   "source": [
    "import json\n",
    "from typing import List, Literal, Optional\n",
    "\n",
    "import tiktoken\n",
    "from langchain_core.documents import Document\n",
    "from langchain_core.embeddings import Embeddings\n",
    "from langchain_core.messages import get_buffer_string\n",
    "from langchain_core.prompts import ChatPromptTemplate\n",
    "from langchain_core.runnables import RunnableConfig\n",
    "from langchain_core.tools import tool\n",
    "from langchain_core.vectorstores import InMemoryVectorStore\n",
    "from langchain_openai.embeddings import OpenAIEmbeddings\n",
    "\n",
    "from langgraph.checkpoint.memory import MemorySaver\n",
    "from langgraph.graph import END, START, MessagesState, StateGraph\n",
    "from langgraph.prebuilt import ToolNode\n",
    "import uuid\n",
    "\n",
    "\n",
    "from MemoryManager import MemoryHandler\n",
    "from langchain_nvidia_ai_endpoints import ChatNVIDIA, NVIDIAEmbeddings, NVIDIARerank\n",
    "import os\n",
    "\n",
    "llm= ChatNVIDIA(model=\"meta/llama-3.1-405b-instruct\")\n",
    "embed = NVIDIAEmbeddings(model=\"nvidia/nv-embedqa-mistral-7b-v2\",truncate=\"NONE\",)\n",
    "memory_manager=MemoryHandler(llm,embed)\n"
   ]
  },
  {
   "cell_type": "code",
   "execution_count": 2,
   "id": "46e6605f-f22c-409b-9acd-febf2b5b8bf9",
   "metadata": {},
   "outputs": [],
   "source": [
    "from langchain_core.runnables import RunnableLambda, RunnableParallel, RunnablePassthrough\n",
    "\n",
    "def mem_routing_function(inputs):\n",
    "    query=inputs[\"input\"]\n",
    "    config=inputs[\"config\"]\n",
    "    output=memory_manager.memory_routing(query, config)\n",
    "    return output\n",
    "\n",
    "\n",
    "def create_memory_items(inputs):\n",
    "    query=inputs[\"input\"]\n",
    "    memory_items = memory_manager.query_to_memory_items(query=query)\n",
    "    return memory_items\n",
    "\n",
    "runnable_parallel_1 = RunnableLambda(mem_routing_function)\n",
    "runnable_parallel_2 = RunnableLambda(create_memory_items)\n",
    "    \n",
    "\n",
    "def execute_memory_operations(inputs):\n",
    "    mem_ops=inputs[\"mem_ops\"]\n",
    "    memory_items_for_saving=inputs[\"mem_items\"][\"facts\"]\n",
    "    if 'save_memory' in mem_ops.lower():        \n",
    "        memories, ids=memory_manager.save_recall_memory(memory_items_for_saving, memory_manager.config)\n",
    "        output = ids\n",
    "    elif \"update_memory\" in mem_ops.lower():        \n",
    "        memories, ids = memory_manager.save_recall_memory(memory_items_for_saving, memory_manager.config)\n",
    "        output = ids\n",
    "    elif \"no operation\":\n",
    "        output=llm.invoke(query).content \n",
    "    return output\n",
    "\n",
    "sequence = RunnablePassthrough() | {  # this dict is coerced to a RunnableParallel\n",
    "    \"mem_ops\": runnable_parallel_1,\n",
    "    \"mem_items\": runnable_parallel_2\n",
    "    } | execute_memory_operations\n",
    "\n"
   ]
  },
  {
   "cell_type": "markdown",
   "id": "d6834afc-8771-420b-bbe4-e6691ff85116",
   "metadata": {},
   "source": [
    "## populating the memories via conversations "
   ]
  },
  {
   "cell_type": "code",
   "execution_count": 3,
   "id": "f730072a-8e91-4e0f-9caa-126dc6e7d48c",
   "metadata": {},
   "outputs": [
    {
     "data": {
      "text/plain": [
       "['4f2aa2e8-df34-4ee9-9f63-8291cce666e9',\n",
       " '64703875-a10c-4714-ad26-8589931867bf',\n",
       " 'abaa3db9-ebe4-4198-9d23-66694027aeeb',\n",
       " '1389022f-f35c-48e1-9e0d-87cdd189fd5a']"
      ]
     },
     "execution_count": 3,
     "metadata": {},
     "output_type": "execute_result"
    }
   ],
   "source": [
    "config = {\"configurable\": {\"user_id\": \"babe\", \"thread_id\": \"1\"}}\n",
    "memory_manager.config=config  \n",
    "\n",
    "parallel_output = sequence.invoke(input={\"input\":\"hi, my name is Babe, I am a pig and I can talk, my best friend is a chicken named Rob.\", \"config\":config})\n",
    "parallel_output"
   ]
  },
  {
   "cell_type": "code",
   "execution_count": 4,
   "id": "732e1782-8252-4ce6-9ef4-d33767a29953",
   "metadata": {},
   "outputs": [
    {
     "name": "stdout",
     "output_type": "stream",
     "text": [
      "not implemented error\n"
     ]
    },
    {
     "data": {
      "text/plain": [
       "['75a9837a-ed1a-434e-9412-ade4c8d17c77',\n",
       " 'f9496973-1ec9-4d80-9bf7-f9a0319ccede']"
      ]
     },
     "execution_count": 4,
     "metadata": {},
     "output_type": "execute_result"
    }
   ],
   "source": [
    "config = {\"configurable\": {\"user_id\": \"babe\", \"thread_id\": \"2\"}}\n",
    "memory_manager.config=config  \n",
    "\n",
    "parallel_output = sequence.invoke(input={\"input\":\"I had a fight with Rob, he is no longer my best friend !\", \"config\":config})\n",
    "parallel_output"
   ]
  },
  {
   "cell_type": "code",
   "execution_count": 5,
   "id": "7e7d643d-8ae6-40f1-aeb6-383c646719a8",
   "metadata": {},
   "outputs": [],
   "source": [
    "retriever = memory_manager.recall_vector_store.as_retriever(         search_type=\"similarity_score_threshold\",\n",
    "                                                            search_kwargs={'filter': {'user':'babe'}, {'score_threshold': 0.8}})\n",
    "\n"
   ]
  },
  {
   "cell_type": "markdown",
   "id": "b3728d0b-a2f5-42fe-ac7c-19f2eeb98de2",
   "metadata": {},
   "source": [
    "## wrap retriever into LLM"
   ]
  },
  {
   "cell_type": "code",
   "execution_count": 6,
   "id": "0f729558-35c0-474e-a72c-66bd5f236d4c",
   "metadata": {},
   "outputs": [],
   "source": [
    "prompt = ChatPromptTemplate.from_messages(\n",
    "            [\n",
    "                (\n",
    "                    \"system\",\n",
    "                    \"You are assistant with ability to memorize conversations from the user. You should always answer user query based on the following context:\\n<Documents>\\n{context}\\n</Documents>. \\\n",
    "                    Be polite and helpful.\",\n",
    "                ),\n",
    "                (\"user\", \"{input}\"),\n",
    "            ]\n",
    "        )\n",
    "retriever_chain = (\n",
    "    {\"context\": retriever, \"input\": RunnablePassthrough()}\n",
    "    | prompt\n",
    "    | llm \n",
    ")"
   ]
  },
  {
   "cell_type": "code",
   "execution_count": 8,
   "id": "3d508f17-6caf-4599-8c42-1d50d4318f1f",
   "metadata": {},
   "outputs": [
    {
     "data": {
      "text/plain": [
       "'I recall that you mentioned having a fight with Rob and also said that Rob is no longer your best friend. However, I also remember that you mentioned your best friend is a chicken named Rob. It seems there might be a bit of confusion or perhaps a change in your relationship with Rob.'"
      ]
     },
     "execution_count": 8,
     "metadata": {},
     "output_type": "execute_result"
    }
   ],
   "source": [
    "out=retriever_chain.invoke(\"do you remember if I am friend with Rob?\")\n",
    "out.content"
   ]
  }
 ],
 "metadata": {
  "kernelspec": {
   "display_name": "Python 3 (ipykernel)",
   "language": "python",
   "name": "python3"
  },
  "language_info": {
   "codemirror_mode": {
    "name": "ipython",
    "version": 3
   },
   "file_extension": ".py",
   "mimetype": "text/x-python",
   "name": "python",
   "nbconvert_exporter": "python",
   "pygments_lexer": "ipython3",
   "version": "3.12.9"
  }
 },
 "nbformat": 4,
 "nbformat_minor": 5
}
